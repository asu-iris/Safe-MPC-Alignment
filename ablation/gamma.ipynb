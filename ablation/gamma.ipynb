{
 "cells": [
  {
   "cell_type": "code",
   "execution_count": 1,
   "metadata": {},
   "outputs": [],
   "source": [
    "import os\n",
    "import sys\n",
    "import casadi as cd\n",
    "sys.path.append(os.path.abspath(os.path.dirname(os.getcwd())))\n",
    "sys.path.append(os.path.abspath(os.getcwd()))\n",
    "from Envs.pendulum import Pendulum_Env,Pendulum_Model\n",
    "from Solvers.OCsolver import ocsolver_v2\n",
    "from Solvers.Cutter import cutter_v2\n",
    "from Solvers.MVEsolver import mvesolver\n",
    "from utils.Correction import Correction_Agent\n",
    "import numpy as np\n",
    "from matplotlib import pyplot as plt"
   ]
  },
  {
   "cell_type": "code",
   "execution_count": 2,
   "metadata": {},
   "outputs": [],
   "source": [
    "def pendulum_eval(gamma=0.1):\n",
    "    # get dynamics, set up step cost and terminal cost\n",
    "    #0.05\n",
    "    p_model=Pendulum_Model(10,1,1,0.4,0.02)\n",
    "\n",
    "    P_matrix=np.array([[0.0,0],\n",
    "                   [0,0.0]])\n",
    "    T_matrix=np.array([[25,0],\n",
    "                   [0,10]])\n",
    "\n",
    "\n",
    "\n",
    "    dyn_func=p_model.get_dyn_f()\n",
    "    step_func=p_model.get_step_cost(P_matrix,0.1)\n",
    "    terminal_func=p_model.get_terminal_cost(T_matrix)\n",
    "\n",
    "    # set up safety features\n",
    "    Horizon=40\n",
    "    Gamma=gamma\n",
    "    def generate_phi():\n",
    "            traj=cd.SX.sym('xi',3*Horizon + 2)\n",
    "            phi=cd.vertcat(cd.DM(-3),traj[3:5])\n",
    "            return cd.Function('phi',[traj],[phi])\n",
    "\n",
    "    phi_func=generate_phi() #traj: [x,u,x,u,..,x] phi:[phi0, phi1, phi2]\n",
    "\n",
    "    lbs=np.array([-2,-2]) #-6\n",
    "    ubs=np.array([2,2])\n",
    "\n",
    "    weights_init=(lbs+ubs)/2\n",
    "    weights_H=np.array([0.6,1])\n",
    "\n",
    "    #construct environment\n",
    "    p_env=Pendulum_Env(10,1,1,0.4,0.02)\n",
    "    p_env.set_init_state(np.array([0,0]))\n",
    "    #p_env.set_noise(False)\n",
    "    #construct correction agent\n",
    "    agent=Correction_Agent('dummy')\n",
    "    agent.set_state_dim(2)\n",
    "    agent.set_ctrl_dim(1)\n",
    "    agent.set_dyn(dyn_func)\n",
    "    agent.set_step_cost(step_func)\n",
    "    agent.set_term_cost(terminal_func)\n",
    "    agent.set_g(phi_func,weights=weights_H,gamma=Gamma)\n",
    "    #agent.set_threshold(-0.1) #-0.5\n",
    "    agent.set_threshold(-1.0) #-0.5\n",
    "    agent.set_p(0.3)\n",
    "    agent.construct_graph(horizon=Horizon)\n",
    "\n",
    "    #construct controller\n",
    "    controller=ocsolver_v2('pendulum control')\n",
    "    controller.set_state_param(2,[-2*np.pi,-100],[2*np.pi,100])\n",
    "    controller.set_ctrl_param(1,[-1e10],[1e10])\n",
    "    controller.set_dyn(dyn_func)\n",
    "    controller.set_step_cost(step_func)\n",
    "    controller.set_term_cost(terminal_func)\n",
    "    #controller.construct_graph(horizon=Horizon)\n",
    "    controller.set_g(phi_func,gamma=Gamma)\n",
    "    controller.construct_prob(horizon=Horizon)\n",
    "\n",
    "    #construct cutter\n",
    "    hb_calculator=cutter_v2('pendulum cut')\n",
    "    hb_calculator.from_controller(controller)\n",
    "    hb_calculator.construct_graph(horizon=Horizon)\n",
    "\n",
    "    #construct MVESolver\n",
    "    mve_calc=mvesolver('pendulum_mve',2)\n",
    "\n",
    "    mve_calc.set_init_constraint(lbs, ubs) #Theta_0\n",
    "\n",
    "    learned_theta=np.array(weights_init)\n",
    "\n",
    "    #learning logs\n",
    "    theta_log=[np.array(weights_init)]\n",
    "    error_log=[np.linalg.norm(weights_init-weights_H)]\n",
    "\n",
    "    d_0,C_0=mve_calc.solve()\n",
    "    v_0=np.log(np.linalg.det(C_0))\n",
    "    volume_log=[v_0]\n",
    "\n",
    "    EPISODE=0\n",
    "    corr_num=0\n",
    "    termination_flag=False\n",
    "    while not termination_flag:\n",
    "        #print('episode',EPISODE)\n",
    "        # random init\n",
    "        init_state=np.array([0.,0.])\n",
    "        init_state[0] += np.random.uniform(0,2*np.pi/3)\n",
    "        init_state[1] += np.random.uniform(0,3)\n",
    "        p_env.set_init_state(init_state)\n",
    "        for i in range(200):\n",
    "            x=p_env.get_curr_state()\n",
    "            if np.sqrt(np.sum((x-np.array([np.pi,0]))**2)) <=0.15:\n",
    "                print('reached desired position')\n",
    "                break\n",
    "            #print(i)\n",
    "            u=controller.control(x,weights=learned_theta)\n",
    "            agent_output=agent.act(controller.opt_traj)\n",
    "            if agent_output is None:\n",
    "                #print('emergency stop')\n",
    "                break\n",
    "            elif type(agent_output)==bool:\n",
    "                pass\n",
    "            else:\n",
    "                corr_num+=1\n",
    "                h,b,h_phi,b_phi=hb_calculator.calc_planes(learned_theta,x,controller.opt_traj,np.sign(agent_output))\n",
    "                #print('cutting plane calculated')\n",
    "                #print('h',h)\n",
    "                #print('b',b)\n",
    "                #print('diff', h.T @ learned_theta - b)\n",
    "                #print('h_phi',h_phi)\n",
    "                #print('b_phi',b_phi)\n",
    "\n",
    "                mve_calc.add_constraint(h,b[0])\n",
    "                mve_calc.add_constraint(h_phi,b_phi[0])\n",
    "                learned_theta,C=mve_calc.solve()\n",
    "                #difference=np.linalg.norm(learned_theta-weights_H)\n",
    "                difference=learned_theta-weights_H\n",
    "                vol=np.log(np.linalg.det(C))\n",
    "                #print('leanred safety param',learned_theta)\n",
    "                theta_log.append(learned_theta)\n",
    "                #print('difference', difference)\n",
    "                error_log.append(np.linalg.norm(difference))\n",
    "                #print('volume', vol)\n",
    "                volume_log.append(vol)\n",
    "                #mve_calc.draw(C,learned_theta,weights_H)\n",
    "                #if np.max(np.abs(difference))<0.04:\n",
    "                if np.linalg.norm(difference) < 0.02:\n",
    "                    print(\"converged! Final Result: \",learned_theta)\n",
    "                    termination_flag=True\n",
    "                    break\n",
    "                \n",
    "                \n",
    "            p_env.step(u)\n",
    "        #p_env.show_animation()\n",
    "        EPISODE+=1\n",
    "\n",
    "    return theta_log, error_log, volume_log\n"
   ]
  },
  {
   "cell_type": "code",
   "execution_count": 3,
   "metadata": {},
   "outputs": [],
   "source": [
    "theta_logs=[]\n",
    "error_logs=[]\n",
    "volume_logs=[]\n",
    "lengths = []"
   ]
  },
  {
   "cell_type": "code",
   "execution_count": 4,
   "metadata": {},
   "outputs": [
    {
     "name": "stdout",
     "output_type": "stream",
     "text": [
      "eval num 0\n"
     ]
    },
    {
     "name": "stderr",
     "output_type": "stream",
     "text": [
      "CasADi - 2024-12-06 09:52:18 WARNING(\"solver:nlp_f failed: NaN detected for output f, at (row 0, col 0).\") [.../casadi/core/oracle_function.cpp:377]\n",
      "CasADi - 2024-12-06 09:52:18 WARNING(\"solver:nlp_f failed: NaN detected for output f, at (row 0, col 0).\") [.../casadi/core/oracle_function.cpp:377]\n",
      "CasADi - 2024-12-06 09:52:18 WARNING(\"solver:nlp_f failed: NaN detected for output f, at (row 0, col 0).\") [.../casadi/core/oracle_function.cpp:377]\n",
      "CasADi - 2024-12-06 09:52:18 WARNING(\"solver:nlp_f failed: NaN detected for output f, at (row 0, col 0).\") [.../casadi/core/oracle_function.cpp:377]\n",
      "CasADi - 2024-12-06 09:52:18 WARNING(\"solver:nlp_f failed: NaN detected for output f, at (row 0, col 0).\") [.../casadi/core/oracle_function.cpp:377]\n",
      "CasADi - 2024-12-06 09:52:18 WARNING(\"solver:nlp_f failed: NaN detected for output f, at (row 0, col 0).\") [.../casadi/core/oracle_function.cpp:377]\n",
      "CasADi - 2024-12-06 09:52:18 WARNING(\"solver:nlp_f failed: NaN detected for output f, at (row 0, col 0).\") [.../casadi/core/oracle_function.cpp:377]\n",
      "CasADi - 2024-12-06 09:52:18 WARNING(\"solver:nlp_f failed: NaN detected for output f, at (row 0, col 0).\") [.../casadi/core/oracle_function.cpp:377]\n",
      "CasADi - 2024-12-06 09:52:18 WARNING(\"solver:nlp_f failed: NaN detected for output f, at (row 0, col 0).\") [.../casadi/core/oracle_function.cpp:377]\n",
      "CasADi - 2024-12-06 09:52:18 WARNING(\"solver:nlp_f failed: NaN detected for output f, at (row 0, col 0).\") [.../casadi/core/oracle_function.cpp:377]\n",
      "CasADi - 2024-12-06 09:52:18 WARNING(\"solver:nlp_f failed: NaN detected for output f, at (row 0, col 0).\") [.../casadi/core/oracle_function.cpp:377]\n",
      "CasADi - 2024-12-06 09:52:18 WARNING(\"solver:nlp_f failed: NaN detected for output f, at (row 0, col 0).\") [.../casadi/core/oracle_function.cpp:377]\n",
      "CasADi - 2024-12-06 09:52:18 WARNING(\"solver:nlp_f failed: NaN detected for output f, at (row 0, col 0).\") [.../casadi/core/oracle_function.cpp:377]\n",
      "CasADi - 2024-12-06 09:52:18 WARNING(\"solver:nlp_f failed: NaN detected for output f, at (row 0, col 0).\") [.../casadi/core/oracle_function.cpp:377]\n",
      "CasADi - 2024-12-06 09:52:18 WARNING(\"solver:nlp_f failed: NaN detected for output f, at (row 0, col 0).\") [.../casadi/core/oracle_function.cpp:377]\n",
      "CasADi - 2024-12-06 09:52:18 WARNING(\"solver:nlp_f failed: NaN detected for output f, at (row 0, col 0).\") [.../casadi/core/oracle_function.cpp:377]\n",
      "CasADi - 2024-12-06 09:52:18 WARNING(\"solver:nlp_f failed: NaN detected for output f, at (row 0, col 0).\") [.../casadi/core/oracle_function.cpp:377]\n",
      "CasADi - 2024-12-06 09:52:18 WARNING(\"solver:nlp_f failed: NaN detected for output f, at (row 0, col 0).\") [.../casadi/core/oracle_function.cpp:377]\n",
      "CasADi - 2024-12-06 09:52:18 WARNING(\"solver:nlp_f failed: NaN detected for output f, at (row 0, col 0).\") [.../casadi/core/oracle_function.cpp:377]\n",
      "CasADi - 2024-12-06 09:52:18 WARNING(\"solver:nlp_f failed: NaN detected for output f, at (row 0, col 0).\") [.../casadi/core/oracle_function.cpp:377]\n",
      "CasADi - 2024-12-06 09:52:18 WARNING(\"solver:nlp_f failed: NaN detected for output f, at (row 0, col 0).\") [.../casadi/core/oracle_function.cpp:377]\n",
      "CasADi - 2024-12-06 09:52:18 WARNING(\"solver:nlp_f failed: NaN detected for output f, at (row 0, col 0).\") [.../casadi/core/oracle_function.cpp:377]\n",
      "CasADi - 2024-12-06 09:52:18 WARNING(\"solver:nlp_f failed: NaN detected for output f, at (row 0, col 0).\") [.../casadi/core/oracle_function.cpp:377]\n",
      "CasADi - 2024-12-06 09:52:18 WARNING(\"solver:nlp_f failed: NaN detected for output f, at (row 0, col 0).\") [.../casadi/core/oracle_function.cpp:377]\n",
      "CasADi - 2024-12-06 09:52:18 WARNING(\"solver:nlp_f failed: NaN detected for output f, at (row 0, col 0).\") [.../casadi/core/oracle_function.cpp:377]\n",
      "CasADi - 2024-12-06 09:52:18 WARNING(\"solver:nlp_f failed: NaN detected for output f, at (row 0, col 0).\") [.../casadi/core/oracle_function.cpp:377]\n",
      "CasADi - 2024-12-06 09:52:18 WARNING(\"solver:nlp_f failed: NaN detected for output f, at (row 0, col 0).\") [.../casadi/core/oracle_function.cpp:377]\n",
      "CasADi - 2024-12-06 09:52:18 WARNING(\"solver:nlp_f failed: NaN detected for output f, at (row 0, col 0).\") [.../casadi/core/oracle_function.cpp:377]\n"
     ]
    },
    {
     "name": "stdout",
     "output_type": "stream",
     "text": [
      "converged! Final Result:  [0.58621682 1.00409095]\n",
      "length 10\n",
      "eval num 1\n",
      "converged! Final Result:  [0.6015735  0.99252164]\n",
      "length 15\n",
      "eval num 2\n"
     ]
    },
    {
     "name": "stderr",
     "output_type": "stream",
     "text": [
      "CasADi - 2024-12-06 09:52:19 WARNING(\"solver:nlp_f failed: NaN detected for output f, at (row 0, col 0).\") [.../casadi/core/oracle_function.cpp:377]\n",
      "CasADi - 2024-12-06 09:52:19 WARNING(\"solver:nlp_f failed: NaN detected for output f, at (row 0, col 0).\") [.../casadi/core/oracle_function.cpp:377]\n",
      "CasADi - 2024-12-06 09:52:19 WARNING(\"solver:nlp_f failed: NaN detected for output f, at (row 0, col 0).\") [.../casadi/core/oracle_function.cpp:377]\n",
      "CasADi - 2024-12-06 09:52:19 WARNING(\"solver:nlp_f failed: NaN detected for output f, at (row 0, col 0).\") [.../casadi/core/oracle_function.cpp:377]\n",
      "CasADi - 2024-12-06 09:52:19 WARNING(\"solver:nlp_f failed: NaN detected for output f, at (row 0, col 0).\") [.../casadi/core/oracle_function.cpp:377]\n",
      "CasADi - 2024-12-06 09:52:19 WARNING(\"solver:nlp_f failed: NaN detected for output f, at (row 0, col 0).\") [.../casadi/core/oracle_function.cpp:377]\n",
      "CasADi - 2024-12-06 09:52:19 WARNING(\"solver:nlp_f failed: NaN detected for output f, at (row 0, col 0).\") [.../casadi/core/oracle_function.cpp:377]\n",
      "CasADi - 2024-12-06 09:52:19 WARNING(\"solver:nlp_f failed: NaN detected for output f, at (row 0, col 0).\") [.../casadi/core/oracle_function.cpp:377]\n",
      "CasADi - 2024-12-06 09:52:19 WARNING(\"solver:nlp_f failed: NaN detected for output f, at (row 0, col 0).\") [.../casadi/core/oracle_function.cpp:377]\n",
      "CasADi - 2024-12-06 09:52:19 WARNING(\"solver:nlp_f failed: NaN detected for output f, at (row 0, col 0).\") [.../casadi/core/oracle_function.cpp:377]\n",
      "CasADi - 2024-12-06 09:52:19 WARNING(\"solver:nlp_f failed: NaN detected for output f, at (row 0, col 0).\") [.../casadi/core/oracle_function.cpp:377]\n",
      "CasADi - 2024-12-06 09:52:19 WARNING(\"solver:nlp_f failed: NaN detected for output f, at (row 0, col 0).\") [.../casadi/core/oracle_function.cpp:377]\n",
      "CasADi - 2024-12-06 09:52:19 WARNING(\"solver:nlp_f failed: NaN detected for output f, at (row 0, col 0).\") [.../casadi/core/oracle_function.cpp:377]\n",
      "CasADi - 2024-12-06 09:52:19 WARNING(\"solver:nlp_f failed: NaN detected for output f, at (row 0, col 0).\") [.../casadi/core/oracle_function.cpp:377]\n"
     ]
    },
    {
     "name": "stdout",
     "output_type": "stream",
     "text": [
      "converged! Final Result:  [0.60364859 0.99458494]\n",
      "length 14\n",
      "eval num 3\n"
     ]
    },
    {
     "name": "stderr",
     "output_type": "stream",
     "text": [
      "CasADi - 2024-12-06 09:52:19 WARNING(\"solver:nlp_f failed: NaN detected for output f, at (row 0, col 0).\") [.../casadi/core/oracle_function.cpp:377]\n",
      "CasADi - 2024-12-06 09:52:19 WARNING(\"solver:nlp_f failed: NaN detected for output f, at (row 0, col 0).\") [.../casadi/core/oracle_function.cpp:377]\n",
      "CasADi - 2024-12-06 09:52:19 WARNING(\"solver:nlp_f failed: NaN detected for output f, at (row 0, col 0).\") [.../casadi/core/oracle_function.cpp:377]\n",
      "CasADi - 2024-12-06 09:52:19 WARNING(\"solver:nlp_f failed: NaN detected for output f, at (row 0, col 0).\") [.../casadi/core/oracle_function.cpp:377]\n",
      "CasADi - 2024-12-06 09:52:19 WARNING(\"solver:nlp_f failed: NaN detected for output f, at (row 0, col 0).\") [.../casadi/core/oracle_function.cpp:377]\n",
      "CasADi - 2024-12-06 09:52:19 WARNING(\"solver:nlp_f failed: NaN detected for output f, at (row 0, col 0).\") [.../casadi/core/oracle_function.cpp:377]\n",
      "CasADi - 2024-12-06 09:52:19 WARNING(\"solver:nlp_f failed: NaN detected for output f, at (row 0, col 0).\") [.../casadi/core/oracle_function.cpp:377]\n",
      "CasADi - 2024-12-06 09:52:19 WARNING(\"solver:nlp_f failed: NaN detected for output f, at (row 0, col 0).\") [.../casadi/core/oracle_function.cpp:377]\n",
      "CasADi - 2024-12-06 09:52:19 WARNING(\"solver:nlp_f failed: NaN detected for output f, at (row 0, col 0).\") [.../casadi/core/oracle_function.cpp:377]\n",
      "CasADi - 2024-12-06 09:52:19 WARNING(\"solver:nlp_f failed: NaN detected for output f, at (row 0, col 0).\") [.../casadi/core/oracle_function.cpp:377]\n",
      "CasADi - 2024-12-06 09:52:19 WARNING(\"solver:nlp_f failed: NaN detected for output f, at (row 0, col 0).\") [.../casadi/core/oracle_function.cpp:377]\n",
      "CasADi - 2024-12-06 09:52:19 WARNING(\"solver:nlp_f failed: NaN detected for output f, at (row 0, col 0).\") [.../casadi/core/oracle_function.cpp:377]\n",
      "CasADi - 2024-12-06 09:52:19 WARNING(\"solver:nlp_f failed: NaN detected for output f, at (row 0, col 0).\") [.../casadi/core/oracle_function.cpp:377]\n",
      "CasADi - 2024-12-06 09:52:19 WARNING(\"solver:nlp_f failed: NaN detected for output f, at (row 0, col 0).\") [.../casadi/core/oracle_function.cpp:377]\n",
      "CasADi - 2024-12-06 09:52:19 WARNING(\"solver:nlp_f failed: NaN detected for output f, at (row 0, col 0).\") [.../casadi/core/oracle_function.cpp:377]\n",
      "CasADi - 2024-12-06 09:52:19 WARNING(\"solver:nlp_f failed: NaN detected for output f, at (row 0, col 0).\") [.../casadi/core/oracle_function.cpp:377]\n",
      "CasADi - 2024-12-06 09:52:20 WARNING(\"solver:nlp_f failed: NaN detected for output f, at (row 0, col 0).\") [.../casadi/core/oracle_function.cpp:377]\n",
      "CasADi - 2024-12-06 09:52:20 WARNING(\"solver:nlp_f failed: NaN detected for output f, at (row 0, col 0).\") [.../casadi/core/oracle_function.cpp:377]\n",
      "CasADi - 2024-12-06 09:52:20 WARNING(\"solver:nlp_f failed: NaN detected for output f, at (row 0, col 0).\") [.../casadi/core/oracle_function.cpp:377]\n",
      "CasADi - 2024-12-06 09:52:20 WARNING(\"solver:nlp_f failed: NaN detected for output f, at (row 0, col 0).\") [.../casadi/core/oracle_function.cpp:377]\n",
      "CasADi - 2024-12-06 09:52:20 WARNING(\"solver:nlp_f failed: NaN detected for output f, at (row 0, col 0).\") [.../casadi/core/oracle_function.cpp:377]\n",
      "CasADi - 2024-12-06 09:52:20 WARNING(\"solver:nlp_f failed: NaN detected for output f, at (row 0, col 0).\") [.../casadi/core/oracle_function.cpp:377]\n",
      "CasADi - 2024-12-06 09:52:20 WARNING(\"solver:nlp_f failed: NaN detected for output f, at (row 0, col 0).\") [.../casadi/core/oracle_function.cpp:377]\n",
      "CasADi - 2024-12-06 09:52:20 WARNING(\"solver:nlp_f failed: NaN detected for output f, at (row 0, col 0).\") [.../casadi/core/oracle_function.cpp:377]\n",
      "CasADi - 2024-12-06 09:52:20 WARNING(\"solver:nlp_f failed: NaN detected for output f, at (row 0, col 0).\") [.../casadi/core/oracle_function.cpp:377]\n",
      "CasADi - 2024-12-06 09:52:20 WARNING(\"solver:nlp_f failed: NaN detected for output f, at (row 0, col 0).\") [.../casadi/core/oracle_function.cpp:377]\n",
      "CasADi - 2024-12-06 09:52:20 WARNING(\"solver:nlp_f failed: NaN detected for output f, at (row 0, col 0).\") [.../casadi/core/oracle_function.cpp:377]\n",
      "CasADi - 2024-12-06 09:52:20 WARNING(\"solver:nlp_f failed: NaN detected for output f, at (row 0, col 0).\") [.../casadi/core/oracle_function.cpp:377]\n",
      "CasADi - 2024-12-06 09:52:20 WARNING(\"solver:nlp_f failed: NaN detected for output f, at (row 0, col 0).\") [.../casadi/core/oracle_function.cpp:377]\n",
      "CasADi - 2024-12-06 09:52:20 WARNING(\"solver:nlp_f failed: NaN detected for output f, at (row 0, col 0).\") [.../casadi/core/oracle_function.cpp:377]\n",
      "CasADi - 2024-12-06 09:52:20 WARNING(\"solver:nlp_f failed: NaN detected for output f, at (row 0, col 0).\") [.../casadi/core/oracle_function.cpp:377]\n",
      "CasADi - 2024-12-06 09:52:20 WARNING(\"solver:nlp_f failed: NaN detected for output f, at (row 0, col 0).\") [.../casadi/core/oracle_function.cpp:377]\n",
      "CasADi - 2024-12-06 09:52:20 WARNING(\"solver:nlp_f failed: NaN detected for output f, at (row 0, col 0).\") [.../casadi/core/oracle_function.cpp:377]\n",
      "CasADi - 2024-12-06 09:52:20 WARNING(\"solver:nlp_f failed: NaN detected for output f, at (row 0, col 0).\") [.../casadi/core/oracle_function.cpp:377]\n",
      "CasADi - 2024-12-06 09:52:20 WARNING(\"solver:nlp_f failed: NaN detected for output f, at (row 0, col 0).\") [.../casadi/core/oracle_function.cpp:377]\n",
      "CasADi - 2024-12-06 09:52:20 WARNING(\"solver:nlp_f failed: NaN detected for output f, at (row 0, col 0).\") [.../casadi/core/oracle_function.cpp:377]\n",
      "CasADi - 2024-12-06 09:52:20 WARNING(\"solver:nlp_f failed: NaN detected for output f, at (row 0, col 0).\") [.../casadi/core/oracle_function.cpp:377]\n",
      "CasADi - 2024-12-06 09:52:20 WARNING(\"solver:nlp_f failed: NaN detected for output f, at (row 0, col 0).\") [.../casadi/core/oracle_function.cpp:377]\n",
      "CasADi - 2024-12-06 09:52:20 WARNING(\"solver:nlp_f failed: NaN detected for output f, at (row 0, col 0).\") [.../casadi/core/oracle_function.cpp:377]\n",
      "CasADi - 2024-12-06 09:52:20 WARNING(\"solver:nlp_f failed: NaN detected for output f, at (row 0, col 0).\") [.../casadi/core/oracle_function.cpp:377]\n",
      "CasADi - 2024-12-06 09:52:20 WARNING(\"solver:nlp_f failed: NaN detected for output f, at (row 0, col 0).\") [.../casadi/core/oracle_function.cpp:377]\n",
      "CasADi - 2024-12-06 09:52:20 WARNING(\"solver:nlp_f failed: NaN detected for output f, at (row 0, col 0).\") [.../casadi/core/oracle_function.cpp:377]\n",
      "CasADi - 2024-12-06 09:52:20 WARNING(\"solver:nlp_f failed: NaN detected for output f, at (row 0, col 0).\") [.../casadi/core/oracle_function.cpp:377]\n",
      "CasADi - 2024-12-06 09:52:20 WARNING(\"solver:nlp_f failed: NaN detected for output f, at (row 0, col 0).\") [.../casadi/core/oracle_function.cpp:377]\n",
      "CasADi - 2024-12-06 09:52:20 WARNING(\"solver:nlp_f failed: NaN detected for output f, at (row 0, col 0).\") [.../casadi/core/oracle_function.cpp:377]\n",
      "CasADi - 2024-12-06 09:52:20 WARNING(\"solver:nlp_f failed: NaN detected for output f, at (row 0, col 0).\") [.../casadi/core/oracle_function.cpp:377]\n",
      "CasADi - 2024-12-06 09:52:20 WARNING(\"solver:nlp_f failed: NaN detected for output f, at (row 0, col 0).\") [.../casadi/core/oracle_function.cpp:377]\n",
      "CasADi - 2024-12-06 09:52:20 WARNING(\"solver:nlp_f failed: NaN detected for output f, at (row 0, col 0).\") [.../casadi/core/oracle_function.cpp:377]\n",
      "CasADi - 2024-12-06 09:52:20 WARNING(\"solver:nlp_f failed: NaN detected for output f, at (row 0, col 0).\") [.../casadi/core/oracle_function.cpp:377]\n",
      "CasADi - 2024-12-06 09:52:20 WARNING(\"solver:nlp_f failed: NaN detected for output f, at (row 0, col 0).\") [.../casadi/core/oracle_function.cpp:377]\n",
      "CasADi - 2024-12-06 09:52:20 WARNING(\"solver:nlp_f failed: NaN detected for output f, at (row 0, col 0).\") [.../casadi/core/oracle_function.cpp:377]\n",
      "CasADi - 2024-12-06 09:52:20 WARNING(\"solver:nlp_f failed: NaN detected for output f, at (row 0, col 0).\") [.../casadi/core/oracle_function.cpp:377]\n",
      "CasADi - 2024-12-06 09:52:20 WARNING(\"solver:nlp_f failed: NaN detected for output f, at (row 0, col 0).\") [.../casadi/core/oracle_function.cpp:377]\n",
      "CasADi - 2024-12-06 09:52:20 WARNING(\"solver:nlp_f failed: NaN detected for output f, at (row 0, col 0).\") [.../casadi/core/oracle_function.cpp:377]\n",
      "CasADi - 2024-12-06 09:52:20 WARNING(\"solver:nlp_f failed: NaN detected for output f, at (row 0, col 0).\") [.../casadi/core/oracle_function.cpp:377]\n",
      "CasADi - 2024-12-06 09:52:20 WARNING(\"solver:nlp_f failed: NaN detected for output f, at (row 0, col 0).\") [.../casadi/core/oracle_function.cpp:377]\n",
      "CasADi - 2024-12-06 09:52:20 WARNING(\"solver:nlp_f failed: NaN detected for output f, at (row 0, col 0).\") [.../casadi/core/oracle_function.cpp:377]\n",
      "CasADi - 2024-12-06 09:52:20 WARNING(\"solver:nlp_f failed: NaN detected for output f, at (row 0, col 0).\") [.../casadi/core/oracle_function.cpp:377]\n",
      "CasADi - 2024-12-06 09:52:20 WARNING(\"solver:nlp_f failed: NaN detected for output f, at (row 0, col 0).\") [.../casadi/core/oracle_function.cpp:377]\n",
      "CasADi - 2024-12-06 09:52:20 WARNING(\"solver:nlp_f failed: NaN detected for output f, at (row 0, col 0).\") [.../casadi/core/oracle_function.cpp:377]\n",
      "CasADi - 2024-12-06 09:52:20 WARNING(\"solver:nlp_f failed: NaN detected for output f, at (row 0, col 0).\") [.../casadi/core/oracle_function.cpp:377]\n",
      "CasADi - 2024-12-06 09:52:20 WARNING(\"solver:nlp_f failed: NaN detected for output f, at (row 0, col 0).\") [.../casadi/core/oracle_function.cpp:377]\n",
      "CasADi - 2024-12-06 09:52:20 WARNING(\"solver:nlp_f failed: NaN detected for output f, at (row 0, col 0).\") [.../casadi/core/oracle_function.cpp:377]\n",
      "CasADi - 2024-12-06 09:52:20 WARNING(\"solver:nlp_f failed: NaN detected for output f, at (row 0, col 0).\") [.../casadi/core/oracle_function.cpp:377]\n",
      "CasADi - 2024-12-06 09:52:20 WARNING(\"solver:nlp_f failed: NaN detected for output f, at (row 0, col 0).\") [.../casadi/core/oracle_function.cpp:377]\n"
     ]
    },
    {
     "name": "stdout",
     "output_type": "stream",
     "text": [
      "converged! Final Result:  [0.60372846 0.99930201]\n",
      "length 16\n",
      "eval num 4\n"
     ]
    },
    {
     "name": "stderr",
     "output_type": "stream",
     "text": [
      "CasADi - 2024-12-06 09:52:20 WARNING(\"solver:nlp_f failed: NaN detected for output f, at (row 0, col 0).\") [.../casadi/core/oracle_function.cpp:377]\n",
      "CasADi - 2024-12-06 09:52:20 WARNING(\"solver:nlp_f failed: NaN detected for output f, at (row 0, col 0).\") [.../casadi/core/oracle_function.cpp:377]\n",
      "CasADi - 2024-12-06 09:52:20 WARNING(\"solver:nlp_f failed: NaN detected for output f, at (row 0, col 0).\") [.../casadi/core/oracle_function.cpp:377]\n",
      "CasADi - 2024-12-06 09:52:20 WARNING(\"solver:nlp_f failed: NaN detected for output f, at (row 0, col 0).\") [.../casadi/core/oracle_function.cpp:377]\n",
      "CasADi - 2024-12-06 09:52:20 WARNING(\"solver:nlp_f failed: NaN detected for output f, at (row 0, col 0).\") [.../casadi/core/oracle_function.cpp:377]\n",
      "CasADi - 2024-12-06 09:52:20 WARNING(\"solver:nlp_f failed: NaN detected for output f, at (row 0, col 0).\") [.../casadi/core/oracle_function.cpp:377]\n",
      "CasADi - 2024-12-06 09:52:20 WARNING(\"solver:nlp_f failed: NaN detected for output f, at (row 0, col 0).\") [.../casadi/core/oracle_function.cpp:377]\n",
      "CasADi - 2024-12-06 09:52:20 WARNING(\"solver:nlp_f failed: NaN detected for output f, at (row 0, col 0).\") [.../casadi/core/oracle_function.cpp:377]\n",
      "CasADi - 2024-12-06 09:52:20 WARNING(\"solver:nlp_f failed: NaN detected for output f, at (row 0, col 0).\") [.../casadi/core/oracle_function.cpp:377]\n",
      "CasADi - 2024-12-06 09:52:20 WARNING(\"solver:nlp_f failed: NaN detected for output f, at (row 0, col 0).\") [.../casadi/core/oracle_function.cpp:377]\n",
      "CasADi - 2024-12-06 09:52:20 WARNING(\"solver:nlp_f failed: NaN detected for output f, at (row 0, col 0).\") [.../casadi/core/oracle_function.cpp:377]\n",
      "CasADi - 2024-12-06 09:52:20 WARNING(\"solver:nlp_f failed: NaN detected for output f, at (row 0, col 0).\") [.../casadi/core/oracle_function.cpp:377]\n",
      "CasADi - 2024-12-06 09:52:20 WARNING(\"solver:nlp_f failed: NaN detected for output f, at (row 0, col 0).\") [.../casadi/core/oracle_function.cpp:377]\n",
      "CasADi - 2024-12-06 09:52:20 WARNING(\"solver:nlp_f failed: NaN detected for output f, at (row 0, col 0).\") [.../casadi/core/oracle_function.cpp:377]\n",
      "CasADi - 2024-12-06 09:52:20 WARNING(\"solver:nlp_f failed: NaN detected for output f, at (row 0, col 0).\") [.../casadi/core/oracle_function.cpp:377]\n",
      "CasADi - 2024-12-06 09:52:20 WARNING(\"solver:nlp_f failed: NaN detected for output f, at (row 0, col 0).\") [.../casadi/core/oracle_function.cpp:377]\n",
      "CasADi - 2024-12-06 09:52:20 WARNING(\"solver:nlp_f failed: NaN detected for output f, at (row 0, col 0).\") [.../casadi/core/oracle_function.cpp:377]\n",
      "CasADi - 2024-12-06 09:52:20 WARNING(\"solver:nlp_f failed: NaN detected for output f, at (row 0, col 0).\") [.../casadi/core/oracle_function.cpp:377]\n",
      "CasADi - 2024-12-06 09:52:20 WARNING(\"solver:nlp_f failed: NaN detected for output f, at (row 0, col 0).\") [.../casadi/core/oracle_function.cpp:377]\n",
      "CasADi - 2024-12-06 09:52:20 WARNING(\"solver:nlp_f failed: NaN detected for output f, at (row 0, col 0).\") [.../casadi/core/oracle_function.cpp:377]\n",
      "CasADi - 2024-12-06 09:52:20 WARNING(\"solver:nlp_f failed: NaN detected for output f, at (row 0, col 0).\") [.../casadi/core/oracle_function.cpp:377]\n",
      "CasADi - 2024-12-06 09:52:20 WARNING(\"solver:nlp_f failed: NaN detected for output f, at (row 0, col 0).\") [.../casadi/core/oracle_function.cpp:377]\n",
      "CasADi - 2024-12-06 09:52:20 WARNING(\"solver:nlp_f failed: NaN detected for output f, at (row 0, col 0).\") [.../casadi/core/oracle_function.cpp:377]\n",
      "CasADi - 2024-12-06 09:52:20 WARNING(\"solver:nlp_f failed: NaN detected for output f, at (row 0, col 0).\") [.../casadi/core/oracle_function.cpp:377]\n",
      "CasADi - 2024-12-06 09:52:20 WARNING(\"solver:nlp_f failed: NaN detected for output f, at (row 0, col 0).\") [.../casadi/core/oracle_function.cpp:377]\n",
      "CasADi - 2024-12-06 09:52:20 WARNING(\"solver:nlp_f failed: NaN detected for output f, at (row 0, col 0).\") [.../casadi/core/oracle_function.cpp:377]\n",
      "CasADi - 2024-12-06 09:52:20 WARNING(\"solver:nlp_f failed: NaN detected for output f, at (row 0, col 0).\") [.../casadi/core/oracle_function.cpp:377]\n",
      "CasADi - 2024-12-06 09:52:20 WARNING(\"solver:nlp_f failed: NaN detected for output f, at (row 0, col 0).\") [.../casadi/core/oracle_function.cpp:377]\n",
      "CasADi - 2024-12-06 09:52:20 WARNING(\"solver:nlp_f failed: NaN detected for output f, at (row 0, col 0).\") [.../casadi/core/oracle_function.cpp:377]\n",
      "CasADi - 2024-12-06 09:52:20 WARNING(\"solver:nlp_f failed: NaN detected for output f, at (row 0, col 0).\") [.../casadi/core/oracle_function.cpp:377]\n",
      "CasADi - 2024-12-06 09:52:20 WARNING(\"solver:nlp_f failed: NaN detected for output f, at (row 0, col 0).\") [.../casadi/core/oracle_function.cpp:377]\n",
      "CasADi - 2024-12-06 09:52:20 WARNING(\"solver:nlp_f failed: NaN detected for output f, at (row 0, col 0).\") [.../casadi/core/oracle_function.cpp:377]\n",
      "CasADi - 2024-12-06 09:52:20 WARNING(\"solver:nlp_f failed: NaN detected for output f, at (row 0, col 0).\") [.../casadi/core/oracle_function.cpp:377]\n",
      "CasADi - 2024-12-06 09:52:20 WARNING(\"solver:nlp_f failed: NaN detected for output f, at (row 0, col 0).\") [.../casadi/core/oracle_function.cpp:377]\n",
      "CasADi - 2024-12-06 09:52:20 WARNING(\"solver:nlp_f failed: NaN detected for output f, at (row 0, col 0).\") [.../casadi/core/oracle_function.cpp:377]\n",
      "CasADi - 2024-12-06 09:52:20 WARNING(\"solver:nlp_f failed: NaN detected for output f, at (row 0, col 0).\") [.../casadi/core/oracle_function.cpp:377]\n",
      "CasADi - 2024-12-06 09:52:20 WARNING(\"solver:nlp_f failed: NaN detected for output f, at (row 0, col 0).\") [.../casadi/core/oracle_function.cpp:377]\n",
      "CasADi - 2024-12-06 09:52:20 WARNING(\"solver:nlp_f failed: NaN detected for output f, at (row 0, col 0).\") [.../casadi/core/oracle_function.cpp:377]\n",
      "CasADi - 2024-12-06 09:52:20 WARNING(\"solver:nlp_f failed: NaN detected for output f, at (row 0, col 0).\") [.../casadi/core/oracle_function.cpp:377]\n",
      "CasADi - 2024-12-06 09:52:20 WARNING(\"solver:nlp_f failed: NaN detected for output f, at (row 0, col 0).\") [.../casadi/core/oracle_function.cpp:377]\n",
      "CasADi - 2024-12-06 09:52:20 WARNING(\"solver:nlp_f failed: NaN detected for output f, at (row 0, col 0).\") [.../casadi/core/oracle_function.cpp:377]\n",
      "CasADi - 2024-12-06 09:52:21 WARNING(\"solver:nlp_f failed: NaN detected for output f, at (row 0, col 0).\") [.../casadi/core/oracle_function.cpp:377]\n",
      "CasADi - 2024-12-06 09:52:21 WARNING(\"solver:nlp_f failed: NaN detected for output f, at (row 0, col 0).\") [.../casadi/core/oracle_function.cpp:377]\n",
      "CasADi - 2024-12-06 09:52:21 WARNING(\"solver:nlp_f failed: NaN detected for output f, at (row 0, col 0).\") [.../casadi/core/oracle_function.cpp:377]\n",
      "CasADi - 2024-12-06 09:52:21 WARNING(\"solver:nlp_f failed: NaN detected for output f, at (row 0, col 0).\") [.../casadi/core/oracle_function.cpp:377]\n",
      "CasADi - 2024-12-06 09:52:21 WARNING(\"solver:nlp_f failed: NaN detected for output f, at (row 0, col 0).\") [.../casadi/core/oracle_function.cpp:377]\n",
      "CasADi - 2024-12-06 09:52:21 WARNING(\"solver:nlp_f failed: NaN detected for output f, at (row 0, col 0).\") [.../casadi/core/oracle_function.cpp:377]\n",
      "CasADi - 2024-12-06 09:52:21 WARNING(\"solver:nlp_f failed: NaN detected for output f, at (row 0, col 0).\") [.../casadi/core/oracle_function.cpp:377]\n",
      "CasADi - 2024-12-06 09:52:21 WARNING(\"solver:nlp_f failed: NaN detected for output f, at (row 0, col 0).\") [.../casadi/core/oracle_function.cpp:377]\n",
      "CasADi - 2024-12-06 09:52:21 WARNING(\"solver:nlp_f failed: NaN detected for output f, at (row 0, col 0).\") [.../casadi/core/oracle_function.cpp:377]\n",
      "CasADi - 2024-12-06 09:52:21 WARNING(\"solver:nlp_f failed: NaN detected for output f, at (row 0, col 0).\") [.../casadi/core/oracle_function.cpp:377]\n",
      "CasADi - 2024-12-06 09:52:21 WARNING(\"solver:nlp_f failed: NaN detected for output f, at (row 0, col 0).\") [.../casadi/core/oracle_function.cpp:377]\n",
      "CasADi - 2024-12-06 09:52:21 WARNING(\"solver:nlp_f failed: NaN detected for output f, at (row 0, col 0).\") [.../casadi/core/oracle_function.cpp:377]\n",
      "CasADi - 2024-12-06 09:52:21 WARNING(\"solver:nlp_f failed: NaN detected for output f, at (row 0, col 0).\") [.../casadi/core/oracle_function.cpp:377]\n",
      "CasADi - 2024-12-06 09:52:21 WARNING(\"solver:nlp_f failed: NaN detected for output f, at (row 0, col 0).\") [.../casadi/core/oracle_function.cpp:377]\n",
      "CasADi - 2024-12-06 09:52:21 WARNING(\"solver:nlp_f failed: NaN detected for output f, at (row 0, col 0).\") [.../casadi/core/oracle_function.cpp:377]\n",
      "CasADi - 2024-12-06 09:52:21 WARNING(\"solver:nlp_f failed: NaN detected for output f, at (row 0, col 0).\") [.../casadi/core/oracle_function.cpp:377]\n",
      "CasADi - 2024-12-06 09:52:21 WARNING(\"solver:nlp_f failed: NaN detected for output f, at (row 0, col 0).\") [.../casadi/core/oracle_function.cpp:377]\n"
     ]
    },
    {
     "name": "stdout",
     "output_type": "stream",
     "text": [
      "converged! Final Result:  [0.5878068 0.9937865]\n",
      "length 11\n",
      "eval num 5\n"
     ]
    },
    {
     "name": "stderr",
     "output_type": "stream",
     "text": [
      "CasADi - 2024-12-06 09:52:21 WARNING(\"solver:nlp_f failed: NaN detected for output f, at (row 0, col 0).\") [.../casadi/core/oracle_function.cpp:377]\n",
      "CasADi - 2024-12-06 09:52:21 WARNING(\"solver:nlp_f failed: NaN detected for output f, at (row 0, col 0).\") [.../casadi/core/oracle_function.cpp:377]\n",
      "CasADi - 2024-12-06 09:52:21 WARNING(\"solver:nlp_f failed: NaN detected for output f, at (row 0, col 0).\") [.../casadi/core/oracle_function.cpp:377]\n",
      "CasADi - 2024-12-06 09:52:21 WARNING(\"solver:nlp_f failed: NaN detected for output f, at (row 0, col 0).\") [.../casadi/core/oracle_function.cpp:377]\n",
      "CasADi - 2024-12-06 09:52:21 WARNING(\"solver:nlp_f failed: NaN detected for output f, at (row 0, col 0).\") [.../casadi/core/oracle_function.cpp:377]\n",
      "CasADi - 2024-12-06 09:52:21 WARNING(\"solver:nlp_f failed: NaN detected for output f, at (row 0, col 0).\") [.../casadi/core/oracle_function.cpp:377]\n",
      "CasADi - 2024-12-06 09:52:21 WARNING(\"solver:nlp_f failed: NaN detected for output f, at (row 0, col 0).\") [.../casadi/core/oracle_function.cpp:377]\n",
      "CasADi - 2024-12-06 09:52:21 WARNING(\"solver:nlp_f failed: NaN detected for output f, at (row 0, col 0).\") [.../casadi/core/oracle_function.cpp:377]\n",
      "CasADi - 2024-12-06 09:52:21 WARNING(\"solver:nlp_f failed: NaN detected for output f, at (row 0, col 0).\") [.../casadi/core/oracle_function.cpp:377]\n",
      "CasADi - 2024-12-06 09:52:21 WARNING(\"solver:nlp_f failed: NaN detected for output f, at (row 0, col 0).\") [.../casadi/core/oracle_function.cpp:377]\n",
      "CasADi - 2024-12-06 09:52:21 WARNING(\"solver:nlp_f failed: NaN detected for output f, at (row 0, col 0).\") [.../casadi/core/oracle_function.cpp:377]\n",
      "CasADi - 2024-12-06 09:52:21 WARNING(\"solver:nlp_f failed: NaN detected for output f, at (row 0, col 0).\") [.../casadi/core/oracle_function.cpp:377]\n",
      "CasADi - 2024-12-06 09:52:21 WARNING(\"solver:nlp_f failed: NaN detected for output f, at (row 0, col 0).\") [.../casadi/core/oracle_function.cpp:377]\n"
     ]
    },
    {
     "name": "stdout",
     "output_type": "stream",
     "text": [
      "converged! Final Result:  [0.59686418 0.99735963]\n",
      "length 12\n",
      "eval num 6\n"
     ]
    },
    {
     "name": "stderr",
     "output_type": "stream",
     "text": [
      "CasADi - 2024-12-06 09:52:21 WARNING(\"solver:nlp_f failed: NaN detected for output f, at (row 0, col 0).\") [.../casadi/core/oracle_function.cpp:377]\n",
      "CasADi - 2024-12-06 09:52:21 WARNING(\"solver:nlp_f failed: NaN detected for output f, at (row 0, col 0).\") [.../casadi/core/oracle_function.cpp:377]\n",
      "CasADi - 2024-12-06 09:52:21 WARNING(\"solver:nlp_f failed: NaN detected for output f, at (row 0, col 0).\") [.../casadi/core/oracle_function.cpp:377]\n",
      "CasADi - 2024-12-06 09:52:21 WARNING(\"solver:nlp_f failed: NaN detected for output f, at (row 0, col 0).\") [.../casadi/core/oracle_function.cpp:377]\n",
      "CasADi - 2024-12-06 09:52:21 WARNING(\"solver:nlp_f failed: NaN detected for output f, at (row 0, col 0).\") [.../casadi/core/oracle_function.cpp:377]\n",
      "CasADi - 2024-12-06 09:52:21 WARNING(\"solver:nlp_f failed: NaN detected for output f, at (row 0, col 0).\") [.../casadi/core/oracle_function.cpp:377]\n",
      "CasADi - 2024-12-06 09:52:21 WARNING(\"solver:nlp_f failed: NaN detected for output f, at (row 0, col 0).\") [.../casadi/core/oracle_function.cpp:377]\n",
      "CasADi - 2024-12-06 09:52:21 WARNING(\"solver:nlp_f failed: NaN detected for output f, at (row 0, col 0).\") [.../casadi/core/oracle_function.cpp:377]\n",
      "CasADi - 2024-12-06 09:52:21 WARNING(\"solver:nlp_f failed: NaN detected for output f, at (row 0, col 0).\") [.../casadi/core/oracle_function.cpp:377]\n",
      "CasADi - 2024-12-06 09:52:21 WARNING(\"solver:nlp_f failed: NaN detected for output f, at (row 0, col 0).\") [.../casadi/core/oracle_function.cpp:377]\n",
      "CasADi - 2024-12-06 09:52:21 WARNING(\"solver:nlp_f failed: NaN detected for output f, at (row 0, col 0).\") [.../casadi/core/oracle_function.cpp:377]\n",
      "CasADi - 2024-12-06 09:52:21 WARNING(\"solver:nlp_f failed: NaN detected for output f, at (row 0, col 0).\") [.../casadi/core/oracle_function.cpp:377]\n",
      "CasADi - 2024-12-06 09:52:21 WARNING(\"solver:nlp_f failed: NaN detected for output f, at (row 0, col 0).\") [.../casadi/core/oracle_function.cpp:377]\n",
      "CasADi - 2024-12-06 09:52:21 WARNING(\"solver:nlp_f failed: NaN detected for output f, at (row 0, col 0).\") [.../casadi/core/oracle_function.cpp:377]\n",
      "CasADi - 2024-12-06 09:52:21 WARNING(\"solver:nlp_f failed: NaN detected for output f, at (row 0, col 0).\") [.../casadi/core/oracle_function.cpp:377]\n",
      "CasADi - 2024-12-06 09:52:21 WARNING(\"solver:nlp_f failed: NaN detected for output f, at (row 0, col 0).\") [.../casadi/core/oracle_function.cpp:377]\n",
      "CasADi - 2024-12-06 09:52:21 WARNING(\"solver:nlp_f failed: NaN detected for output f, at (row 0, col 0).\") [.../casadi/core/oracle_function.cpp:377]\n",
      "CasADi - 2024-12-06 09:52:21 WARNING(\"solver:nlp_f failed: NaN detected for output f, at (row 0, col 0).\") [.../casadi/core/oracle_function.cpp:377]\n",
      "CasADi - 2024-12-06 09:52:21 WARNING(\"solver:nlp_f failed: NaN detected for output f, at (row 0, col 0).\") [.../casadi/core/oracle_function.cpp:377]\n",
      "CasADi - 2024-12-06 09:52:21 WARNING(\"solver:nlp_f failed: NaN detected for output f, at (row 0, col 0).\") [.../casadi/core/oracle_function.cpp:377]\n",
      "CasADi - 2024-12-06 09:52:21 WARNING(\"solver:nlp_f failed: NaN detected for output f, at (row 0, col 0).\") [.../casadi/core/oracle_function.cpp:377]\n",
      "CasADi - 2024-12-06 09:52:21 WARNING(\"solver:nlp_f failed: NaN detected for output f, at (row 0, col 0).\") [.../casadi/core/oracle_function.cpp:377]\n",
      "CasADi - 2024-12-06 09:52:21 WARNING(\"solver:nlp_f failed: NaN detected for output f, at (row 0, col 0).\") [.../casadi/core/oracle_function.cpp:377]\n",
      "CasADi - 2024-12-06 09:52:21 WARNING(\"solver:nlp_f failed: NaN detected for output f, at (row 0, col 0).\") [.../casadi/core/oracle_function.cpp:377]\n",
      "CasADi - 2024-12-06 09:52:21 WARNING(\"solver:nlp_f failed: NaN detected for output f, at (row 0, col 0).\") [.../casadi/core/oracle_function.cpp:377]\n"
     ]
    },
    {
     "name": "stdout",
     "output_type": "stream",
     "text": [
      "converged! Final Result:  [0.58771439 1.00961078]\n",
      "length 14\n",
      "eval num 7\n"
     ]
    },
    {
     "name": "stderr",
     "output_type": "stream",
     "text": [
      "CasADi - 2024-12-06 09:52:22 WARNING(\"solver:nlp_f failed: NaN detected for output f, at (row 0, col 0).\") [.../casadi/core/oracle_function.cpp:377]\n",
      "CasADi - 2024-12-06 09:52:22 WARNING(\"solver:nlp_f failed: NaN detected for output f, at (row 0, col 0).\") [.../casadi/core/oracle_function.cpp:377]\n",
      "CasADi - 2024-12-06 09:52:22 WARNING(\"solver:nlp_f failed: NaN detected for output f, at (row 0, col 0).\") [.../casadi/core/oracle_function.cpp:377]\n",
      "CasADi - 2024-12-06 09:52:22 WARNING(\"solver:nlp_f failed: NaN detected for output f, at (row 0, col 0).\") [.../casadi/core/oracle_function.cpp:377]\n",
      "CasADi - 2024-12-06 09:52:22 WARNING(\"solver:nlp_f failed: NaN detected for output f, at (row 0, col 0).\") [.../casadi/core/oracle_function.cpp:377]\n",
      "CasADi - 2024-12-06 09:52:22 WARNING(\"solver:nlp_f failed: NaN detected for output f, at (row 0, col 0).\") [.../casadi/core/oracle_function.cpp:377]\n",
      "CasADi - 2024-12-06 09:52:22 WARNING(\"solver:nlp_f failed: NaN detected for output f, at (row 0, col 0).\") [.../casadi/core/oracle_function.cpp:377]\n",
      "CasADi - 2024-12-06 09:52:22 WARNING(\"solver:nlp_f failed: NaN detected for output f, at (row 0, col 0).\") [.../casadi/core/oracle_function.cpp:377]\n",
      "CasADi - 2024-12-06 09:52:22 WARNING(\"solver:nlp_f failed: NaN detected for output f, at (row 0, col 0).\") [.../casadi/core/oracle_function.cpp:377]\n",
      "CasADi - 2024-12-06 09:52:22 WARNING(\"solver:nlp_f failed: NaN detected for output f, at (row 0, col 0).\") [.../casadi/core/oracle_function.cpp:377]\n",
      "CasADi - 2024-12-06 09:52:22 WARNING(\"solver:nlp_f failed: NaN detected for output f, at (row 0, col 0).\") [.../casadi/core/oracle_function.cpp:377]\n",
      "CasADi - 2024-12-06 09:52:22 WARNING(\"solver:nlp_f failed: NaN detected for output f, at (row 0, col 0).\") [.../casadi/core/oracle_function.cpp:377]\n",
      "CasADi - 2024-12-06 09:52:22 WARNING(\"solver:nlp_f failed: NaN detected for output f, at (row 0, col 0).\") [.../casadi/core/oracle_function.cpp:377]\n",
      "CasADi - 2024-12-06 09:52:22 WARNING(\"solver:nlp_f failed: NaN detected for output f, at (row 0, col 0).\") [.../casadi/core/oracle_function.cpp:377]\n",
      "CasADi - 2024-12-06 09:52:22 WARNING(\"solver:nlp_f failed: NaN detected for output f, at (row 0, col 0).\") [.../casadi/core/oracle_function.cpp:377]\n",
      "CasADi - 2024-12-06 09:52:22 WARNING(\"solver:nlp_f failed: NaN detected for output f, at (row 0, col 0).\") [.../casadi/core/oracle_function.cpp:377]\n",
      "CasADi - 2024-12-06 09:52:22 WARNING(\"solver:nlp_f failed: NaN detected for output f, at (row 0, col 0).\") [.../casadi/core/oracle_function.cpp:377]\n",
      "CasADi - 2024-12-06 09:52:22 WARNING(\"solver:nlp_f failed: NaN detected for output f, at (row 0, col 0).\") [.../casadi/core/oracle_function.cpp:377]\n",
      "CasADi - 2024-12-06 09:52:22 WARNING(\"solver:nlp_f failed: NaN detected for output f, at (row 0, col 0).\") [.../casadi/core/oracle_function.cpp:377]\n",
      "CasADi - 2024-12-06 09:52:22 WARNING(\"solver:nlp_f failed: NaN detected for output f, at (row 0, col 0).\") [.../casadi/core/oracle_function.cpp:377]\n"
     ]
    },
    {
     "name": "stdout",
     "output_type": "stream",
     "text": [
      "converged! Final Result:  [0.58217568 0.99850871]\n",
      "length 9\n",
      "eval num 8\n"
     ]
    },
    {
     "name": "stderr",
     "output_type": "stream",
     "text": [
      "CasADi - 2024-12-06 09:52:22 WARNING(\"solver:nlp_f failed: NaN detected for output f, at (row 0, col 0).\") [.../casadi/core/oracle_function.cpp:377]\n",
      "CasADi - 2024-12-06 09:52:22 WARNING(\"solver:nlp_f failed: NaN detected for output f, at (row 0, col 0).\") [.../casadi/core/oracle_function.cpp:377]\n",
      "CasADi - 2024-12-06 09:52:22 WARNING(\"solver:nlp_f failed: NaN detected for output f, at (row 0, col 0).\") [.../casadi/core/oracle_function.cpp:377]\n",
      "CasADi - 2024-12-06 09:52:22 WARNING(\"solver:nlp_f failed: NaN detected for output f, at (row 0, col 0).\") [.../casadi/core/oracle_function.cpp:377]\n"
     ]
    },
    {
     "name": "stdout",
     "output_type": "stream",
     "text": [
      "converged! Final Result:  [0.60068773 0.99493941]\n",
      "length 15\n",
      "eval num 9\n"
     ]
    },
    {
     "name": "stderr",
     "output_type": "stream",
     "text": [
      "CasADi - 2024-12-06 09:52:23 WARNING(\"solver:nlp_f failed: NaN detected for output f, at (row 0, col 0).\") [.../casadi/core/oracle_function.cpp:377]\n"
     ]
    },
    {
     "name": "stdout",
     "output_type": "stream",
     "text": [
      "converged! Final Result:  [0.5931197  1.00213879]\n",
      "length 8\n",
      "eval num 10\n"
     ]
    },
    {
     "name": "stderr",
     "output_type": "stream",
     "text": [
      "CasADi - 2024-12-06 09:52:23 WARNING(\"solver:nlp_f failed: NaN detected for output f, at (row 0, col 0).\") [.../casadi/core/oracle_function.cpp:377]\n"
     ]
    },
    {
     "name": "stdout",
     "output_type": "stream",
     "text": [
      "converged! Final Result:  [0.60867121 0.99138727]\n",
      "length 11\n",
      "eval num 11\n"
     ]
    },
    {
     "name": "stderr",
     "output_type": "stream",
     "text": [
      "CasADi - 2024-12-06 09:52:23 WARNING(\"solver:nlp_f failed: NaN detected for output f, at (row 0, col 0).\") [.../casadi/core/oracle_function.cpp:377]\n",
      "CasADi - 2024-12-06 09:52:23 WARNING(\"solver:nlp_f failed: NaN detected for output f, at (row 0, col 0).\") [.../casadi/core/oracle_function.cpp:377]\n",
      "CasADi - 2024-12-06 09:52:23 WARNING(\"solver:nlp_f failed: NaN detected for output f, at (row 0, col 0).\") [.../casadi/core/oracle_function.cpp:377]\n",
      "CasADi - 2024-12-06 09:52:23 WARNING(\"solver:nlp_f failed: NaN detected for output f, at (row 0, col 0).\") [.../casadi/core/oracle_function.cpp:377]\n",
      "CasADi - 2024-12-06 09:52:23 WARNING(\"solver:nlp_f failed: NaN detected for output f, at (row 0, col 0).\") [.../casadi/core/oracle_function.cpp:377]\n",
      "CasADi - 2024-12-06 09:52:23 WARNING(\"solver:nlp_f failed: NaN detected for output f, at (row 0, col 0).\") [.../casadi/core/oracle_function.cpp:377]\n",
      "CasADi - 2024-12-06 09:52:23 WARNING(\"solver:nlp_f failed: NaN detected for output f, at (row 0, col 0).\") [.../casadi/core/oracle_function.cpp:377]\n",
      "CasADi - 2024-12-06 09:52:23 WARNING(\"solver:nlp_f failed: NaN detected for output f, at (row 0, col 0).\") [.../casadi/core/oracle_function.cpp:377]\n",
      "CasADi - 2024-12-06 09:52:23 WARNING(\"solver:nlp_f failed: NaN detected for output f, at (row 0, col 0).\") [.../casadi/core/oracle_function.cpp:377]\n",
      "CasADi - 2024-12-06 09:52:23 WARNING(\"solver:nlp_f failed: NaN detected for output f, at (row 0, col 0).\") [.../casadi/core/oracle_function.cpp:377]\n",
      "CasADi - 2024-12-06 09:52:23 WARNING(\"solver:nlp_f failed: NaN detected for output f, at (row 0, col 0).\") [.../casadi/core/oracle_function.cpp:377]\n",
      "CasADi - 2024-12-06 09:52:23 WARNING(\"solver:nlp_f failed: NaN detected for output f, at (row 0, col 0).\") [.../casadi/core/oracle_function.cpp:377]\n",
      "CasADi - 2024-12-06 09:52:23 WARNING(\"solver:nlp_f failed: NaN detected for output f, at (row 0, col 0).\") [.../casadi/core/oracle_function.cpp:377]\n",
      "CasADi - 2024-12-06 09:52:23 WARNING(\"solver:nlp_f failed: NaN detected for output f, at (row 0, col 0).\") [.../casadi/core/oracle_function.cpp:377]\n",
      "CasADi - 2024-12-06 09:52:23 WARNING(\"solver:nlp_f failed: NaN detected for output f, at (row 0, col 0).\") [.../casadi/core/oracle_function.cpp:377]\n"
     ]
    },
    {
     "name": "stdout",
     "output_type": "stream",
     "text": [
      "converged! Final Result:  [0.60920508 1.00071468]\n",
      "length 12\n",
      "eval num 12\n"
     ]
    },
    {
     "name": "stderr",
     "output_type": "stream",
     "text": [
      "CasADi - 2024-12-06 09:52:24 WARNING(\"solver:nlp_f failed: NaN detected for output f, at (row 0, col 0).\") [.../casadi/core/oracle_function.cpp:377]\n",
      "CasADi - 2024-12-06 09:52:24 WARNING(\"solver:nlp_f failed: NaN detected for output f, at (row 0, col 0).\") [.../casadi/core/oracle_function.cpp:377]\n",
      "CasADi - 2024-12-06 09:52:24 WARNING(\"solver:nlp_f failed: NaN detected for output f, at (row 0, col 0).\") [.../casadi/core/oracle_function.cpp:377]\n",
      "CasADi - 2024-12-06 09:52:24 WARNING(\"solver:nlp_f failed: NaN detected for output f, at (row 0, col 0).\") [.../casadi/core/oracle_function.cpp:377]\n",
      "CasADi - 2024-12-06 09:52:24 WARNING(\"solver:nlp_f failed: NaN detected for output f, at (row 0, col 0).\") [.../casadi/core/oracle_function.cpp:377]\n",
      "CasADi - 2024-12-06 09:52:24 WARNING(\"solver:nlp_f failed: NaN detected for output f, at (row 0, col 0).\") [.../casadi/core/oracle_function.cpp:377]\n",
      "CasADi - 2024-12-06 09:52:24 WARNING(\"solver:nlp_f failed: NaN detected for output f, at (row 0, col 0).\") [.../casadi/core/oracle_function.cpp:377]\n",
      "CasADi - 2024-12-06 09:52:24 WARNING(\"solver:nlp_f failed: NaN detected for output f, at (row 0, col 0).\") [.../casadi/core/oracle_function.cpp:377]\n",
      "CasADi - 2024-12-06 09:52:24 WARNING(\"solver:nlp_f failed: NaN detected for output f, at (row 0, col 0).\") [.../casadi/core/oracle_function.cpp:377]\n",
      "CasADi - 2024-12-06 09:52:24 WARNING(\"solver:nlp_f failed: NaN detected for output f, at (row 0, col 0).\") [.../casadi/core/oracle_function.cpp:377]\n",
      "CasADi - 2024-12-06 09:52:24 WARNING(\"solver:nlp_f failed: NaN detected for output f, at (row 0, col 0).\") [.../casadi/core/oracle_function.cpp:377]\n",
      "CasADi - 2024-12-06 09:52:24 WARNING(\"solver:nlp_f failed: NaN detected for output f, at (row 0, col 0).\") [.../casadi/core/oracle_function.cpp:377]\n",
      "CasADi - 2024-12-06 09:52:24 WARNING(\"solver:nlp_f failed: NaN detected for output f, at (row 0, col 0).\") [.../casadi/core/oracle_function.cpp:377]\n",
      "CasADi - 2024-12-06 09:52:24 WARNING(\"solver:nlp_f failed: NaN detected for output f, at (row 0, col 0).\") [.../casadi/core/oracle_function.cpp:377]\n",
      "CasADi - 2024-12-06 09:52:24 WARNING(\"solver:nlp_f failed: NaN detected for output f, at (row 0, col 0).\") [.../casadi/core/oracle_function.cpp:377]\n",
      "CasADi - 2024-12-06 09:52:24 WARNING(\"solver:nlp_f failed: NaN detected for output f, at (row 0, col 0).\") [.../casadi/core/oracle_function.cpp:377]\n",
      "CasADi - 2024-12-06 09:52:24 WARNING(\"solver:nlp_f failed: NaN detected for output f, at (row 0, col 0).\") [.../casadi/core/oracle_function.cpp:377]\n"
     ]
    },
    {
     "name": "stdout",
     "output_type": "stream",
     "text": [
      "converged! Final Result:  [0.5988462  0.99896647]\n",
      "length 10\n",
      "eval num 13\n",
      "converged! Final Result:  [0.60715111 0.98758281]\n",
      "length 12\n",
      "eval num 14\n"
     ]
    },
    {
     "name": "stderr",
     "output_type": "stream",
     "text": [
      "CasADi - 2024-12-06 09:52:25 WARNING(\"solver:nlp_f failed: NaN detected for output f, at (row 0, col 0).\") [.../casadi/core/oracle_function.cpp:377]\n",
      "CasADi - 2024-12-06 09:52:25 WARNING(\"solver:nlp_f failed: NaN detected for output f, at (row 0, col 0).\") [.../casadi/core/oracle_function.cpp:377]\n"
     ]
    },
    {
     "name": "stdout",
     "output_type": "stream",
     "text": [
      "error\n",
      "eval num 14\n"
     ]
    },
    {
     "name": "stderr",
     "output_type": "stream",
     "text": [
      "CasADi - 2024-12-06 09:52:25 WARNING(\"solver:nlp_f failed: NaN detected for output f, at (row 0, col 0).\") [.../casadi/core/oracle_function.cpp:377]\n",
      "CasADi - 2024-12-06 09:52:25 WARNING(\"solver:nlp_f failed: NaN detected for output f, at (row 0, col 0).\") [.../casadi/core/oracle_function.cpp:377]\n",
      "CasADi - 2024-12-06 09:52:25 WARNING(\"solver:nlp_f failed: NaN detected for output f, at (row 0, col 0).\") [.../casadi/core/oracle_function.cpp:377]\n",
      "CasADi - 2024-12-06 09:52:25 WARNING(\"solver:nlp_f failed: NaN detected for output f, at (row 0, col 0).\") [.../casadi/core/oracle_function.cpp:377]\n",
      "CasADi - 2024-12-06 09:52:25 WARNING(\"solver:nlp_f failed: NaN detected for output f, at (row 0, col 0).\") [.../casadi/core/oracle_function.cpp:377]\n",
      "CasADi - 2024-12-06 09:52:25 WARNING(\"solver:nlp_f failed: NaN detected for output f, at (row 0, col 0).\") [.../casadi/core/oracle_function.cpp:377]\n",
      "CasADi - 2024-12-06 09:52:25 WARNING(\"solver:nlp_f failed: NaN detected for output f, at (row 0, col 0).\") [.../casadi/core/oracle_function.cpp:377]\n",
      "CasADi - 2024-12-06 09:52:25 WARNING(\"solver:nlp_f failed: NaN detected for output f, at (row 0, col 0).\") [.../casadi/core/oracle_function.cpp:377]\n",
      "CasADi - 2024-12-06 09:52:25 WARNING(\"solver:nlp_f failed: NaN detected for output f, at (row 0, col 0).\") [.../casadi/core/oracle_function.cpp:377]\n",
      "CasADi - 2024-12-06 09:52:25 WARNING(\"solver:nlp_f failed: NaN detected for output f, at (row 0, col 0).\") [.../casadi/core/oracle_function.cpp:377]\n"
     ]
    },
    {
     "name": "stdout",
     "output_type": "stream",
     "text": [
      "converged! Final Result:  [0.61054036 1.00111702]\n",
      "length 9\n",
      "eval num 15\n",
      "error\n",
      "eval num 15\n"
     ]
    },
    {
     "name": "stderr",
     "output_type": "stream",
     "text": [
      "CasADi - 2024-12-06 09:52:26 WARNING(\"solver:nlp_f failed: NaN detected for output f, at (row 0, col 0).\") [.../casadi/core/oracle_function.cpp:377]\n",
      "CasADi - 2024-12-06 09:52:26 WARNING(\"solver:nlp_f failed: NaN detected for output f, at (row 0, col 0).\") [.../casadi/core/oracle_function.cpp:377]\n",
      "CasADi - 2024-12-06 09:52:26 WARNING(\"solver:nlp_f failed: NaN detected for output f, at (row 0, col 0).\") [.../casadi/core/oracle_function.cpp:377]\n",
      "CasADi - 2024-12-06 09:52:26 WARNING(\"solver:nlp_f failed: NaN detected for output f, at (row 0, col 0).\") [.../casadi/core/oracle_function.cpp:377]\n",
      "CasADi - 2024-12-06 09:52:26 WARNING(\"solver:nlp_f failed: NaN detected for output f, at (row 0, col 0).\") [.../casadi/core/oracle_function.cpp:377]\n",
      "CasADi - 2024-12-06 09:52:26 WARNING(\"solver:nlp_f failed: NaN detected for output f, at (row 0, col 0).\") [.../casadi/core/oracle_function.cpp:377]\n",
      "CasADi - 2024-12-06 09:52:26 WARNING(\"solver:nlp_f failed: NaN detected for output f, at (row 0, col 0).\") [.../casadi/core/oracle_function.cpp:377]\n",
      "CasADi - 2024-12-06 09:52:26 WARNING(\"solver:nlp_f failed: NaN detected for output f, at (row 0, col 0).\") [.../casadi/core/oracle_function.cpp:377]\n",
      "CasADi - 2024-12-06 09:52:26 WARNING(\"solver:nlp_f failed: NaN detected for output f, at (row 0, col 0).\") [.../casadi/core/oracle_function.cpp:377]\n",
      "CasADi - 2024-12-06 09:52:26 WARNING(\"solver:nlp_f failed: NaN detected for output f, at (row 0, col 0).\") [.../casadi/core/oracle_function.cpp:377]\n",
      "CasADi - 2024-12-06 09:52:26 WARNING(\"solver:nlp_f failed: NaN detected for output f, at (row 0, col 0).\") [.../casadi/core/oracle_function.cpp:377]\n",
      "CasADi - 2024-12-06 09:52:26 WARNING(\"solver:nlp_f failed: NaN detected for output f, at (row 0, col 0).\") [.../casadi/core/oracle_function.cpp:377]\n",
      "CasADi - 2024-12-06 09:52:26 WARNING(\"solver:nlp_f failed: NaN detected for output f, at (row 0, col 0).\") [.../casadi/core/oracle_function.cpp:377]\n",
      "CasADi - 2024-12-06 09:52:26 WARNING(\"solver:nlp_f failed: NaN detected for output f, at (row 0, col 0).\") [.../casadi/core/oracle_function.cpp:377]\n",
      "CasADi - 2024-12-06 09:52:26 WARNING(\"solver:nlp_f failed: NaN detected for output f, at (row 0, col 0).\") [.../casadi/core/oracle_function.cpp:377]\n",
      "CasADi - 2024-12-06 09:52:26 WARNING(\"solver:nlp_f failed: NaN detected for output f, at (row 0, col 0).\") [.../casadi/core/oracle_function.cpp:377]\n",
      "CasADi - 2024-12-06 09:52:26 WARNING(\"solver:nlp_f failed: NaN detected for output f, at (row 0, col 0).\") [.../casadi/core/oracle_function.cpp:377]\n",
      "CasADi - 2024-12-06 09:52:26 WARNING(\"solver:nlp_f failed: NaN detected for output f, at (row 0, col 0).\") [.../casadi/core/oracle_function.cpp:377]\n",
      "CasADi - 2024-12-06 09:52:26 WARNING(\"solver:nlp_f failed: NaN detected for output f, at (row 0, col 0).\") [.../casadi/core/oracle_function.cpp:377]\n",
      "CasADi - 2024-12-06 09:52:26 WARNING(\"solver:nlp_f failed: NaN detected for output f, at (row 0, col 0).\") [.../casadi/core/oracle_function.cpp:377]\n",
      "CasADi - 2024-12-06 09:52:26 WARNING(\"solver:nlp_f failed: NaN detected for output f, at (row 0, col 0).\") [.../casadi/core/oracle_function.cpp:377]\n",
      "CasADi - 2024-12-06 09:52:26 WARNING(\"solver:nlp_f failed: NaN detected for output f, at (row 0, col 0).\") [.../casadi/core/oracle_function.cpp:377]\n"
     ]
    },
    {
     "name": "stdout",
     "output_type": "stream",
     "text": [
      "converged! Final Result:  [0.6034134  0.99777514]\n",
      "length 10\n",
      "eval num 16\n"
     ]
    },
    {
     "name": "stderr",
     "output_type": "stream",
     "text": [
      "CasADi - 2024-12-06 09:52:27 WARNING(\"solver:nlp_f failed: NaN detected for output f, at (row 0, col 0).\") [.../casadi/core/oracle_function.cpp:377]\n",
      "CasADi - 2024-12-06 09:52:27 WARNING(\"solver:nlp_f failed: NaN detected for output f, at (row 0, col 0).\") [.../casadi/core/oracle_function.cpp:377]\n",
      "CasADi - 2024-12-06 09:52:27 WARNING(\"solver:nlp_f failed: NaN detected for output f, at (row 0, col 0).\") [.../casadi/core/oracle_function.cpp:377]\n",
      "CasADi - 2024-12-06 09:52:27 WARNING(\"solver:nlp_f failed: NaN detected for output f, at (row 0, col 0).\") [.../casadi/core/oracle_function.cpp:377]\n",
      "CasADi - 2024-12-06 09:52:27 WARNING(\"solver:nlp_f failed: NaN detected for output f, at (row 0, col 0).\") [.../casadi/core/oracle_function.cpp:377]\n",
      "CasADi - 2024-12-06 09:52:27 WARNING(\"solver:nlp_f failed: NaN detected for output f, at (row 0, col 0).\") [.../casadi/core/oracle_function.cpp:377]\n",
      "CasADi - 2024-12-06 09:52:27 WARNING(\"solver:nlp_f failed: NaN detected for output f, at (row 0, col 0).\") [.../casadi/core/oracle_function.cpp:377]\n",
      "CasADi - 2024-12-06 09:52:27 WARNING(\"solver:nlp_f failed: NaN detected for output f, at (row 0, col 0).\") [.../casadi/core/oracle_function.cpp:377]\n",
      "CasADi - 2024-12-06 09:52:27 WARNING(\"solver:nlp_f failed: NaN detected for output f, at (row 0, col 0).\") [.../casadi/core/oracle_function.cpp:377]\n",
      "CasADi - 2024-12-06 09:52:27 WARNING(\"solver:nlp_f failed: NaN detected for output f, at (row 0, col 0).\") [.../casadi/core/oracle_function.cpp:377]\n",
      "CasADi - 2024-12-06 09:52:27 WARNING(\"solver:nlp_f failed: NaN detected for output f, at (row 0, col 0).\") [.../casadi/core/oracle_function.cpp:377]\n",
      "CasADi - 2024-12-06 09:52:27 WARNING(\"solver:nlp_f failed: NaN detected for output f, at (row 0, col 0).\") [.../casadi/core/oracle_function.cpp:377]\n",
      "CasADi - 2024-12-06 09:52:27 WARNING(\"solver:nlp_f failed: NaN detected for output f, at (row 0, col 0).\") [.../casadi/core/oracle_function.cpp:377]\n",
      "CasADi - 2024-12-06 09:52:27 WARNING(\"solver:nlp_f failed: NaN detected for output f, at (row 0, col 0).\") [.../casadi/core/oracle_function.cpp:377]\n",
      "CasADi - 2024-12-06 09:52:27 WARNING(\"solver:nlp_f failed: NaN detected for output f, at (row 0, col 0).\") [.../casadi/core/oracle_function.cpp:377]\n",
      "CasADi - 2024-12-06 09:52:27 WARNING(\"solver:nlp_f failed: NaN detected for output f, at (row 0, col 0).\") [.../casadi/core/oracle_function.cpp:377]\n",
      "CasADi - 2024-12-06 09:52:27 WARNING(\"solver:nlp_f failed: NaN detected for output f, at (row 0, col 0).\") [.../casadi/core/oracle_function.cpp:377]\n",
      "CasADi - 2024-12-06 09:52:27 WARNING(\"solver:nlp_f failed: NaN detected for output f, at (row 0, col 0).\") [.../casadi/core/oracle_function.cpp:377]\n",
      "CasADi - 2024-12-06 09:52:27 WARNING(\"solver:nlp_f failed: NaN detected for output f, at (row 0, col 0).\") [.../casadi/core/oracle_function.cpp:377]\n"
     ]
    },
    {
     "name": "stdout",
     "output_type": "stream",
     "text": [
      "converged! Final Result:  [0.59344342 0.99748069]\n",
      "length 11\n",
      "eval num 17\n",
      "converged! Final Result:  [0.60243311 1.00483791]\n",
      "length 7\n",
      "eval num 18\n"
     ]
    },
    {
     "name": "stderr",
     "output_type": "stream",
     "text": [
      "CasADi - 2024-12-06 09:52:28 WARNING(\"solver:nlp_f failed: NaN detected for output f, at (row 0, col 0).\") [.../casadi/core/oracle_function.cpp:377]\n",
      "CasADi - 2024-12-06 09:52:28 WARNING(\"solver:nlp_f failed: NaN detected for output f, at (row 0, col 0).\") [.../casadi/core/oracle_function.cpp:377]\n",
      "CasADi - 2024-12-06 09:52:28 WARNING(\"solver:nlp_f failed: NaN detected for output f, at (row 0, col 0).\") [.../casadi/core/oracle_function.cpp:377]\n",
      "CasADi - 2024-12-06 09:52:28 WARNING(\"solver:nlp_f failed: NaN detected for output f, at (row 0, col 0).\") [.../casadi/core/oracle_function.cpp:377]\n",
      "CasADi - 2024-12-06 09:52:28 WARNING(\"solver:nlp_f failed: NaN detected for output f, at (row 0, col 0).\") [.../casadi/core/oracle_function.cpp:377]\n",
      "CasADi - 2024-12-06 09:52:28 WARNING(\"solver:nlp_f failed: NaN detected for output f, at (row 0, col 0).\") [.../casadi/core/oracle_function.cpp:377]\n",
      "CasADi - 2024-12-06 09:52:28 WARNING(\"solver:nlp_f failed: NaN detected for output f, at (row 0, col 0).\") [.../casadi/core/oracle_function.cpp:377]\n",
      "CasADi - 2024-12-06 09:52:28 WARNING(\"solver:nlp_f failed: NaN detected for output f, at (row 0, col 0).\") [.../casadi/core/oracle_function.cpp:377]\n",
      "CasADi - 2024-12-06 09:52:28 WARNING(\"solver:nlp_f failed: NaN detected for output f, at (row 0, col 0).\") [.../casadi/core/oracle_function.cpp:377]\n",
      "CasADi - 2024-12-06 09:52:28 WARNING(\"solver:nlp_f failed: NaN detected for output f, at (row 0, col 0).\") [.../casadi/core/oracle_function.cpp:377]\n",
      "CasADi - 2024-12-06 09:52:28 WARNING(\"solver:nlp_f failed: NaN detected for output f, at (row 0, col 0).\") [.../casadi/core/oracle_function.cpp:377]\n",
      "CasADi - 2024-12-06 09:52:28 WARNING(\"solver:nlp_f failed: NaN detected for output f, at (row 0, col 0).\") [.../casadi/core/oracle_function.cpp:377]\n",
      "CasADi - 2024-12-06 09:52:28 WARNING(\"solver:nlp_f failed: NaN detected for output f, at (row 0, col 0).\") [.../casadi/core/oracle_function.cpp:377]\n",
      "CasADi - 2024-12-06 09:52:28 WARNING(\"solver:nlp_f failed: NaN detected for output f, at (row 0, col 0).\") [.../casadi/core/oracle_function.cpp:377]\n",
      "CasADi - 2024-12-06 09:52:28 WARNING(\"solver:nlp_f failed: NaN detected for output f, at (row 0, col 0).\") [.../casadi/core/oracle_function.cpp:377]\n",
      "CasADi - 2024-12-06 09:52:28 WARNING(\"solver:nlp_f failed: NaN detected for output f, at (row 0, col 0).\") [.../casadi/core/oracle_function.cpp:377]\n",
      "CasADi - 2024-12-06 09:52:28 WARNING(\"solver:nlp_f failed: NaN detected for output f, at (row 0, col 0).\") [.../casadi/core/oracle_function.cpp:377]\n",
      "CasADi - 2024-12-06 09:52:28 WARNING(\"solver:nlp_f failed: NaN detected for output f, at (row 0, col 0).\") [.../casadi/core/oracle_function.cpp:377]\n",
      "CasADi - 2024-12-06 09:52:28 WARNING(\"solver:nlp_f failed: NaN detected for output f, at (row 0, col 0).\") [.../casadi/core/oracle_function.cpp:377]\n",
      "CasADi - 2024-12-06 09:52:28 WARNING(\"solver:nlp_f failed: NaN detected for output f, at (row 0, col 0).\") [.../casadi/core/oracle_function.cpp:377]\n",
      "CasADi - 2024-12-06 09:52:28 WARNING(\"solver:nlp_f failed: NaN detected for output f, at (row 0, col 0).\") [.../casadi/core/oracle_function.cpp:377]\n",
      "CasADi - 2024-12-06 09:52:28 WARNING(\"solver:nlp_f failed: NaN detected for output f, at (row 0, col 0).\") [.../casadi/core/oracle_function.cpp:377]\n",
      "CasADi - 2024-12-06 09:52:28 WARNING(\"solver:nlp_f failed: NaN detected for output f, at (row 0, col 0).\") [.../casadi/core/oracle_function.cpp:377]\n",
      "CasADi - 2024-12-06 09:52:28 WARNING(\"solver:nlp_f failed: NaN detected for output f, at (row 0, col 0).\") [.../casadi/core/oracle_function.cpp:377]\n",
      "CasADi - 2024-12-06 09:52:28 WARNING(\"solver:nlp_f failed: NaN detected for output f, at (row 0, col 0).\") [.../casadi/core/oracle_function.cpp:377]\n",
      "CasADi - 2024-12-06 09:52:28 WARNING(\"solver:nlp_f failed: NaN detected for output f, at (row 0, col 0).\") [.../casadi/core/oracle_function.cpp:377]\n",
      "CasADi - 2024-12-06 09:52:28 WARNING(\"solver:nlp_f failed: NaN detected for output f, at (row 0, col 0).\") [.../casadi/core/oracle_function.cpp:377]\n",
      "CasADi - 2024-12-06 09:52:28 WARNING(\"solver:nlp_f failed: NaN detected for output f, at (row 0, col 0).\") [.../casadi/core/oracle_function.cpp:377]\n",
      "CasADi - 2024-12-06 09:52:28 WARNING(\"solver:nlp_f failed: NaN detected for output f, at (row 0, col 0).\") [.../casadi/core/oracle_function.cpp:377]\n",
      "CasADi - 2024-12-06 09:52:28 WARNING(\"solver:nlp_f failed: NaN detected for output f, at (row 0, col 0).\") [.../casadi/core/oracle_function.cpp:377]\n",
      "CasADi - 2024-12-06 09:52:28 WARNING(\"solver:nlp_f failed: NaN detected for output f, at (row 0, col 0).\") [.../casadi/core/oracle_function.cpp:377]\n",
      "CasADi - 2024-12-06 09:52:28 WARNING(\"solver:nlp_f failed: NaN detected for output f, at (row 0, col 0).\") [.../casadi/core/oracle_function.cpp:377]\n",
      "CasADi - 2024-12-06 09:52:28 WARNING(\"solver:nlp_f failed: NaN detected for output f, at (row 0, col 0).\") [.../casadi/core/oracle_function.cpp:377]\n",
      "CasADi - 2024-12-06 09:52:28 WARNING(\"solver:nlp_f failed: NaN detected for output f, at (row 0, col 0).\") [.../casadi/core/oracle_function.cpp:377]\n",
      "CasADi - 2024-12-06 09:52:28 WARNING(\"solver:nlp_f failed: NaN detected for output f, at (row 0, col 0).\") [.../casadi/core/oracle_function.cpp:377]\n",
      "CasADi - 2024-12-06 09:52:28 WARNING(\"solver:nlp_f failed: NaN detected for output f, at (row 0, col 0).\") [.../casadi/core/oracle_function.cpp:377]\n",
      "CasADi - 2024-12-06 09:52:28 WARNING(\"solver:nlp_f failed: NaN detected for output f, at (row 0, col 0).\") [.../casadi/core/oracle_function.cpp:377]\n",
      "CasADi - 2024-12-06 09:52:28 WARNING(\"solver:nlp_f failed: NaN detected for output f, at (row 0, col 0).\") [.../casadi/core/oracle_function.cpp:377]\n",
      "CasADi - 2024-12-06 09:52:28 WARNING(\"solver:nlp_f failed: NaN detected for output f, at (row 0, col 0).\") [.../casadi/core/oracle_function.cpp:377]\n"
     ]
    },
    {
     "name": "stdout",
     "output_type": "stream",
     "text": [
      "converged! Final Result:  [0.594327   1.00009205]\n",
      "length 14\n",
      "eval num 19\n"
     ]
    },
    {
     "name": "stderr",
     "output_type": "stream",
     "text": [
      "CasADi - 2024-12-06 09:52:28 WARNING(\"solver:nlp_f failed: NaN detected for output f, at (row 0, col 0).\") [.../casadi/core/oracle_function.cpp:377]\n",
      "CasADi - 2024-12-06 09:52:28 WARNING(\"solver:nlp_f failed: NaN detected for output f, at (row 0, col 0).\") [.../casadi/core/oracle_function.cpp:377]\n",
      "CasADi - 2024-12-06 09:52:28 WARNING(\"solver:nlp_f failed: NaN detected for output f, at (row 0, col 0).\") [.../casadi/core/oracle_function.cpp:377]\n",
      "CasADi - 2024-12-06 09:52:28 WARNING(\"solver:nlp_f failed: NaN detected for output f, at (row 0, col 0).\") [.../casadi/core/oracle_function.cpp:377]\n",
      "CasADi - 2024-12-06 09:52:28 WARNING(\"solver:nlp_f failed: NaN detected for output f, at (row 0, col 0).\") [.../casadi/core/oracle_function.cpp:377]\n",
      "CasADi - 2024-12-06 09:52:28 WARNING(\"solver:nlp_f failed: NaN detected for output f, at (row 0, col 0).\") [.../casadi/core/oracle_function.cpp:377]\n",
      "CasADi - 2024-12-06 09:52:28 WARNING(\"solver:nlp_f failed: NaN detected for output f, at (row 0, col 0).\") [.../casadi/core/oracle_function.cpp:377]\n",
      "CasADi - 2024-12-06 09:52:28 WARNING(\"solver:nlp_f failed: NaN detected for output f, at (row 0, col 0).\") [.../casadi/core/oracle_function.cpp:377]\n",
      "CasADi - 2024-12-06 09:52:28 WARNING(\"solver:nlp_f failed: NaN detected for output f, at (row 0, col 0).\") [.../casadi/core/oracle_function.cpp:377]\n",
      "CasADi - 2024-12-06 09:52:28 WARNING(\"solver:nlp_f failed: NaN detected for output f, at (row 0, col 0).\") [.../casadi/core/oracle_function.cpp:377]\n"
     ]
    },
    {
     "name": "stdout",
     "output_type": "stream",
     "text": [
      "converged! Final Result:  [0.59028995 1.00661518]\n",
      "length 8\n",
      "eval num 0\n",
      "error\n",
      "eval num 0\n"
     ]
    },
    {
     "name": "stderr",
     "output_type": "stream",
     "text": [
      "CasADi - 2024-12-06 09:52:29 WARNING(\"solver:nlp_f failed: NaN detected for output f, at (row 0, col 0).\") [.../casadi/core/oracle_function.cpp:377]\n",
      "CasADi - 2024-12-06 09:52:29 WARNING(\"solver:nlp_f failed: NaN detected for output f, at (row 0, col 0).\") [.../casadi/core/oracle_function.cpp:377]\n",
      "CasADi - 2024-12-06 09:52:29 WARNING(\"solver:nlp_f failed: NaN detected for output f, at (row 0, col 0).\") [.../casadi/core/oracle_function.cpp:377]\n",
      "CasADi - 2024-12-06 09:52:29 WARNING(\"solver:nlp_f failed: NaN detected for output f, at (row 0, col 0).\") [.../casadi/core/oracle_function.cpp:377]\n",
      "CasADi - 2024-12-06 09:52:29 WARNING(\"solver:nlp_f failed: NaN detected for output f, at (row 0, col 0).\") [.../casadi/core/oracle_function.cpp:377]\n",
      "CasADi - 2024-12-06 09:52:29 WARNING(\"solver:nlp_f failed: NaN detected for output f, at (row 0, col 0).\") [.../casadi/core/oracle_function.cpp:377]\n",
      "CasADi - 2024-12-06 09:52:29 WARNING(\"solver:nlp_f failed: NaN detected for output f, at (row 0, col 0).\") [.../casadi/core/oracle_function.cpp:377]\n",
      "CasADi - 2024-12-06 09:52:29 WARNING(\"solver:nlp_f failed: NaN detected for output f, at (row 0, col 0).\") [.../casadi/core/oracle_function.cpp:377]\n",
      "CasADi - 2024-12-06 09:52:29 WARNING(\"solver:nlp_f failed: NaN detected for output f, at (row 0, col 0).\") [.../casadi/core/oracle_function.cpp:377]\n",
      "CasADi - 2024-12-06 09:52:29 WARNING(\"solver:nlp_f failed: NaN detected for output f, at (row 0, col 0).\") [.../casadi/core/oracle_function.cpp:377]\n",
      "CasADi - 2024-12-06 09:52:29 WARNING(\"solver:nlp_f failed: NaN detected for output f, at (row 0, col 0).\") [.../casadi/core/oracle_function.cpp:377]\n",
      "CasADi - 2024-12-06 09:52:29 WARNING(\"solver:nlp_f failed: NaN detected for output f, at (row 0, col 0).\") [.../casadi/core/oracle_function.cpp:377]\n",
      "CasADi - 2024-12-06 09:52:29 WARNING(\"solver:nlp_f failed: NaN detected for output f, at (row 0, col 0).\") [.../casadi/core/oracle_function.cpp:377]\n",
      "CasADi - 2024-12-06 09:52:29 WARNING(\"solver:nlp_f failed: NaN detected for output f, at (row 0, col 0).\") [.../casadi/core/oracle_function.cpp:377]\n",
      "CasADi - 2024-12-06 09:52:29 WARNING(\"solver:nlp_f failed: NaN detected for output f, at (row 0, col 0).\") [.../casadi/core/oracle_function.cpp:377]\n",
      "CasADi - 2024-12-06 09:52:29 WARNING(\"solver:nlp_f failed: NaN detected for output f, at (row 0, col 0).\") [.../casadi/core/oracle_function.cpp:377]\n",
      "CasADi - 2024-12-06 09:52:29 WARNING(\"solver:nlp_f failed: NaN detected for output f, at (row 0, col 0).\") [.../casadi/core/oracle_function.cpp:377]\n",
      "CasADi - 2024-12-06 09:52:29 WARNING(\"solver:nlp_f failed: NaN detected for output f, at (row 0, col 0).\") [.../casadi/core/oracle_function.cpp:377]\n",
      "CasADi - 2024-12-06 09:52:29 WARNING(\"solver:nlp_f failed: NaN detected for output f, at (row 0, col 0).\") [.../casadi/core/oracle_function.cpp:377]\n",
      "CasADi - 2024-12-06 09:52:29 WARNING(\"solver:nlp_f failed: NaN detected for output f, at (row 0, col 0).\") [.../casadi/core/oracle_function.cpp:377]\n",
      "CasADi - 2024-12-06 09:52:29 WARNING(\"solver:nlp_f failed: NaN detected for output f, at (row 0, col 0).\") [.../casadi/core/oracle_function.cpp:377]\n",
      "CasADi - 2024-12-06 09:52:29 WARNING(\"solver:nlp_f failed: NaN detected for output f, at (row 0, col 0).\") [.../casadi/core/oracle_function.cpp:377]\n",
      "CasADi - 2024-12-06 09:52:29 WARNING(\"solver:nlp_f failed: NaN detected for output f, at (row 0, col 0).\") [.../casadi/core/oracle_function.cpp:377]\n",
      "CasADi - 2024-12-06 09:52:29 WARNING(\"solver:nlp_f failed: NaN detected for output f, at (row 0, col 0).\") [.../casadi/core/oracle_function.cpp:377]\n",
      "CasADi - 2024-12-06 09:52:29 WARNING(\"solver:nlp_f failed: NaN detected for output f, at (row 0, col 0).\") [.../casadi/core/oracle_function.cpp:377]\n",
      "CasADi - 2024-12-06 09:52:29 WARNING(\"solver:nlp_f failed: NaN detected for output f, at (row 0, col 0).\") [.../casadi/core/oracle_function.cpp:377]\n",
      "CasADi - 2024-12-06 09:52:29 WARNING(\"solver:nlp_f failed: NaN detected for output f, at (row 0, col 0).\") [.../casadi/core/oracle_function.cpp:377]\n",
      "CasADi - 2024-12-06 09:52:29 WARNING(\"solver:nlp_f failed: NaN detected for output f, at (row 0, col 0).\") [.../casadi/core/oracle_function.cpp:377]\n",
      "CasADi - 2024-12-06 09:52:29 WARNING(\"solver:nlp_f failed: NaN detected for output f, at (row 0, col 0).\") [.../casadi/core/oracle_function.cpp:377]\n",
      "CasADi - 2024-12-06 09:52:29 WARNING(\"solver:nlp_f failed: NaN detected for output f, at (row 0, col 0).\") [.../casadi/core/oracle_function.cpp:377]\n",
      "CasADi - 2024-12-06 09:52:29 WARNING(\"solver:nlp_f failed: NaN detected for output f, at (row 0, col 0).\") [.../casadi/core/oracle_function.cpp:377]\n",
      "CasADi - 2024-12-06 09:52:29 WARNING(\"solver:nlp_f failed: NaN detected for output f, at (row 0, col 0).\") [.../casadi/core/oracle_function.cpp:377]\n"
     ]
    },
    {
     "name": "stdout",
     "output_type": "stream",
     "text": [
      "converged! Final Result:  [0.5916046 1.0015725]\n",
      "length 15\n",
      "eval num 1\n"
     ]
    },
    {
     "name": "stderr",
     "output_type": "stream",
     "text": [
      "CasADi - 2024-12-06 09:52:30 WARNING(\"solver:nlp_f failed: NaN detected for output f, at (row 0, col 0).\") [.../casadi/core/oracle_function.cpp:377]\n",
      "CasADi - 2024-12-06 09:52:30 WARNING(\"solver:nlp_f failed: NaN detected for output f, at (row 0, col 0).\") [.../casadi/core/oracle_function.cpp:377]\n",
      "CasADi - 2024-12-06 09:52:30 WARNING(\"solver:nlp_f failed: NaN detected for output f, at (row 0, col 0).\") [.../casadi/core/oracle_function.cpp:377]\n",
      "CasADi - 2024-12-06 09:52:30 WARNING(\"solver:nlp_f failed: NaN detected for output f, at (row 0, col 0).\") [.../casadi/core/oracle_function.cpp:377]\n",
      "CasADi - 2024-12-06 09:52:30 WARNING(\"solver:nlp_f failed: NaN detected for output f, at (row 0, col 0).\") [.../casadi/core/oracle_function.cpp:377]\n",
      "CasADi - 2024-12-06 09:52:30 WARNING(\"solver:nlp_f failed: NaN detected for output f, at (row 0, col 0).\") [.../casadi/core/oracle_function.cpp:377]\n",
      "CasADi - 2024-12-06 09:52:30 WARNING(\"solver:nlp_f failed: NaN detected for output f, at (row 0, col 0).\") [.../casadi/core/oracle_function.cpp:377]\n",
      "CasADi - 2024-12-06 09:52:30 WARNING(\"solver:nlp_f failed: NaN detected for output f, at (row 0, col 0).\") [.../casadi/core/oracle_function.cpp:377]\n"
     ]
    },
    {
     "name": "stdout",
     "output_type": "stream",
     "text": [
      "converged! Final Result:  [0.60467801 0.99618019]\n",
      "length 7\n",
      "eval num 2\n",
      "error\n",
      "eval num 2\n"
     ]
    },
    {
     "name": "stderr",
     "output_type": "stream",
     "text": [
      "CasADi - 2024-12-06 09:52:30 WARNING(\"solver:nlp_f failed: NaN detected for output f, at (row 0, col 0).\") [.../casadi/core/oracle_function.cpp:377]\n",
      "CasADi - 2024-12-06 09:52:31 WARNING(\"solver:nlp_f failed: NaN detected for output f, at (row 0, col 0).\") [.../casadi/core/oracle_function.cpp:377]\n",
      "CasADi - 2024-12-06 09:52:31 WARNING(\"solver:nlp_f failed: NaN detected for output f, at (row 0, col 0).\") [.../casadi/core/oracle_function.cpp:377]\n",
      "CasADi - 2024-12-06 09:52:31 WARNING(\"solver:nlp_f failed: NaN detected for output f, at (row 0, col 0).\") [.../casadi/core/oracle_function.cpp:377]\n",
      "CasADi - 2024-12-06 09:52:31 WARNING(\"solver:nlp_f failed: NaN detected for output f, at (row 0, col 0).\") [.../casadi/core/oracle_function.cpp:377]\n",
      "CasADi - 2024-12-06 09:52:31 WARNING(\"solver:nlp_f failed: NaN detected for output f, at (row 0, col 0).\") [.../casadi/core/oracle_function.cpp:377]\n",
      "CasADi - 2024-12-06 09:52:31 WARNING(\"solver:nlp_f failed: NaN detected for output f, at (row 0, col 0).\") [.../casadi/core/oracle_function.cpp:377]\n",
      "CasADi - 2024-12-06 09:52:31 WARNING(\"solver:nlp_f failed: NaN detected for output f, at (row 0, col 0).\") [.../casadi/core/oracle_function.cpp:377]\n",
      "CasADi - 2024-12-06 09:52:31 WARNING(\"solver:nlp_f failed: NaN detected for output f, at (row 0, col 0).\") [.../casadi/core/oracle_function.cpp:377]\n",
      "CasADi - 2024-12-06 09:52:31 WARNING(\"solver:nlp_f failed: NaN detected for output f, at (row 0, col 0).\") [.../casadi/core/oracle_function.cpp:377]\n",
      "CasADi - 2024-12-06 09:52:31 WARNING(\"solver:nlp_f failed: NaN detected for output f, at (row 0, col 0).\") [.../casadi/core/oracle_function.cpp:377]\n",
      "CasADi - 2024-12-06 09:52:31 WARNING(\"solver:nlp_f failed: NaN detected for output f, at (row 0, col 0).\") [.../casadi/core/oracle_function.cpp:377]\n",
      "CasADi - 2024-12-06 09:52:31 WARNING(\"solver:nlp_f failed: NaN detected for output f, at (row 0, col 0).\") [.../casadi/core/oracle_function.cpp:377]\n",
      "CasADi - 2024-12-06 09:52:31 WARNING(\"solver:nlp_f failed: NaN detected for output f, at (row 0, col 0).\") [.../casadi/core/oracle_function.cpp:377]\n",
      "CasADi - 2024-12-06 09:52:31 WARNING(\"solver:nlp_f failed: NaN detected for output f, at (row 0, col 0).\") [.../casadi/core/oracle_function.cpp:377]\n",
      "CasADi - 2024-12-06 09:52:31 WARNING(\"solver:nlp_f failed: NaN detected for output f, at (row 0, col 0).\") [.../casadi/core/oracle_function.cpp:377]\n"
     ]
    },
    {
     "name": "stdout",
     "output_type": "stream",
     "text": [
      "converged! Final Result:  [0.59818504 0.9998378 ]\n",
      "length 10\n",
      "eval num 3\n"
     ]
    },
    {
     "name": "stderr",
     "output_type": "stream",
     "text": [
      "CasADi - 2024-12-06 09:52:31 WARNING(\"solver:nlp_f failed: NaN detected for output f, at (row 0, col 0).\") [.../casadi/core/oracle_function.cpp:377]\n",
      "CasADi - 2024-12-06 09:52:31 WARNING(\"solver:nlp_f failed: NaN detected for output f, at (row 0, col 0).\") [.../casadi/core/oracle_function.cpp:377]\n",
      "CasADi - 2024-12-06 09:52:31 WARNING(\"solver:nlp_f failed: NaN detected for output f, at (row 0, col 0).\") [.../casadi/core/oracle_function.cpp:377]\n",
      "CasADi - 2024-12-06 09:52:31 WARNING(\"solver:nlp_f failed: NaN detected for output f, at (row 0, col 0).\") [.../casadi/core/oracle_function.cpp:377]\n",
      "CasADi - 2024-12-06 09:52:31 WARNING(\"solver:nlp_f failed: NaN detected for output f, at (row 0, col 0).\") [.../casadi/core/oracle_function.cpp:377]\n",
      "CasADi - 2024-12-06 09:52:31 WARNING(\"solver:nlp_f failed: NaN detected for output f, at (row 0, col 0).\") [.../casadi/core/oracle_function.cpp:377]\n",
      "CasADi - 2024-12-06 09:52:31 WARNING(\"solver:nlp_f failed: NaN detected for output f, at (row 0, col 0).\") [.../casadi/core/oracle_function.cpp:377]\n",
      "CasADi - 2024-12-06 09:52:31 WARNING(\"solver:nlp_f failed: NaN detected for output f, at (row 0, col 0).\") [.../casadi/core/oracle_function.cpp:377]\n"
     ]
    },
    {
     "name": "stdout",
     "output_type": "stream",
     "text": [
      "converged! Final Result:  [0.59895358 1.01760765]\n",
      "length 11\n",
      "eval num 4\n"
     ]
    },
    {
     "name": "stderr",
     "output_type": "stream",
     "text": [
      "CasADi - 2024-12-06 09:52:31 WARNING(\"solver:nlp_f failed: NaN detected for output f, at (row 0, col 0).\") [.../casadi/core/oracle_function.cpp:377]\n",
      "CasADi - 2024-12-06 09:52:31 WARNING(\"solver:nlp_f failed: NaN detected for output f, at (row 0, col 0).\") [.../casadi/core/oracle_function.cpp:377]\n",
      "CasADi - 2024-12-06 09:52:31 WARNING(\"solver:nlp_f failed: NaN detected for output f, at (row 0, col 0).\") [.../casadi/core/oracle_function.cpp:377]\n",
      "CasADi - 2024-12-06 09:52:31 WARNING(\"solver:nlp_f failed: NaN detected for output f, at (row 0, col 0).\") [.../casadi/core/oracle_function.cpp:377]\n",
      "CasADi - 2024-12-06 09:52:31 WARNING(\"solver:nlp_f failed: NaN detected for output f, at (row 0, col 0).\") [.../casadi/core/oracle_function.cpp:377]\n",
      "CasADi - 2024-12-06 09:52:31 WARNING(\"solver:nlp_f failed: NaN detected for output f, at (row 0, col 0).\") [.../casadi/core/oracle_function.cpp:377]\n",
      "CasADi - 2024-12-06 09:52:31 WARNING(\"solver:nlp_f failed: NaN detected for output f, at (row 0, col 0).\") [.../casadi/core/oracle_function.cpp:377]\n",
      "CasADi - 2024-12-06 09:52:31 WARNING(\"solver:nlp_f failed: NaN detected for output f, at (row 0, col 0).\") [.../casadi/core/oracle_function.cpp:377]\n",
      "CasADi - 2024-12-06 09:52:31 WARNING(\"solver:nlp_f failed: NaN detected for output f, at (row 0, col 0).\") [.../casadi/core/oracle_function.cpp:377]\n",
      "CasADi - 2024-12-06 09:52:31 WARNING(\"solver:nlp_f failed: NaN detected for output f, at (row 0, col 0).\") [.../casadi/core/oracle_function.cpp:377]\n",
      "CasADi - 2024-12-06 09:52:31 WARNING(\"solver:nlp_f failed: NaN detected for output f, at (row 0, col 0).\") [.../casadi/core/oracle_function.cpp:377]\n"
     ]
    },
    {
     "name": "stdout",
     "output_type": "stream",
     "text": [
      "converged! Final Result:  [0.59791697 1.00442392]\n",
      "length 12\n",
      "eval num 5\n"
     ]
    },
    {
     "name": "stderr",
     "output_type": "stream",
     "text": [
      "CasADi - 2024-12-06 09:52:32 WARNING(\"solver:nlp_f failed: NaN detected for output f, at (row 0, col 0).\") [.../casadi/core/oracle_function.cpp:377]\n",
      "CasADi - 2024-12-06 09:52:32 WARNING(\"solver:nlp_f failed: NaN detected for output f, at (row 0, col 0).\") [.../casadi/core/oracle_function.cpp:377]\n",
      "CasADi - 2024-12-06 09:52:32 WARNING(\"solver:nlp_f failed: NaN detected for output f, at (row 0, col 0).\") [.../casadi/core/oracle_function.cpp:377]\n",
      "CasADi - 2024-12-06 09:52:32 WARNING(\"solver:nlp_f failed: NaN detected for output f, at (row 0, col 0).\") [.../casadi/core/oracle_function.cpp:377]\n",
      "CasADi - 2024-12-06 09:52:32 WARNING(\"solver:nlp_f failed: NaN detected for output f, at (row 0, col 0).\") [.../casadi/core/oracle_function.cpp:377]\n",
      "CasADi - 2024-12-06 09:52:32 WARNING(\"solver:nlp_f failed: NaN detected for output f, at (row 0, col 0).\") [.../casadi/core/oracle_function.cpp:377]\n",
      "CasADi - 2024-12-06 09:52:32 WARNING(\"solver:nlp_f failed: NaN detected for output f, at (row 0, col 0).\") [.../casadi/core/oracle_function.cpp:377]\n"
     ]
    },
    {
     "name": "stdout",
     "output_type": "stream",
     "text": [
      "error\n",
      "eval num 5\n"
     ]
    },
    {
     "name": "stderr",
     "output_type": "stream",
     "text": [
      "CasADi - 2024-12-06 09:52:32 WARNING(\"solver:nlp_f failed: NaN detected for output f, at (row 0, col 0).\") [.../casadi/core/oracle_function.cpp:377]\n",
      "CasADi - 2024-12-06 09:52:32 WARNING(\"solver:nlp_f failed: NaN detected for output f, at (row 0, col 0).\") [.../casadi/core/oracle_function.cpp:377]\n",
      "CasADi - 2024-12-06 09:52:32 WARNING(\"solver:nlp_f failed: NaN detected for output f, at (row 0, col 0).\") [.../casadi/core/oracle_function.cpp:377]\n",
      "CasADi - 2024-12-06 09:52:32 WARNING(\"solver:nlp_f failed: NaN detected for output f, at (row 0, col 0).\") [.../casadi/core/oracle_function.cpp:377]\n",
      "CasADi - 2024-12-06 09:52:32 WARNING(\"solver:nlp_f failed: NaN detected for output f, at (row 0, col 0).\") [.../casadi/core/oracle_function.cpp:377]\n",
      "CasADi - 2024-12-06 09:52:32 WARNING(\"solver:nlp_f failed: NaN detected for output f, at (row 0, col 0).\") [.../casadi/core/oracle_function.cpp:377]\n"
     ]
    },
    {
     "name": "stdout",
     "output_type": "stream",
     "text": [
      "converged! Final Result:  [0.58578052 1.00123291]\n",
      "length 9\n",
      "eval num 6\n"
     ]
    },
    {
     "name": "stderr",
     "output_type": "stream",
     "text": [
      "CasADi - 2024-12-06 09:52:33 WARNING(\"solver:nlp_f failed: NaN detected for output f, at (row 0, col 0).\") [.../casadi/core/oracle_function.cpp:377]\n",
      "CasADi - 2024-12-06 09:52:33 WARNING(\"solver:nlp_f failed: NaN detected for output f, at (row 0, col 0).\") [.../casadi/core/oracle_function.cpp:377]\n",
      "CasADi - 2024-12-06 09:52:33 WARNING(\"solver:nlp_f failed: NaN detected for output f, at (row 0, col 0).\") [.../casadi/core/oracle_function.cpp:377]\n",
      "CasADi - 2024-12-06 09:52:33 WARNING(\"solver:nlp_f failed: NaN detected for output f, at (row 0, col 0).\") [.../casadi/core/oracle_function.cpp:377]\n",
      "CasADi - 2024-12-06 09:52:33 WARNING(\"solver:nlp_f failed: NaN detected for output f, at (row 0, col 0).\") [.../casadi/core/oracle_function.cpp:377]\n",
      "CasADi - 2024-12-06 09:52:33 WARNING(\"solver:nlp_f failed: NaN detected for output f, at (row 0, col 0).\") [.../casadi/core/oracle_function.cpp:377]\n",
      "CasADi - 2024-12-06 09:52:33 WARNING(\"solver:nlp_f failed: NaN detected for output f, at (row 0, col 0).\") [.../casadi/core/oracle_function.cpp:377]\n",
      "CasADi - 2024-12-06 09:52:33 WARNING(\"solver:nlp_f failed: NaN detected for output f, at (row 0, col 0).\") [.../casadi/core/oracle_function.cpp:377]\n",
      "CasADi - 2024-12-06 09:52:33 WARNING(\"solver:nlp_f failed: NaN detected for output f, at (row 0, col 0).\") [.../casadi/core/oracle_function.cpp:377]\n",
      "CasADi - 2024-12-06 09:52:33 WARNING(\"solver:nlp_f failed: NaN detected for output f, at (row 0, col 0).\") [.../casadi/core/oracle_function.cpp:377]\n",
      "CasADi - 2024-12-06 09:52:33 WARNING(\"solver:nlp_f failed: NaN detected for output f, at (row 0, col 0).\") [.../casadi/core/oracle_function.cpp:377]\n",
      "CasADi - 2024-12-06 09:52:33 WARNING(\"solver:nlp_f failed: NaN detected for output f, at (row 0, col 0).\") [.../casadi/core/oracle_function.cpp:377]\n",
      "CasADi - 2024-12-06 09:52:33 WARNING(\"solver:nlp_f failed: NaN detected for output f, at (row 0, col 0).\") [.../casadi/core/oracle_function.cpp:377]\n",
      "CasADi - 2024-12-06 09:52:33 WARNING(\"solver:nlp_f failed: NaN detected for output f, at (row 0, col 0).\") [.../casadi/core/oracle_function.cpp:377]\n",
      "CasADi - 2024-12-06 09:52:33 WARNING(\"solver:nlp_f failed: NaN detected for output f, at (row 0, col 0).\") [.../casadi/core/oracle_function.cpp:377]\n",
      "CasADi - 2024-12-06 09:52:33 WARNING(\"solver:nlp_f failed: NaN detected for output f, at (row 0, col 0).\") [.../casadi/core/oracle_function.cpp:377]\n",
      "CasADi - 2024-12-06 09:52:33 WARNING(\"solver:nlp_f failed: NaN detected for output f, at (row 0, col 0).\") [.../casadi/core/oracle_function.cpp:377]\n",
      "CasADi - 2024-12-06 09:52:33 WARNING(\"solver:nlp_f failed: NaN detected for output f, at (row 0, col 0).\") [.../casadi/core/oracle_function.cpp:377]\n",
      "CasADi - 2024-12-06 09:52:33 WARNING(\"solver:nlp_f failed: NaN detected for output f, at (row 0, col 0).\") [.../casadi/core/oracle_function.cpp:377]\n",
      "CasADi - 2024-12-06 09:52:33 WARNING(\"solver:nlp_f failed: NaN detected for output f, at (row 0, col 0).\") [.../casadi/core/oracle_function.cpp:377]\n",
      "CasADi - 2024-12-06 09:52:33 WARNING(\"solver:nlp_f failed: NaN detected for output f, at (row 0, col 0).\") [.../casadi/core/oracle_function.cpp:377]\n",
      "CasADi - 2024-12-06 09:52:33 WARNING(\"solver:nlp_f failed: NaN detected for output f, at (row 0, col 0).\") [.../casadi/core/oracle_function.cpp:377]\n",
      "CasADi - 2024-12-06 09:52:33 WARNING(\"solver:nlp_f failed: NaN detected for output f, at (row 0, col 0).\") [.../casadi/core/oracle_function.cpp:377]\n",
      "CasADi - 2024-12-06 09:52:33 WARNING(\"solver:nlp_f failed: NaN detected for output f, at (row 0, col 0).\") [.../casadi/core/oracle_function.cpp:377]\n",
      "CasADi - 2024-12-06 09:52:33 WARNING(\"solver:nlp_f failed: NaN detected for output f, at (row 0, col 0).\") [.../casadi/core/oracle_function.cpp:377]\n",
      "CasADi - 2024-12-06 09:52:33 WARNING(\"solver:nlp_f failed: NaN detected for output f, at (row 0, col 0).\") [.../casadi/core/oracle_function.cpp:377]\n",
      "CasADi - 2024-12-06 09:52:33 WARNING(\"solver:nlp_f failed: NaN detected for output f, at (row 0, col 0).\") [.../casadi/core/oracle_function.cpp:377]\n",
      "CasADi - 2024-12-06 09:52:33 WARNING(\"solver:nlp_f failed: NaN detected for output f, at (row 0, col 0).\") [.../casadi/core/oracle_function.cpp:377]\n",
      "CasADi - 2024-12-06 09:52:33 WARNING(\"solver:nlp_f failed: NaN detected for output f, at (row 0, col 0).\") [.../casadi/core/oracle_function.cpp:377]\n",
      "CasADi - 2024-12-06 09:52:33 WARNING(\"solver:nlp_f failed: NaN detected for output f, at (row 0, col 0).\") [.../casadi/core/oracle_function.cpp:377]\n",
      "CasADi - 2024-12-06 09:52:33 WARNING(\"solver:nlp_f failed: NaN detected for output f, at (row 0, col 0).\") [.../casadi/core/oracle_function.cpp:377]\n",
      "CasADi - 2024-12-06 09:52:33 WARNING(\"solver:nlp_f failed: NaN detected for output f, at (row 0, col 0).\") [.../casadi/core/oracle_function.cpp:377]\n",
      "CasADi - 2024-12-06 09:52:33 WARNING(\"solver:nlp_f failed: NaN detected for output f, at (row 0, col 0).\") [.../casadi/core/oracle_function.cpp:377]\n",
      "CasADi - 2024-12-06 09:52:33 WARNING(\"solver:nlp_f failed: NaN detected for output f, at (row 0, col 0).\") [.../casadi/core/oracle_function.cpp:377]\n",
      "CasADi - 2024-12-06 09:52:33 WARNING(\"solver:nlp_f failed: NaN detected for output f, at (row 0, col 0).\") [.../casadi/core/oracle_function.cpp:377]\n",
      "CasADi - 2024-12-06 09:52:33 WARNING(\"solver:nlp_f failed: NaN detected for output f, at (row 0, col 0).\") [.../casadi/core/oracle_function.cpp:377]\n",
      "CasADi - 2024-12-06 09:52:33 WARNING(\"solver:nlp_f failed: NaN detected for output f, at (row 0, col 0).\") [.../casadi/core/oracle_function.cpp:377]\n",
      "CasADi - 2024-12-06 09:52:33 WARNING(\"solver:nlp_f failed: NaN detected for output f, at (row 0, col 0).\") [.../casadi/core/oracle_function.cpp:377]\n",
      "CasADi - 2024-12-06 09:52:33 WARNING(\"solver:nlp_f failed: NaN detected for output f, at (row 0, col 0).\") [.../casadi/core/oracle_function.cpp:377]\n",
      "CasADi - 2024-12-06 09:52:33 WARNING(\"solver:nlp_f failed: NaN detected for output f, at (row 0, col 0).\") [.../casadi/core/oracle_function.cpp:377]\n",
      "CasADi - 2024-12-06 09:52:33 WARNING(\"solver:nlp_f failed: NaN detected for output f, at (row 0, col 0).\") [.../casadi/core/oracle_function.cpp:377]\n",
      "CasADi - 2024-12-06 09:52:33 WARNING(\"solver:nlp_f failed: NaN detected for output f, at (row 0, col 0).\") [.../casadi/core/oracle_function.cpp:377]\n",
      "CasADi - 2024-12-06 09:52:33 WARNING(\"solver:nlp_f failed: NaN detected for output f, at (row 0, col 0).\") [.../casadi/core/oracle_function.cpp:377]\n"
     ]
    },
    {
     "name": "stdout",
     "output_type": "stream",
     "text": [
      "converged! Final Result:  [0.58526469 1.00156899]\n",
      "length 14\n",
      "eval num 7\n"
     ]
    },
    {
     "name": "stderr",
     "output_type": "stream",
     "text": [
      "CasADi - 2024-12-06 09:52:33 WARNING(\"solver:nlp_f failed: NaN detected for output f, at (row 0, col 0).\") [.../casadi/core/oracle_function.cpp:377]\n",
      "CasADi - 2024-12-06 09:52:33 WARNING(\"solver:nlp_f failed: NaN detected for output f, at (row 0, col 0).\") [.../casadi/core/oracle_function.cpp:377]\n",
      "CasADi - 2024-12-06 09:52:33 WARNING(\"solver:nlp_f failed: NaN detected for output f, at (row 0, col 0).\") [.../casadi/core/oracle_function.cpp:377]\n",
      "CasADi - 2024-12-06 09:52:33 WARNING(\"solver:nlp_f failed: NaN detected for output f, at (row 0, col 0).\") [.../casadi/core/oracle_function.cpp:377]\n",
      "CasADi - 2024-12-06 09:52:33 WARNING(\"solver:nlp_f failed: NaN detected for output f, at (row 0, col 0).\") [.../casadi/core/oracle_function.cpp:377]\n",
      "CasADi - 2024-12-06 09:52:33 WARNING(\"solver:nlp_f failed: NaN detected for output f, at (row 0, col 0).\") [.../casadi/core/oracle_function.cpp:377]\n",
      "CasADi - 2024-12-06 09:52:33 WARNING(\"solver:nlp_f failed: NaN detected for output f, at (row 0, col 0).\") [.../casadi/core/oracle_function.cpp:377]\n",
      "CasADi - 2024-12-06 09:52:33 WARNING(\"solver:nlp_f failed: NaN detected for output f, at (row 0, col 0).\") [.../casadi/core/oracle_function.cpp:377]\n",
      "CasADi - 2024-12-06 09:52:33 WARNING(\"solver:nlp_f failed: NaN detected for output f, at (row 0, col 0).\") [.../casadi/core/oracle_function.cpp:377]\n",
      "CasADi - 2024-12-06 09:52:33 WARNING(\"solver:nlp_f failed: NaN detected for output f, at (row 0, col 0).\") [.../casadi/core/oracle_function.cpp:377]\n",
      "CasADi - 2024-12-06 09:52:33 WARNING(\"solver:nlp_f failed: NaN detected for output f, at (row 0, col 0).\") [.../casadi/core/oracle_function.cpp:377]\n",
      "CasADi - 2024-12-06 09:52:33 WARNING(\"solver:nlp_f failed: NaN detected for output f, at (row 0, col 0).\") [.../casadi/core/oracle_function.cpp:377]\n",
      "CasADi - 2024-12-06 09:52:33 WARNING(\"solver:nlp_f failed: NaN detected for output f, at (row 0, col 0).\") [.../casadi/core/oracle_function.cpp:377]\n",
      "CasADi - 2024-12-06 09:52:33 WARNING(\"solver:nlp_f failed: NaN detected for output f, at (row 0, col 0).\") [.../casadi/core/oracle_function.cpp:377]\n",
      "CasADi - 2024-12-06 09:52:33 WARNING(\"solver:nlp_f failed: NaN detected for output f, at (row 0, col 0).\") [.../casadi/core/oracle_function.cpp:377]\n",
      "CasADi - 2024-12-06 09:52:33 WARNING(\"solver:nlp_f failed: NaN detected for output f, at (row 0, col 0).\") [.../casadi/core/oracle_function.cpp:377]\n",
      "CasADi - 2024-12-06 09:52:33 WARNING(\"solver:nlp_f failed: NaN detected for output f, at (row 0, col 0).\") [.../casadi/core/oracle_function.cpp:377]\n",
      "CasADi - 2024-12-06 09:52:33 WARNING(\"solver:nlp_f failed: NaN detected for output f, at (row 0, col 0).\") [.../casadi/core/oracle_function.cpp:377]\n",
      "CasADi - 2024-12-06 09:52:33 WARNING(\"solver:nlp_f failed: NaN detected for output f, at (row 0, col 0).\") [.../casadi/core/oracle_function.cpp:377]\n",
      "CasADi - 2024-12-06 09:52:33 WARNING(\"solver:nlp_f failed: NaN detected for output f, at (row 0, col 0).\") [.../casadi/core/oracle_function.cpp:377]\n",
      "CasADi - 2024-12-06 09:52:33 WARNING(\"solver:nlp_f failed: NaN detected for output f, at (row 0, col 0).\") [.../casadi/core/oracle_function.cpp:377]\n",
      "CasADi - 2024-12-06 09:52:33 WARNING(\"solver:nlp_f failed: NaN detected for output f, at (row 0, col 0).\") [.../casadi/core/oracle_function.cpp:377]\n",
      "CasADi - 2024-12-06 09:52:33 WARNING(\"solver:nlp_f failed: NaN detected for output f, at (row 0, col 0).\") [.../casadi/core/oracle_function.cpp:377]\n",
      "CasADi - 2024-12-06 09:52:33 WARNING(\"solver:nlp_f failed: NaN detected for output f, at (row 0, col 0).\") [.../casadi/core/oracle_function.cpp:377]\n",
      "CasADi - 2024-12-06 09:52:33 WARNING(\"solver:nlp_f failed: NaN detected for output f, at (row 0, col 0).\") [.../casadi/core/oracle_function.cpp:377]\n",
      "CasADi - 2024-12-06 09:52:33 WARNING(\"solver:nlp_f failed: NaN detected for output f, at (row 0, col 0).\") [.../casadi/core/oracle_function.cpp:377]\n",
      "CasADi - 2024-12-06 09:52:33 WARNING(\"solver:nlp_f failed: NaN detected for output f, at (row 0, col 0).\") [.../casadi/core/oracle_function.cpp:377]\n",
      "CasADi - 2024-12-06 09:52:33 WARNING(\"solver:nlp_f failed: NaN detected for output f, at (row 0, col 0).\") [.../casadi/core/oracle_function.cpp:377]\n",
      "CasADi - 2024-12-06 09:52:33 WARNING(\"solver:nlp_f failed: NaN detected for output f, at (row 0, col 0).\") [.../casadi/core/oracle_function.cpp:377]\n"
     ]
    },
    {
     "name": "stdout",
     "output_type": "stream",
     "text": [
      "converged! Final Result:  [0.61439248 1.00081858]\n",
      "length 11\n",
      "eval num 8\n"
     ]
    },
    {
     "name": "stderr",
     "output_type": "stream",
     "text": [
      "CasADi - 2024-12-06 09:52:34 WARNING(\"solver:nlp_f failed: NaN detected for output f, at (row 0, col 0).\") [.../casadi/core/oracle_function.cpp:377]\n",
      "CasADi - 2024-12-06 09:52:34 WARNING(\"solver:nlp_f failed: NaN detected for output f, at (row 0, col 0).\") [.../casadi/core/oracle_function.cpp:377]\n",
      "CasADi - 2024-12-06 09:52:34 WARNING(\"solver:nlp_f failed: NaN detected for output f, at (row 0, col 0).\") [.../casadi/core/oracle_function.cpp:377]\n",
      "CasADi - 2024-12-06 09:52:34 WARNING(\"solver:nlp_f failed: NaN detected for output f, at (row 0, col 0).\") [.../casadi/core/oracle_function.cpp:377]\n",
      "CasADi - 2024-12-06 09:52:34 WARNING(\"solver:nlp_f failed: NaN detected for output f, at (row 0, col 0).\") [.../casadi/core/oracle_function.cpp:377]\n",
      "CasADi - 2024-12-06 09:52:34 WARNING(\"solver:nlp_f failed: NaN detected for output f, at (row 0, col 0).\") [.../casadi/core/oracle_function.cpp:377]\n",
      "CasADi - 2024-12-06 09:52:34 WARNING(\"solver:nlp_f failed: NaN detected for output f, at (row 0, col 0).\") [.../casadi/core/oracle_function.cpp:377]\n",
      "CasADi - 2024-12-06 09:52:34 WARNING(\"solver:nlp_f failed: NaN detected for output f, at (row 0, col 0).\") [.../casadi/core/oracle_function.cpp:377]\n",
      "CasADi - 2024-12-06 09:52:34 WARNING(\"solver:nlp_f failed: NaN detected for output f, at (row 0, col 0).\") [.../casadi/core/oracle_function.cpp:377]\n",
      "CasADi - 2024-12-06 09:52:34 WARNING(\"solver:nlp_f failed: NaN detected for output f, at (row 0, col 0).\") [.../casadi/core/oracle_function.cpp:377]\n",
      "CasADi - 2024-12-06 09:52:34 WARNING(\"solver:nlp_f failed: NaN detected for output f, at (row 0, col 0).\") [.../casadi/core/oracle_function.cpp:377]\n",
      "CasADi - 2024-12-06 09:52:34 WARNING(\"solver:nlp_f failed: NaN detected for output f, at (row 0, col 0).\") [.../casadi/core/oracle_function.cpp:377]\n",
      "CasADi - 2024-12-06 09:52:34 WARNING(\"solver:nlp_f failed: NaN detected for output f, at (row 0, col 0).\") [.../casadi/core/oracle_function.cpp:377]\n",
      "CasADi - 2024-12-06 09:52:34 WARNING(\"solver:nlp_f failed: NaN detected for output f, at (row 0, col 0).\") [.../casadi/core/oracle_function.cpp:377]\n",
      "CasADi - 2024-12-06 09:52:34 WARNING(\"solver:nlp_f failed: NaN detected for output f, at (row 0, col 0).\") [.../casadi/core/oracle_function.cpp:377]\n",
      "CasADi - 2024-12-06 09:52:34 WARNING(\"solver:nlp_f failed: NaN detected for output f, at (row 0, col 0).\") [.../casadi/core/oracle_function.cpp:377]\n",
      "CasADi - 2024-12-06 09:52:34 WARNING(\"solver:nlp_f failed: NaN detected for output f, at (row 0, col 0).\") [.../casadi/core/oracle_function.cpp:377]\n",
      "CasADi - 2024-12-06 09:52:34 WARNING(\"solver:nlp_f failed: NaN detected for output f, at (row 0, col 0).\") [.../casadi/core/oracle_function.cpp:377]\n",
      "CasADi - 2024-12-06 09:52:34 WARNING(\"solver:nlp_f failed: NaN detected for output f, at (row 0, col 0).\") [.../casadi/core/oracle_function.cpp:377]\n",
      "CasADi - 2024-12-06 09:52:34 WARNING(\"solver:nlp_f failed: NaN detected for output f, at (row 0, col 0).\") [.../casadi/core/oracle_function.cpp:377]\n",
      "CasADi - 2024-12-06 09:52:34 WARNING(\"solver:nlp_f failed: NaN detected for output f, at (row 0, col 0).\") [.../casadi/core/oracle_function.cpp:377]\n",
      "CasADi - 2024-12-06 09:52:34 WARNING(\"solver:nlp_f failed: NaN detected for output f, at (row 0, col 0).\") [.../casadi/core/oracle_function.cpp:377]\n",
      "CasADi - 2024-12-06 09:52:34 WARNING(\"solver:nlp_f failed: NaN detected for output f, at (row 0, col 0).\") [.../casadi/core/oracle_function.cpp:377]\n",
      "CasADi - 2024-12-06 09:52:34 WARNING(\"solver:nlp_f failed: NaN detected for output f, at (row 0, col 0).\") [.../casadi/core/oracle_function.cpp:377]\n",
      "CasADi - 2024-12-06 09:52:34 WARNING(\"solver:nlp_f failed: NaN detected for output f, at (row 0, col 0).\") [.../casadi/core/oracle_function.cpp:377]\n",
      "CasADi - 2024-12-06 09:52:34 WARNING(\"solver:nlp_f failed: NaN detected for output f, at (row 0, col 0).\") [.../casadi/core/oracle_function.cpp:377]\n",
      "CasADi - 2024-12-06 09:52:34 WARNING(\"solver:nlp_f failed: NaN detected for output f, at (row 0, col 0).\") [.../casadi/core/oracle_function.cpp:377]\n",
      "CasADi - 2024-12-06 09:52:34 WARNING(\"solver:nlp_f failed: NaN detected for output f, at (row 0, col 0).\") [.../casadi/core/oracle_function.cpp:377]\n",
      "CasADi - 2024-12-06 09:52:34 WARNING(\"solver:nlp_f failed: NaN detected for output f, at (row 0, col 0).\") [.../casadi/core/oracle_function.cpp:377]\n",
      "CasADi - 2024-12-06 09:52:34 WARNING(\"solver:nlp_f failed: NaN detected for output f, at (row 0, col 0).\") [.../casadi/core/oracle_function.cpp:377]\n",
      "CasADi - 2024-12-06 09:52:34 WARNING(\"solver:nlp_f failed: NaN detected for output f, at (row 0, col 0).\") [.../casadi/core/oracle_function.cpp:377]\n",
      "CasADi - 2024-12-06 09:52:34 WARNING(\"solver:nlp_f failed: NaN detected for output f, at (row 0, col 0).\") [.../casadi/core/oracle_function.cpp:377]\n",
      "CasADi - 2024-12-06 09:52:34 WARNING(\"solver:nlp_f failed: NaN detected for output f, at (row 0, col 0).\") [.../casadi/core/oracle_function.cpp:377]\n",
      "CasADi - 2024-12-06 09:52:34 WARNING(\"solver:nlp_f failed: NaN detected for output f, at (row 0, col 0).\") [.../casadi/core/oracle_function.cpp:377]\n",
      "CasADi - 2024-12-06 09:52:34 WARNING(\"solver:nlp_f failed: NaN detected for output f, at (row 0, col 0).\") [.../casadi/core/oracle_function.cpp:377]\n",
      "CasADi - 2024-12-06 09:52:34 WARNING(\"solver:nlp_f failed: NaN detected for output f, at (row 0, col 0).\") [.../casadi/core/oracle_function.cpp:377]\n"
     ]
    },
    {
     "name": "stdout",
     "output_type": "stream",
     "text": [
      "converged! Final Result:  [0.58772642 1.00243287]\n",
      "length 15\n",
      "eval num 9\n"
     ]
    },
    {
     "name": "stderr",
     "output_type": "stream",
     "text": [
      "CasADi - 2024-12-06 09:52:34 WARNING(\"solver:nlp_f failed: NaN detected for output f, at (row 0, col 0).\") [.../casadi/core/oracle_function.cpp:377]\n",
      "CasADi - 2024-12-06 09:52:34 WARNING(\"solver:nlp_f failed: NaN detected for output f, at (row 0, col 0).\") [.../casadi/core/oracle_function.cpp:377]\n",
      "CasADi - 2024-12-06 09:52:34 WARNING(\"solver:nlp_f failed: NaN detected for output f, at (row 0, col 0).\") [.../casadi/core/oracle_function.cpp:377]\n",
      "CasADi - 2024-12-06 09:52:34 WARNING(\"solver:nlp_f failed: NaN detected for output f, at (row 0, col 0).\") [.../casadi/core/oracle_function.cpp:377]\n",
      "CasADi - 2024-12-06 09:52:34 WARNING(\"solver:nlp_f failed: NaN detected for output f, at (row 0, col 0).\") [.../casadi/core/oracle_function.cpp:377]\n",
      "CasADi - 2024-12-06 09:52:34 WARNING(\"solver:nlp_f failed: NaN detected for output f, at (row 0, col 0).\") [.../casadi/core/oracle_function.cpp:377]\n",
      "CasADi - 2024-12-06 09:52:34 WARNING(\"solver:nlp_f failed: NaN detected for output f, at (row 0, col 0).\") [.../casadi/core/oracle_function.cpp:377]\n",
      "CasADi - 2024-12-06 09:52:34 WARNING(\"solver:nlp_f failed: NaN detected for output f, at (row 0, col 0).\") [.../casadi/core/oracle_function.cpp:377]\n",
      "CasADi - 2024-12-06 09:52:34 WARNING(\"solver:nlp_f failed: NaN detected for output f, at (row 0, col 0).\") [.../casadi/core/oracle_function.cpp:377]\n",
      "CasADi - 2024-12-06 09:52:34 WARNING(\"solver:nlp_f failed: NaN detected for output f, at (row 0, col 0).\") [.../casadi/core/oracle_function.cpp:377]\n",
      "CasADi - 2024-12-06 09:52:34 WARNING(\"solver:nlp_f failed: NaN detected for output f, at (row 0, col 0).\") [.../casadi/core/oracle_function.cpp:377]\n",
      "CasADi - 2024-12-06 09:52:34 WARNING(\"solver:nlp_f failed: NaN detected for output f, at (row 0, col 0).\") [.../casadi/core/oracle_function.cpp:377]\n",
      "CasADi - 2024-12-06 09:52:34 WARNING(\"solver:nlp_f failed: NaN detected for output f, at (row 0, col 0).\") [.../casadi/core/oracle_function.cpp:377]\n",
      "CasADi - 2024-12-06 09:52:34 WARNING(\"solver:nlp_f failed: NaN detected for output f, at (row 0, col 0).\") [.../casadi/core/oracle_function.cpp:377]\n",
      "CasADi - 2024-12-06 09:52:34 WARNING(\"solver:nlp_f failed: NaN detected for output f, at (row 0, col 0).\") [.../casadi/core/oracle_function.cpp:377]\n",
      "CasADi - 2024-12-06 09:52:34 WARNING(\"solver:nlp_f failed: NaN detected for output f, at (row 0, col 0).\") [.../casadi/core/oracle_function.cpp:377]\n",
      "CasADi - 2024-12-06 09:52:34 WARNING(\"solver:nlp_f failed: NaN detected for output f, at (row 0, col 0).\") [.../casadi/core/oracle_function.cpp:377]\n",
      "CasADi - 2024-12-06 09:52:34 WARNING(\"solver:nlp_f failed: NaN detected for output f, at (row 0, col 0).\") [.../casadi/core/oracle_function.cpp:377]\n",
      "CasADi - 2024-12-06 09:52:34 WARNING(\"solver:nlp_f failed: NaN detected for output f, at (row 0, col 0).\") [.../casadi/core/oracle_function.cpp:377]\n",
      "CasADi - 2024-12-06 09:52:34 WARNING(\"solver:nlp_f failed: NaN detected for output f, at (row 0, col 0).\") [.../casadi/core/oracle_function.cpp:377]\n",
      "CasADi - 2024-12-06 09:52:34 WARNING(\"solver:nlp_f failed: NaN detected for output f, at (row 0, col 0).\") [.../casadi/core/oracle_function.cpp:377]\n",
      "CasADi - 2024-12-06 09:52:34 WARNING(\"solver:nlp_f failed: NaN detected for output f, at (row 0, col 0).\") [.../casadi/core/oracle_function.cpp:377]\n",
      "CasADi - 2024-12-06 09:52:34 WARNING(\"solver:nlp_f failed: NaN detected for output f, at (row 0, col 0).\") [.../casadi/core/oracle_function.cpp:377]\n",
      "CasADi - 2024-12-06 09:52:35 WARNING(\"solver:nlp_f failed: NaN detected for output f, at (row 0, col 0).\") [.../casadi/core/oracle_function.cpp:377]\n",
      "CasADi - 2024-12-06 09:52:35 WARNING(\"solver:nlp_f failed: NaN detected for output f, at (row 0, col 0).\") [.../casadi/core/oracle_function.cpp:377]\n",
      "CasADi - 2024-12-06 09:52:35 WARNING(\"solver:nlp_f failed: NaN detected for output f, at (row 0, col 0).\") [.../casadi/core/oracle_function.cpp:377]\n",
      "CasADi - 2024-12-06 09:52:35 WARNING(\"solver:nlp_f failed: NaN detected for output f, at (row 0, col 0).\") [.../casadi/core/oracle_function.cpp:377]\n"
     ]
    },
    {
     "name": "stdout",
     "output_type": "stream",
     "text": [
      "converged! Final Result:  [0.58804448 1.00989107]\n",
      "length 14\n",
      "eval num 10\n"
     ]
    },
    {
     "name": "stderr",
     "output_type": "stream",
     "text": [
      "CasADi - 2024-12-06 09:52:35 WARNING(\"solver:nlp_f failed: NaN detected for output f, at (row 0, col 0).\") [.../casadi/core/oracle_function.cpp:377]\n",
      "CasADi - 2024-12-06 09:52:35 WARNING(\"solver:nlp_f failed: NaN detected for output f, at (row 0, col 0).\") [.../casadi/core/oracle_function.cpp:377]\n",
      "CasADi - 2024-12-06 09:52:35 WARNING(\"solver:nlp_f failed: NaN detected for output f, at (row 0, col 0).\") [.../casadi/core/oracle_function.cpp:377]\n",
      "CasADi - 2024-12-06 09:52:35 WARNING(\"solver:nlp_f failed: NaN detected for output f, at (row 0, col 0).\") [.../casadi/core/oracle_function.cpp:377]\n",
      "CasADi - 2024-12-06 09:52:35 WARNING(\"solver:nlp_f failed: NaN detected for output f, at (row 0, col 0).\") [.../casadi/core/oracle_function.cpp:377]\n",
      "CasADi - 2024-12-06 09:52:35 WARNING(\"solver:nlp_f failed: NaN detected for output f, at (row 0, col 0).\") [.../casadi/core/oracle_function.cpp:377]\n",
      "CasADi - 2024-12-06 09:52:35 WARNING(\"solver:nlp_f failed: NaN detected for output f, at (row 0, col 0).\") [.../casadi/core/oracle_function.cpp:377]\n",
      "CasADi - 2024-12-06 09:52:35 WARNING(\"solver:nlp_f failed: NaN detected for output f, at (row 0, col 0).\") [.../casadi/core/oracle_function.cpp:377]\n",
      "CasADi - 2024-12-06 09:52:35 WARNING(\"solver:nlp_f failed: NaN detected for output f, at (row 0, col 0).\") [.../casadi/core/oracle_function.cpp:377]\n",
      "CasADi - 2024-12-06 09:52:35 WARNING(\"solver:nlp_f failed: NaN detected for output f, at (row 0, col 0).\") [.../casadi/core/oracle_function.cpp:377]\n",
      "CasADi - 2024-12-06 09:52:35 WARNING(\"solver:nlp_f failed: NaN detected for output f, at (row 0, col 0).\") [.../casadi/core/oracle_function.cpp:377]\n",
      "CasADi - 2024-12-06 09:52:35 WARNING(\"solver:nlp_f failed: NaN detected for output f, at (row 0, col 0).\") [.../casadi/core/oracle_function.cpp:377]\n",
      "CasADi - 2024-12-06 09:52:35 WARNING(\"solver:nlp_f failed: NaN detected for output f, at (row 0, col 0).\") [.../casadi/core/oracle_function.cpp:377]\n",
      "CasADi - 2024-12-06 09:52:35 WARNING(\"solver:nlp_f failed: NaN detected for output f, at (row 0, col 0).\") [.../casadi/core/oracle_function.cpp:377]\n",
      "CasADi - 2024-12-06 09:52:35 WARNING(\"solver:nlp_f failed: NaN detected for output f, at (row 0, col 0).\") [.../casadi/core/oracle_function.cpp:377]\n",
      "CasADi - 2024-12-06 09:52:35 WARNING(\"solver:nlp_f failed: NaN detected for output f, at (row 0, col 0).\") [.../casadi/core/oracle_function.cpp:377]\n",
      "CasADi - 2024-12-06 09:52:35 WARNING(\"solver:nlp_f failed: NaN detected for output f, at (row 0, col 0).\") [.../casadi/core/oracle_function.cpp:377]\n",
      "CasADi - 2024-12-06 09:52:35 WARNING(\"solver:nlp_f failed: NaN detected for output f, at (row 0, col 0).\") [.../casadi/core/oracle_function.cpp:377]\n",
      "CasADi - 2024-12-06 09:52:35 WARNING(\"solver:nlp_f failed: NaN detected for output f, at (row 0, col 0).\") [.../casadi/core/oracle_function.cpp:377]\n",
      "CasADi - 2024-12-06 09:52:35 WARNING(\"solver:nlp_f failed: NaN detected for output f, at (row 0, col 0).\") [.../casadi/core/oracle_function.cpp:377]\n",
      "CasADi - 2024-12-06 09:52:35 WARNING(\"solver:nlp_f failed: NaN detected for output f, at (row 0, col 0).\") [.../casadi/core/oracle_function.cpp:377]\n",
      "CasADi - 2024-12-06 09:52:35 WARNING(\"solver:nlp_f failed: NaN detected for output f, at (row 0, col 0).\") [.../casadi/core/oracle_function.cpp:377]\n",
      "CasADi - 2024-12-06 09:52:35 WARNING(\"solver:nlp_f failed: NaN detected for output f, at (row 0, col 0).\") [.../casadi/core/oracle_function.cpp:377]\n"
     ]
    },
    {
     "name": "stdout",
     "output_type": "stream",
     "text": [
      "converged! Final Result:  [0.59376782 1.0013586 ]\n",
      "length 15\n",
      "eval num 11\n"
     ]
    },
    {
     "name": "stderr",
     "output_type": "stream",
     "text": [
      "CasADi - 2024-12-06 09:52:36 WARNING(\"solver:nlp_f failed: NaN detected for output f, at (row 0, col 0).\") [.../casadi/core/oracle_function.cpp:377]\n",
      "CasADi - 2024-12-06 09:52:36 WARNING(\"solver:nlp_f failed: NaN detected for output f, at (row 0, col 0).\") [.../casadi/core/oracle_function.cpp:377]\n",
      "CasADi - 2024-12-06 09:52:36 WARNING(\"solver:nlp_f failed: NaN detected for output f, at (row 0, col 0).\") [.../casadi/core/oracle_function.cpp:377]\n",
      "CasADi - 2024-12-06 09:52:36 WARNING(\"solver:nlp_f failed: NaN detected for output f, at (row 0, col 0).\") [.../casadi/core/oracle_function.cpp:377]\n",
      "CasADi - 2024-12-06 09:52:36 WARNING(\"solver:nlp_f failed: NaN detected for output f, at (row 0, col 0).\") [.../casadi/core/oracle_function.cpp:377]\n",
      "CasADi - 2024-12-06 09:52:36 WARNING(\"solver:nlp_f failed: NaN detected for output f, at (row 0, col 0).\") [.../casadi/core/oracle_function.cpp:377]\n",
      "CasADi - 2024-12-06 09:52:36 WARNING(\"solver:nlp_f failed: NaN detected for output f, at (row 0, col 0).\") [.../casadi/core/oracle_function.cpp:377]\n",
      "CasADi - 2024-12-06 09:52:36 WARNING(\"solver:nlp_f failed: NaN detected for output f, at (row 0, col 0).\") [.../casadi/core/oracle_function.cpp:377]\n",
      "CasADi - 2024-12-06 09:52:36 WARNING(\"solver:nlp_f failed: NaN detected for output f, at (row 0, col 0).\") [.../casadi/core/oracle_function.cpp:377]\n",
      "CasADi - 2024-12-06 09:52:36 WARNING(\"solver:nlp_f failed: NaN detected for output f, at (row 0, col 0).\") [.../casadi/core/oracle_function.cpp:377]\n",
      "CasADi - 2024-12-06 09:52:36 WARNING(\"solver:nlp_f failed: NaN detected for output f, at (row 0, col 0).\") [.../casadi/core/oracle_function.cpp:377]\n",
      "CasADi - 2024-12-06 09:52:36 WARNING(\"solver:nlp_f failed: NaN detected for output f, at (row 0, col 0).\") [.../casadi/core/oracle_function.cpp:377]\n",
      "CasADi - 2024-12-06 09:52:36 WARNING(\"solver:nlp_f failed: NaN detected for output f, at (row 0, col 0).\") [.../casadi/core/oracle_function.cpp:377]\n",
      "CasADi - 2024-12-06 09:52:36 WARNING(\"solver:nlp_f failed: NaN detected for output f, at (row 0, col 0).\") [.../casadi/core/oracle_function.cpp:377]\n",
      "CasADi - 2024-12-06 09:52:36 WARNING(\"solver:nlp_f failed: NaN detected for output f, at (row 0, col 0).\") [.../casadi/core/oracle_function.cpp:377]\n",
      "CasADi - 2024-12-06 09:52:36 WARNING(\"solver:nlp_f failed: NaN detected for output f, at (row 0, col 0).\") [.../casadi/core/oracle_function.cpp:377]\n",
      "CasADi - 2024-12-06 09:52:36 WARNING(\"solver:nlp_f failed: NaN detected for output f, at (row 0, col 0).\") [.../casadi/core/oracle_function.cpp:377]\n",
      "CasADi - 2024-12-06 09:52:36 WARNING(\"solver:nlp_f failed: NaN detected for output f, at (row 0, col 0).\") [.../casadi/core/oracle_function.cpp:377]\n",
      "CasADi - 2024-12-06 09:52:36 WARNING(\"solver:nlp_f failed: NaN detected for output f, at (row 0, col 0).\") [.../casadi/core/oracle_function.cpp:377]\n",
      "CasADi - 2024-12-06 09:52:36 WARNING(\"solver:nlp_f failed: NaN detected for output f, at (row 0, col 0).\") [.../casadi/core/oracle_function.cpp:377]\n",
      "CasADi - 2024-12-06 09:52:36 WARNING(\"solver:nlp_f failed: NaN detected for output f, at (row 0, col 0).\") [.../casadi/core/oracle_function.cpp:377]\n",
      "CasADi - 2024-12-06 09:52:36 WARNING(\"solver:nlp_f failed: NaN detected for output f, at (row 0, col 0).\") [.../casadi/core/oracle_function.cpp:377]\n"
     ]
    },
    {
     "name": "stdout",
     "output_type": "stream",
     "text": [
      "converged! Final Result:  [0.58761688 0.98936903]\n",
      "length 9\n",
      "eval num 12\n"
     ]
    },
    {
     "name": "stderr",
     "output_type": "stream",
     "text": [
      "CasADi - 2024-12-06 09:52:36 WARNING(\"solver:nlp_f failed: NaN detected for output f, at (row 0, col 0).\") [.../casadi/core/oracle_function.cpp:377]\n",
      "CasADi - 2024-12-06 09:52:36 WARNING(\"solver:nlp_f failed: NaN detected for output f, at (row 0, col 0).\") [.../casadi/core/oracle_function.cpp:377]\n",
      "CasADi - 2024-12-06 09:52:36 WARNING(\"solver:nlp_f failed: NaN detected for output f, at (row 0, col 0).\") [.../casadi/core/oracle_function.cpp:377]\n",
      "CasADi - 2024-12-06 09:52:36 WARNING(\"solver:nlp_f failed: NaN detected for output f, at (row 0, col 0).\") [.../casadi/core/oracle_function.cpp:377]\n",
      "CasADi - 2024-12-06 09:52:36 WARNING(\"solver:nlp_f failed: NaN detected for output f, at (row 0, col 0).\") [.../casadi/core/oracle_function.cpp:377]\n",
      "CasADi - 2024-12-06 09:52:36 WARNING(\"solver:nlp_f failed: NaN detected for output f, at (row 0, col 0).\") [.../casadi/core/oracle_function.cpp:377]\n",
      "CasADi - 2024-12-06 09:52:36 WARNING(\"solver:nlp_f failed: NaN detected for output f, at (row 0, col 0).\") [.../casadi/core/oracle_function.cpp:377]\n",
      "CasADi - 2024-12-06 09:52:36 WARNING(\"solver:nlp_f failed: NaN detected for output f, at (row 0, col 0).\") [.../casadi/core/oracle_function.cpp:377]\n",
      "CasADi - 2024-12-06 09:52:36 WARNING(\"solver:nlp_f failed: NaN detected for output f, at (row 0, col 0).\") [.../casadi/core/oracle_function.cpp:377]\n",
      "CasADi - 2024-12-06 09:52:36 WARNING(\"solver:nlp_f failed: NaN detected for output f, at (row 0, col 0).\") [.../casadi/core/oracle_function.cpp:377]\n",
      "CasADi - 2024-12-06 09:52:36 WARNING(\"solver:nlp_f failed: NaN detected for output f, at (row 0, col 0).\") [.../casadi/core/oracle_function.cpp:377]\n",
      "CasADi - 2024-12-06 09:52:36 WARNING(\"solver:nlp_f failed: NaN detected for output f, at (row 0, col 0).\") [.../casadi/core/oracle_function.cpp:377]\n",
      "CasADi - 2024-12-06 09:52:36 WARNING(\"solver:nlp_f failed: NaN detected for output f, at (row 0, col 0).\") [.../casadi/core/oracle_function.cpp:377]\n",
      "CasADi - 2024-12-06 09:52:36 WARNING(\"solver:nlp_f failed: NaN detected for output f, at (row 0, col 0).\") [.../casadi/core/oracle_function.cpp:377]\n",
      "CasADi - 2024-12-06 09:52:36 WARNING(\"solver:nlp_f failed: NaN detected for output f, at (row 0, col 0).\") [.../casadi/core/oracle_function.cpp:377]\n",
      "CasADi - 2024-12-06 09:52:36 WARNING(\"solver:nlp_f failed: NaN detected for output f, at (row 0, col 0).\") [.../casadi/core/oracle_function.cpp:377]\n"
     ]
    },
    {
     "name": "stdout",
     "output_type": "stream",
     "text": [
      "converged! Final Result:  [0.58263917 1.00155513]\n",
      "length 11\n",
      "eval num 13\n"
     ]
    },
    {
     "name": "stderr",
     "output_type": "stream",
     "text": [
      "CasADi - 2024-12-06 09:52:37 WARNING(\"solver:nlp_f failed: NaN detected for output f, at (row 0, col 0).\") [.../casadi/core/oracle_function.cpp:377]\n",
      "CasADi - 2024-12-06 09:52:37 WARNING(\"solver:nlp_f failed: NaN detected for output f, at (row 0, col 0).\") [.../casadi/core/oracle_function.cpp:377]\n",
      "CasADi - 2024-12-06 09:52:37 WARNING(\"solver:nlp_f failed: NaN detected for output f, at (row 0, col 0).\") [.../casadi/core/oracle_function.cpp:377]\n",
      "CasADi - 2024-12-06 09:52:37 WARNING(\"solver:nlp_f failed: NaN detected for output f, at (row 0, col 0).\") [.../casadi/core/oracle_function.cpp:377]\n",
      "CasADi - 2024-12-06 09:52:37 WARNING(\"solver:nlp_f failed: NaN detected for output f, at (row 0, col 0).\") [.../casadi/core/oracle_function.cpp:377]\n",
      "CasADi - 2024-12-06 09:52:37 WARNING(\"solver:nlp_f failed: NaN detected for output f, at (row 0, col 0).\") [.../casadi/core/oracle_function.cpp:377]\n",
      "CasADi - 2024-12-06 09:52:37 WARNING(\"solver:nlp_f failed: NaN detected for output f, at (row 0, col 0).\") [.../casadi/core/oracle_function.cpp:377]\n",
      "CasADi - 2024-12-06 09:52:37 WARNING(\"solver:nlp_f failed: NaN detected for output f, at (row 0, col 0).\") [.../casadi/core/oracle_function.cpp:377]\n",
      "CasADi - 2024-12-06 09:52:37 WARNING(\"solver:nlp_f failed: NaN detected for output f, at (row 0, col 0).\") [.../casadi/core/oracle_function.cpp:377]\n"
     ]
    },
    {
     "name": "stdout",
     "output_type": "stream",
     "text": [
      "converged! Final Result:  [0.59198767 1.01463583]\n",
      "length 12\n",
      "eval num 14\n",
      "converged! Final Result:  [0.60197743 1.00071204]\n",
      "length 14\n",
      "eval num 15\n"
     ]
    },
    {
     "name": "stderr",
     "output_type": "stream",
     "text": [
      "CasADi - 2024-12-06 09:52:37 WARNING(\"solver:nlp_f failed: NaN detected for output f, at (row 0, col 0).\") [.../casadi/core/oracle_function.cpp:377]\n",
      "CasADi - 2024-12-06 09:52:37 WARNING(\"solver:nlp_f failed: NaN detected for output f, at (row 0, col 0).\") [.../casadi/core/oracle_function.cpp:377]\n",
      "CasADi - 2024-12-06 09:52:37 WARNING(\"solver:nlp_f failed: NaN detected for output f, at (row 0, col 0).\") [.../casadi/core/oracle_function.cpp:377]\n",
      "CasADi - 2024-12-06 09:52:37 WARNING(\"solver:nlp_f failed: NaN detected for output f, at (row 0, col 0).\") [.../casadi/core/oracle_function.cpp:377]\n",
      "CasADi - 2024-12-06 09:52:38 WARNING(\"solver:nlp_f failed: NaN detected for output f, at (row 0, col 0).\") [.../casadi/core/oracle_function.cpp:377]\n"
     ]
    },
    {
     "name": "stdout",
     "output_type": "stream",
     "text": [
      "converged! Final Result:  [0.60252115 1.00779696]\n",
      "length 7\n",
      "eval num 16\n"
     ]
    },
    {
     "name": "stderr",
     "output_type": "stream",
     "text": [
      "CasADi - 2024-12-06 09:52:38 WARNING(\"solver:nlp_f failed: NaN detected for output f, at (row 0, col 0).\") [.../casadi/core/oracle_function.cpp:377]\n",
      "CasADi - 2024-12-06 09:52:38 WARNING(\"solver:nlp_f failed: NaN detected for output f, at (row 0, col 0).\") [.../casadi/core/oracle_function.cpp:377]\n",
      "CasADi - 2024-12-06 09:52:38 WARNING(\"solver:nlp_f failed: NaN detected for output f, at (row 0, col 0).\") [.../casadi/core/oracle_function.cpp:377]\n",
      "CasADi - 2024-12-06 09:52:38 WARNING(\"solver:nlp_f failed: NaN detected for output f, at (row 0, col 0).\") [.../casadi/core/oracle_function.cpp:377]\n",
      "CasADi - 2024-12-06 09:52:38 WARNING(\"solver:nlp_f failed: NaN detected for output f, at (row 0, col 0).\") [.../casadi/core/oracle_function.cpp:377]\n",
      "CasADi - 2024-12-06 09:52:38 WARNING(\"solver:nlp_f failed: NaN detected for output f, at (row 0, col 0).\") [.../casadi/core/oracle_function.cpp:377]\n",
      "CasADi - 2024-12-06 09:52:38 WARNING(\"solver:nlp_f failed: NaN detected for output f, at (row 0, col 0).\") [.../casadi/core/oracle_function.cpp:377]\n",
      "CasADi - 2024-12-06 09:52:38 WARNING(\"solver:nlp_f failed: NaN detected for output f, at (row 0, col 0).\") [.../casadi/core/oracle_function.cpp:377]\n",
      "CasADi - 2024-12-06 09:52:38 WARNING(\"solver:nlp_f failed: NaN detected for output f, at (row 0, col 0).\") [.../casadi/core/oracle_function.cpp:377]\n"
     ]
    },
    {
     "name": "stdout",
     "output_type": "stream",
     "text": [
      "converged! Final Result:  [0.60329539 0.98669225]\n",
      "length 11\n",
      "eval num 17\n"
     ]
    },
    {
     "name": "stderr",
     "output_type": "stream",
     "text": [
      "CasADi - 2024-12-06 09:52:38 WARNING(\"solver:nlp_f failed: NaN detected for output f, at (row 0, col 0).\") [.../casadi/core/oracle_function.cpp:377]\n",
      "CasADi - 2024-12-06 09:52:38 WARNING(\"solver:nlp_f failed: NaN detected for output f, at (row 0, col 0).\") [.../casadi/core/oracle_function.cpp:377]\n",
      "CasADi - 2024-12-06 09:52:38 WARNING(\"solver:nlp_f failed: NaN detected for output f, at (row 0, col 0).\") [.../casadi/core/oracle_function.cpp:377]\n",
      "CasADi - 2024-12-06 09:52:38 WARNING(\"solver:nlp_f failed: NaN detected for output f, at (row 0, col 0).\") [.../casadi/core/oracle_function.cpp:377]\n",
      "CasADi - 2024-12-06 09:52:38 WARNING(\"solver:nlp_f failed: NaN detected for output f, at (row 0, col 0).\") [.../casadi/core/oracle_function.cpp:377]\n",
      "CasADi - 2024-12-06 09:52:38 WARNING(\"solver:nlp_f failed: NaN detected for output f, at (row 0, col 0).\") [.../casadi/core/oracle_function.cpp:377]\n",
      "CasADi - 2024-12-06 09:52:38 WARNING(\"solver:nlp_f failed: NaN detected for output f, at (row 0, col 0).\") [.../casadi/core/oracle_function.cpp:377]\n",
      "CasADi - 2024-12-06 09:52:38 WARNING(\"solver:nlp_f failed: NaN detected for output f, at (row 0, col 0).\") [.../casadi/core/oracle_function.cpp:377]\n",
      "CasADi - 2024-12-06 09:52:38 WARNING(\"solver:nlp_f failed: NaN detected for output f, at (row 0, col 0).\") [.../casadi/core/oracle_function.cpp:377]\n",
      "CasADi - 2024-12-06 09:52:38 WARNING(\"solver:nlp_f failed: NaN detected for output f, at (row 0, col 0).\") [.../casadi/core/oracle_function.cpp:377]\n",
      "CasADi - 2024-12-06 09:52:38 WARNING(\"solver:nlp_f failed: NaN detected for output f, at (row 0, col 0).\") [.../casadi/core/oracle_function.cpp:377]\n",
      "CasADi - 2024-12-06 09:52:38 WARNING(\"solver:nlp_f failed: NaN detected for output f, at (row 0, col 0).\") [.../casadi/core/oracle_function.cpp:377]\n",
      "CasADi - 2024-12-06 09:52:38 WARNING(\"solver:nlp_f failed: NaN detected for output f, at (row 0, col 0).\") [.../casadi/core/oracle_function.cpp:377]\n",
      "CasADi - 2024-12-06 09:52:38 WARNING(\"solver:nlp_f failed: NaN detected for output f, at (row 0, col 0).\") [.../casadi/core/oracle_function.cpp:377]\n",
      "CasADi - 2024-12-06 09:52:38 WARNING(\"solver:nlp_f failed: NaN detected for output f, at (row 0, col 0).\") [.../casadi/core/oracle_function.cpp:377]\n",
      "CasADi - 2024-12-06 09:52:38 WARNING(\"solver:nlp_f failed: NaN detected for output f, at (row 0, col 0).\") [.../casadi/core/oracle_function.cpp:377]\n",
      "CasADi - 2024-12-06 09:52:38 WARNING(\"solver:nlp_f failed: NaN detected for output f, at (row 0, col 0).\") [.../casadi/core/oracle_function.cpp:377]\n",
      "CasADi - 2024-12-06 09:52:38 WARNING(\"solver:nlp_f failed: NaN detected for output f, at (row 0, col 0).\") [.../casadi/core/oracle_function.cpp:377]\n",
      "CasADi - 2024-12-06 09:52:38 WARNING(\"solver:nlp_f failed: NaN detected for output f, at (row 0, col 0).\") [.../casadi/core/oracle_function.cpp:377]\n",
      "CasADi - 2024-12-06 09:52:38 WARNING(\"solver:nlp_f failed: NaN detected for output f, at (row 0, col 0).\") [.../casadi/core/oracle_function.cpp:377]\n",
      "CasADi - 2024-12-06 09:52:38 WARNING(\"solver:nlp_f failed: NaN detected for output f, at (row 0, col 0).\") [.../casadi/core/oracle_function.cpp:377]\n",
      "CasADi - 2024-12-06 09:52:38 WARNING(\"solver:nlp_f failed: NaN detected for output f, at (row 0, col 0).\") [.../casadi/core/oracle_function.cpp:377]\n",
      "CasADi - 2024-12-06 09:52:38 WARNING(\"solver:nlp_f failed: NaN detected for output f, at (row 0, col 0).\") [.../casadi/core/oracle_function.cpp:377]\n",
      "CasADi - 2024-12-06 09:52:38 WARNING(\"solver:nlp_f failed: NaN detected for output f, at (row 0, col 0).\") [.../casadi/core/oracle_function.cpp:377]\n",
      "CasADi - 2024-12-06 09:52:38 WARNING(\"solver:nlp_f failed: NaN detected for output f, at (row 0, col 0).\") [.../casadi/core/oracle_function.cpp:377]\n",
      "CasADi - 2024-12-06 09:52:38 WARNING(\"solver:nlp_f failed: NaN detected for output f, at (row 0, col 0).\") [.../casadi/core/oracle_function.cpp:377]\n",
      "CasADi - 2024-12-06 09:52:38 WARNING(\"solver:nlp_f failed: NaN detected for output f, at (row 0, col 0).\") [.../casadi/core/oracle_function.cpp:377]\n",
      "CasADi - 2024-12-06 09:52:38 WARNING(\"solver:nlp_f failed: NaN detected for output f, at (row 0, col 0).\") [.../casadi/core/oracle_function.cpp:377]\n",
      "CasADi - 2024-12-06 09:52:38 WARNING(\"solver:nlp_f failed: NaN detected for output f, at (row 0, col 0).\") [.../casadi/core/oracle_function.cpp:377]\n",
      "CasADi - 2024-12-06 09:52:38 WARNING(\"solver:nlp_f failed: NaN detected for output f, at (row 0, col 0).\") [.../casadi/core/oracle_function.cpp:377]\n",
      "CasADi - 2024-12-06 09:52:38 WARNING(\"solver:nlp_f failed: NaN detected for output f, at (row 0, col 0).\") [.../casadi/core/oracle_function.cpp:377]\n"
     ]
    },
    {
     "name": "stdout",
     "output_type": "stream",
     "text": [
      "converged! Final Result:  [0.58948716 0.9992375 ]\n",
      "length 13\n",
      "eval num 18\n",
      "error\n",
      "eval num 18\n"
     ]
    },
    {
     "name": "stderr",
     "output_type": "stream",
     "text": [
      "CasADi - 2024-12-06 09:52:39 WARNING(\"solver:nlp_f failed: NaN detected for output f, at (row 0, col 0).\") [.../casadi/core/oracle_function.cpp:377]\n",
      "CasADi - 2024-12-06 09:52:39 WARNING(\"solver:nlp_f failed: NaN detected for output f, at (row 0, col 0).\") [.../casadi/core/oracle_function.cpp:377]\n",
      "CasADi - 2024-12-06 09:52:39 WARNING(\"solver:nlp_f failed: NaN detected for output f, at (row 0, col 0).\") [.../casadi/core/oracle_function.cpp:377]\n",
      "CasADi - 2024-12-06 09:52:39 WARNING(\"solver:nlp_f failed: NaN detected for output f, at (row 0, col 0).\") [.../casadi/core/oracle_function.cpp:377]\n",
      "CasADi - 2024-12-06 09:52:39 WARNING(\"solver:nlp_f failed: NaN detected for output f, at (row 0, col 0).\") [.../casadi/core/oracle_function.cpp:377]\n",
      "CasADi - 2024-12-06 09:52:39 WARNING(\"solver:nlp_f failed: NaN detected for output f, at (row 0, col 0).\") [.../casadi/core/oracle_function.cpp:377]\n",
      "CasADi - 2024-12-06 09:52:39 WARNING(\"solver:nlp_f failed: NaN detected for output f, at (row 0, col 0).\") [.../casadi/core/oracle_function.cpp:377]\n",
      "CasADi - 2024-12-06 09:52:39 WARNING(\"solver:nlp_f failed: NaN detected for output f, at (row 0, col 0).\") [.../casadi/core/oracle_function.cpp:377]\n",
      "CasADi - 2024-12-06 09:52:39 WARNING(\"solver:nlp_f failed: NaN detected for output f, at (row 0, col 0).\") [.../casadi/core/oracle_function.cpp:377]\n",
      "CasADi - 2024-12-06 09:52:39 WARNING(\"solver:nlp_f failed: NaN detected for output f, at (row 0, col 0).\") [.../casadi/core/oracle_function.cpp:377]\n",
      "CasADi - 2024-12-06 09:52:39 WARNING(\"solver:nlp_f failed: NaN detected for output f, at (row 0, col 0).\") [.../casadi/core/oracle_function.cpp:377]\n",
      "CasADi - 2024-12-06 09:52:39 WARNING(\"solver:nlp_f failed: NaN detected for output f, at (row 0, col 0).\") [.../casadi/core/oracle_function.cpp:377]\n",
      "CasADi - 2024-12-06 09:52:39 WARNING(\"solver:nlp_f failed: NaN detected for output f, at (row 0, col 0).\") [.../casadi/core/oracle_function.cpp:377]\n",
      "CasADi - 2024-12-06 09:52:39 WARNING(\"solver:nlp_f failed: NaN detected for output f, at (row 0, col 0).\") [.../casadi/core/oracle_function.cpp:377]\n",
      "CasADi - 2024-12-06 09:52:39 WARNING(\"solver:nlp_f failed: NaN detected for output f, at (row 0, col 0).\") [.../casadi/core/oracle_function.cpp:377]\n",
      "CasADi - 2024-12-06 09:52:39 WARNING(\"solver:nlp_f failed: NaN detected for output f, at (row 0, col 0).\") [.../casadi/core/oracle_function.cpp:377]\n",
      "CasADi - 2024-12-06 09:52:39 WARNING(\"solver:nlp_f failed: NaN detected for output f, at (row 0, col 0).\") [.../casadi/core/oracle_function.cpp:377]\n",
      "CasADi - 2024-12-06 09:52:39 WARNING(\"solver:nlp_f failed: NaN detected for output f, at (row 0, col 0).\") [.../casadi/core/oracle_function.cpp:377]\n",
      "CasADi - 2024-12-06 09:52:39 WARNING(\"solver:nlp_f failed: NaN detected for output f, at (row 0, col 0).\") [.../casadi/core/oracle_function.cpp:377]\n",
      "CasADi - 2024-12-06 09:52:39 WARNING(\"solver:nlp_f failed: NaN detected for output f, at (row 0, col 0).\") [.../casadi/core/oracle_function.cpp:377]\n",
      "CasADi - 2024-12-06 09:52:39 WARNING(\"solver:nlp_f failed: NaN detected for output f, at (row 0, col 0).\") [.../casadi/core/oracle_function.cpp:377]\n",
      "CasADi - 2024-12-06 09:52:39 WARNING(\"solver:nlp_f failed: NaN detected for output f, at (row 0, col 0).\") [.../casadi/core/oracle_function.cpp:377]\n",
      "CasADi - 2024-12-06 09:52:39 WARNING(\"solver:nlp_f failed: NaN detected for output f, at (row 0, col 0).\") [.../casadi/core/oracle_function.cpp:377]\n",
      "CasADi - 2024-12-06 09:52:39 WARNING(\"solver:nlp_f failed: NaN detected for output f, at (row 0, col 0).\") [.../casadi/core/oracle_function.cpp:377]\n",
      "CasADi - 2024-12-06 09:52:39 WARNING(\"solver:nlp_f failed: NaN detected for output f, at (row 0, col 0).\") [.../casadi/core/oracle_function.cpp:377]\n",
      "CasADi - 2024-12-06 09:52:39 WARNING(\"solver:nlp_f failed: NaN detected for output f, at (row 0, col 0).\") [.../casadi/core/oracle_function.cpp:377]\n",
      "CasADi - 2024-12-06 09:52:39 WARNING(\"solver:nlp_f failed: NaN detected for output f, at (row 0, col 0).\") [.../casadi/core/oracle_function.cpp:377]\n",
      "CasADi - 2024-12-06 09:52:39 WARNING(\"solver:nlp_f failed: NaN detected for output f, at (row 0, col 0).\") [.../casadi/core/oracle_function.cpp:377]\n",
      "CasADi - 2024-12-06 09:52:39 WARNING(\"solver:nlp_f failed: NaN detected for output f, at (row 0, col 0).\") [.../casadi/core/oracle_function.cpp:377]\n",
      "CasADi - 2024-12-06 09:52:39 WARNING(\"solver:nlp_f failed: NaN detected for output f, at (row 0, col 0).\") [.../casadi/core/oracle_function.cpp:377]\n",
      "CasADi - 2024-12-06 09:52:39 WARNING(\"solver:nlp_f failed: NaN detected for output f, at (row 0, col 0).\") [.../casadi/core/oracle_function.cpp:377]\n",
      "CasADi - 2024-12-06 09:52:39 WARNING(\"solver:nlp_f failed: NaN detected for output f, at (row 0, col 0).\") [.../casadi/core/oracle_function.cpp:377]\n",
      "CasADi - 2024-12-06 09:52:39 WARNING(\"solver:nlp_f failed: NaN detected for output f, at (row 0, col 0).\") [.../casadi/core/oracle_function.cpp:377]\n",
      "CasADi - 2024-12-06 09:52:39 WARNING(\"solver:nlp_f failed: NaN detected for output f, at (row 0, col 0).\") [.../casadi/core/oracle_function.cpp:377]\n",
      "CasADi - 2024-12-06 09:52:39 WARNING(\"solver:nlp_f failed: NaN detected for output f, at (row 0, col 0).\") [.../casadi/core/oracle_function.cpp:377]\n"
     ]
    },
    {
     "name": "stdout",
     "output_type": "stream",
     "text": [
      "converged! Final Result:  [0.59692489 1.00227496]\n",
      "length 17\n",
      "eval num 19\n"
     ]
    },
    {
     "name": "stderr",
     "output_type": "stream",
     "text": [
      "CasADi - 2024-12-06 09:52:40 WARNING(\"solver:nlp_f failed: NaN detected for output f, at (row 0, col 0).\") [.../casadi/core/oracle_function.cpp:377]\n",
      "CasADi - 2024-12-06 09:52:40 WARNING(\"solver:nlp_f failed: NaN detected for output f, at (row 0, col 0).\") [.../casadi/core/oracle_function.cpp:377]\n",
      "CasADi - 2024-12-06 09:52:40 WARNING(\"solver:nlp_f failed: NaN detected for output f, at (row 0, col 0).\") [.../casadi/core/oracle_function.cpp:377]\n",
      "CasADi - 2024-12-06 09:52:40 WARNING(\"solver:nlp_f failed: NaN detected for output f, at (row 0, col 0).\") [.../casadi/core/oracle_function.cpp:377]\n",
      "CasADi - 2024-12-06 09:52:40 WARNING(\"solver:nlp_f failed: NaN detected for output f, at (row 0, col 0).\") [.../casadi/core/oracle_function.cpp:377]\n",
      "CasADi - 2024-12-06 09:52:40 WARNING(\"solver:nlp_f failed: NaN detected for output f, at (row 0, col 0).\") [.../casadi/core/oracle_function.cpp:377]\n",
      "CasADi - 2024-12-06 09:52:40 WARNING(\"solver:nlp_f failed: NaN detected for output f, at (row 0, col 0).\") [.../casadi/core/oracle_function.cpp:377]\n",
      "CasADi - 2024-12-06 09:52:40 WARNING(\"solver:nlp_f failed: NaN detected for output f, at (row 0, col 0).\") [.../casadi/core/oracle_function.cpp:377]\n",
      "CasADi - 2024-12-06 09:52:40 WARNING(\"solver:nlp_f failed: NaN detected for output f, at (row 0, col 0).\") [.../casadi/core/oracle_function.cpp:377]\n",
      "CasADi - 2024-12-06 09:52:40 WARNING(\"solver:nlp_f failed: NaN detected for output f, at (row 0, col 0).\") [.../casadi/core/oracle_function.cpp:377]\n",
      "CasADi - 2024-12-06 09:52:40 WARNING(\"solver:nlp_f failed: NaN detected for output f, at (row 0, col 0).\") [.../casadi/core/oracle_function.cpp:377]\n",
      "CasADi - 2024-12-06 09:52:40 WARNING(\"solver:nlp_f failed: NaN detected for output f, at (row 0, col 0).\") [.../casadi/core/oracle_function.cpp:377]\n",
      "CasADi - 2024-12-06 09:52:40 WARNING(\"solver:nlp_f failed: NaN detected for output f, at (row 0, col 0).\") [.../casadi/core/oracle_function.cpp:377]\n",
      "CasADi - 2024-12-06 09:52:40 WARNING(\"solver:nlp_f failed: NaN detected for output f, at (row 0, col 0).\") [.../casadi/core/oracle_function.cpp:377]\n",
      "CasADi - 2024-12-06 09:52:40 WARNING(\"solver:nlp_f failed: NaN detected for output f, at (row 0, col 0).\") [.../casadi/core/oracle_function.cpp:377]\n",
      "CasADi - 2024-12-06 09:52:40 WARNING(\"solver:nlp_f failed: NaN detected for output f, at (row 0, col 0).\") [.../casadi/core/oracle_function.cpp:377]\n",
      "CasADi - 2024-12-06 09:52:40 WARNING(\"solver:nlp_f failed: NaN detected for output f, at (row 0, col 0).\") [.../casadi/core/oracle_function.cpp:377]\n",
      "CasADi - 2024-12-06 09:52:40 WARNING(\"solver:nlp_f failed: NaN detected for output f, at (row 0, col 0).\") [.../casadi/core/oracle_function.cpp:377]\n"
     ]
    },
    {
     "name": "stdout",
     "output_type": "stream",
     "text": [
      "error\n",
      "eval num 19\n"
     ]
    },
    {
     "name": "stderr",
     "output_type": "stream",
     "text": [
      "CasADi - 2024-12-06 09:52:41 WARNING(\"solver:nlp_f failed: NaN detected for output f, at (row 0, col 0).\") [.../casadi/core/oracle_function.cpp:377]\n",
      "CasADi - 2024-12-06 09:52:41 WARNING(\"solver:nlp_f failed: NaN detected for output f, at (row 0, col 0).\") [.../casadi/core/oracle_function.cpp:377]\n",
      "CasADi - 2024-12-06 09:52:41 WARNING(\"solver:nlp_f failed: NaN detected for output f, at (row 0, col 0).\") [.../casadi/core/oracle_function.cpp:377]\n",
      "CasADi - 2024-12-06 09:52:41 WARNING(\"solver:nlp_f failed: NaN detected for output f, at (row 0, col 0).\") [.../casadi/core/oracle_function.cpp:377]\n",
      "CasADi - 2024-12-06 09:52:41 WARNING(\"solver:nlp_f failed: NaN detected for output f, at (row 0, col 0).\") [.../casadi/core/oracle_function.cpp:377]\n",
      "CasADi - 2024-12-06 09:52:41 WARNING(\"solver:nlp_f failed: NaN detected for output f, at (row 0, col 0).\") [.../casadi/core/oracle_function.cpp:377]\n",
      "CasADi - 2024-12-06 09:52:41 WARNING(\"solver:nlp_f failed: NaN detected for output f, at (row 0, col 0).\") [.../casadi/core/oracle_function.cpp:377]\n",
      "CasADi - 2024-12-06 09:52:41 WARNING(\"solver:nlp_f failed: NaN detected for output f, at (row 0, col 0).\") [.../casadi/core/oracle_function.cpp:377]\n",
      "CasADi - 2024-12-06 09:52:41 WARNING(\"solver:nlp_f failed: NaN detected for output f, at (row 0, col 0).\") [.../casadi/core/oracle_function.cpp:377]\n",
      "CasADi - 2024-12-06 09:52:41 WARNING(\"solver:nlp_f failed: NaN detected for output f, at (row 0, col 0).\") [.../casadi/core/oracle_function.cpp:377]\n",
      "CasADi - 2024-12-06 09:52:41 WARNING(\"solver:nlp_f failed: NaN detected for output f, at (row 0, col 0).\") [.../casadi/core/oracle_function.cpp:377]\n",
      "CasADi - 2024-12-06 09:52:41 WARNING(\"solver:nlp_f failed: NaN detected for output f, at (row 0, col 0).\") [.../casadi/core/oracle_function.cpp:377]\n",
      "CasADi - 2024-12-06 09:52:41 WARNING(\"solver:nlp_f failed: NaN detected for output f, at (row 0, col 0).\") [.../casadi/core/oracle_function.cpp:377]\n",
      "CasADi - 2024-12-06 09:52:41 WARNING(\"solver:nlp_f failed: NaN detected for output f, at (row 0, col 0).\") [.../casadi/core/oracle_function.cpp:377]\n",
      "CasADi - 2024-12-06 09:52:41 WARNING(\"solver:nlp_f failed: NaN detected for output f, at (row 0, col 0).\") [.../casadi/core/oracle_function.cpp:377]\n",
      "CasADi - 2024-12-06 09:52:41 WARNING(\"solver:nlp_f failed: NaN detected for output f, at (row 0, col 0).\") [.../casadi/core/oracle_function.cpp:377]\n",
      "CasADi - 2024-12-06 09:52:41 WARNING(\"solver:nlp_f failed: NaN detected for output f, at (row 0, col 0).\") [.../casadi/core/oracle_function.cpp:377]\n",
      "CasADi - 2024-12-06 09:52:41 WARNING(\"solver:nlp_f failed: NaN detected for output f, at (row 0, col 0).\") [.../casadi/core/oracle_function.cpp:377]\n",
      "CasADi - 2024-12-06 09:52:41 WARNING(\"solver:nlp_f failed: NaN detected for output f, at (row 0, col 0).\") [.../casadi/core/oracle_function.cpp:377]\n",
      "CasADi - 2024-12-06 09:52:41 WARNING(\"solver:nlp_f failed: NaN detected for output f, at (row 0, col 0).\") [.../casadi/core/oracle_function.cpp:377]\n",
      "CasADi - 2024-12-06 09:52:41 WARNING(\"solver:nlp_f failed: NaN detected for output f, at (row 0, col 0).\") [.../casadi/core/oracle_function.cpp:377]\n"
     ]
    },
    {
     "name": "stdout",
     "output_type": "stream",
     "text": [
      "converged! Final Result:  [0.61294803 0.9875024 ]\n",
      "length 13\n",
      "eval num 0\n"
     ]
    },
    {
     "name": "stderr",
     "output_type": "stream",
     "text": [
      "CasADi - 2024-12-06 09:52:41 WARNING(\"solver:nlp_f failed: NaN detected for output f, at (row 0, col 0).\") [.../casadi/core/oracle_function.cpp:377]\n",
      "CasADi - 2024-12-06 09:52:41 WARNING(\"solver:nlp_f failed: NaN detected for output f, at (row 0, col 0).\") [.../casadi/core/oracle_function.cpp:377]\n",
      "CasADi - 2024-12-06 09:52:41 WARNING(\"solver:nlp_f failed: NaN detected for output f, at (row 0, col 0).\") [.../casadi/core/oracle_function.cpp:377]\n",
      "CasADi - 2024-12-06 09:52:41 WARNING(\"solver:nlp_f failed: NaN detected for output f, at (row 0, col 0).\") [.../casadi/core/oracle_function.cpp:377]\n",
      "CasADi - 2024-12-06 09:52:41 WARNING(\"solver:nlp_f failed: NaN detected for output f, at (row 0, col 0).\") [.../casadi/core/oracle_function.cpp:377]\n",
      "CasADi - 2024-12-06 09:52:41 WARNING(\"solver:nlp_f failed: NaN detected for output f, at (row 0, col 0).\") [.../casadi/core/oracle_function.cpp:377]\n",
      "CasADi - 2024-12-06 09:52:41 WARNING(\"solver:nlp_f failed: NaN detected for output f, at (row 0, col 0).\") [.../casadi/core/oracle_function.cpp:377]\n",
      "CasADi - 2024-12-06 09:52:41 WARNING(\"solver:nlp_f failed: NaN detected for output f, at (row 0, col 0).\") [.../casadi/core/oracle_function.cpp:377]\n",
      "CasADi - 2024-12-06 09:52:41 WARNING(\"solver:nlp_f failed: NaN detected for output f, at (row 0, col 0).\") [.../casadi/core/oracle_function.cpp:377]\n",
      "CasADi - 2024-12-06 09:52:41 WARNING(\"solver:nlp_f failed: NaN detected for output f, at (row 0, col 0).\") [.../casadi/core/oracle_function.cpp:377]\n",
      "CasADi - 2024-12-06 09:52:41 WARNING(\"solver:nlp_f failed: NaN detected for output f, at (row 0, col 0).\") [.../casadi/core/oracle_function.cpp:377]\n",
      "CasADi - 2024-12-06 09:52:41 WARNING(\"solver:nlp_f failed: NaN detected for output f, at (row 0, col 0).\") [.../casadi/core/oracle_function.cpp:377]\n"
     ]
    },
    {
     "name": "stdout",
     "output_type": "stream",
     "text": [
      "converged! Final Result:  [0.59501761 0.99171039]\n",
      "length 12\n",
      "eval num 1\n"
     ]
    },
    {
     "name": "stderr",
     "output_type": "stream",
     "text": [
      "CasADi - 2024-12-06 09:52:42 WARNING(\"solver:nlp_f failed: NaN detected for output f, at (row 0, col 0).\") [.../casadi/core/oracle_function.cpp:377]\n",
      "CasADi - 2024-12-06 09:52:42 WARNING(\"solver:nlp_f failed: NaN detected for output f, at (row 0, col 0).\") [.../casadi/core/oracle_function.cpp:377]\n",
      "CasADi - 2024-12-06 09:52:42 WARNING(\"solver:nlp_f failed: NaN detected for output f, at (row 0, col 0).\") [.../casadi/core/oracle_function.cpp:377]\n",
      "CasADi - 2024-12-06 09:52:42 WARNING(\"solver:nlp_f failed: NaN detected for output f, at (row 0, col 0).\") [.../casadi/core/oracle_function.cpp:377]\n",
      "CasADi - 2024-12-06 09:52:42 WARNING(\"solver:nlp_f failed: NaN detected for output f, at (row 0, col 0).\") [.../casadi/core/oracle_function.cpp:377]\n",
      "CasADi - 2024-12-06 09:52:42 WARNING(\"solver:nlp_f failed: NaN detected for output f, at (row 0, col 0).\") [.../casadi/core/oracle_function.cpp:377]\n",
      "CasADi - 2024-12-06 09:52:42 WARNING(\"solver:nlp_f failed: NaN detected for output f, at (row 0, col 0).\") [.../casadi/core/oracle_function.cpp:377]\n",
      "CasADi - 2024-12-06 09:52:42 WARNING(\"solver:nlp_f failed: NaN detected for output f, at (row 0, col 0).\") [.../casadi/core/oracle_function.cpp:377]\n",
      "CasADi - 2024-12-06 09:52:42 WARNING(\"solver:nlp_f failed: NaN detected for output f, at (row 0, col 0).\") [.../casadi/core/oracle_function.cpp:377]\n",
      "CasADi - 2024-12-06 09:52:42 WARNING(\"solver:nlp_f failed: NaN detected for output f, at (row 0, col 0).\") [.../casadi/core/oracle_function.cpp:377]\n",
      "CasADi - 2024-12-06 09:52:42 WARNING(\"solver:nlp_f failed: NaN detected for output f, at (row 0, col 0).\") [.../casadi/core/oracle_function.cpp:377]\n",
      "CasADi - 2024-12-06 09:52:42 WARNING(\"solver:nlp_f failed: NaN detected for output f, at (row 0, col 0).\") [.../casadi/core/oracle_function.cpp:377]\n",
      "CasADi - 2024-12-06 09:52:42 WARNING(\"solver:nlp_f failed: NaN detected for output f, at (row 0, col 0).\") [.../casadi/core/oracle_function.cpp:377]\n",
      "CasADi - 2024-12-06 09:52:42 WARNING(\"solver:nlp_f failed: NaN detected for output f, at (row 0, col 0).\") [.../casadi/core/oracle_function.cpp:377]\n",
      "CasADi - 2024-12-06 09:52:42 WARNING(\"solver:nlp_f failed: NaN detected for output f, at (row 0, col 0).\") [.../casadi/core/oracle_function.cpp:377]\n",
      "CasADi - 2024-12-06 09:52:42 WARNING(\"solver:nlp_f failed: NaN detected for output f, at (row 0, col 0).\") [.../casadi/core/oracle_function.cpp:377]\n",
      "CasADi - 2024-12-06 09:52:42 WARNING(\"solver:nlp_f failed: NaN detected for output f, at (row 0, col 0).\") [.../casadi/core/oracle_function.cpp:377]\n",
      "CasADi - 2024-12-06 09:52:42 WARNING(\"solver:nlp_f failed: NaN detected for output f, at (row 0, col 0).\") [.../casadi/core/oracle_function.cpp:377]\n",
      "CasADi - 2024-12-06 09:52:42 WARNING(\"solver:nlp_f failed: NaN detected for output f, at (row 0, col 0).\") [.../casadi/core/oracle_function.cpp:377]\n",
      "CasADi - 2024-12-06 09:52:42 WARNING(\"solver:nlp_f failed: NaN detected for output f, at (row 0, col 0).\") [.../casadi/core/oracle_function.cpp:377]\n",
      "CasADi - 2024-12-06 09:52:42 WARNING(\"solver:nlp_f failed: NaN detected for output f, at (row 0, col 0).\") [.../casadi/core/oracle_function.cpp:377]\n",
      "CasADi - 2024-12-06 09:52:42 WARNING(\"solver:nlp_f failed: NaN detected for output f, at (row 0, col 0).\") [.../casadi/core/oracle_function.cpp:377]\n",
      "CasADi - 2024-12-06 09:52:42 WARNING(\"solver:nlp_f failed: NaN detected for output f, at (row 0, col 0).\") [.../casadi/core/oracle_function.cpp:377]\n",
      "CasADi - 2024-12-06 09:52:42 WARNING(\"solver:nlp_f failed: NaN detected for output f, at (row 0, col 0).\") [.../casadi/core/oracle_function.cpp:377]\n"
     ]
    },
    {
     "name": "stdout",
     "output_type": "stream",
     "text": [
      "converged! Final Result:  [0.60895805 0.98921095]\n",
      "length 12\n",
      "eval num 2\n"
     ]
    },
    {
     "name": "stderr",
     "output_type": "stream",
     "text": [
      "CasADi - 2024-12-06 09:52:42 WARNING(\"solver:nlp_f failed: NaN detected for output f, at (row 0, col 0).\") [.../casadi/core/oracle_function.cpp:377]\n"
     ]
    },
    {
     "name": "stdout",
     "output_type": "stream",
     "text": [
      "converged! Final Result:  [0.5838725  1.01140526]\n",
      "length 10\n",
      "eval num 3\n"
     ]
    },
    {
     "name": "stderr",
     "output_type": "stream",
     "text": [
      "CasADi - 2024-12-06 09:52:43 WARNING(\"solver:nlp_f failed: NaN detected for output f, at (row 0, col 0).\") [.../casadi/core/oracle_function.cpp:377]\n",
      "CasADi - 2024-12-06 09:52:43 WARNING(\"solver:nlp_f failed: NaN detected for output f, at (row 0, col 0).\") [.../casadi/core/oracle_function.cpp:377]\n",
      "CasADi - 2024-12-06 09:52:43 WARNING(\"solver:nlp_f failed: NaN detected for output f, at (row 0, col 0).\") [.../casadi/core/oracle_function.cpp:377]\n",
      "CasADi - 2024-12-06 09:52:43 WARNING(\"solver:nlp_f failed: NaN detected for output f, at (row 0, col 0).\") [.../casadi/core/oracle_function.cpp:377]\n",
      "CasADi - 2024-12-06 09:52:43 WARNING(\"solver:nlp_f failed: NaN detected for output f, at (row 0, col 0).\") [.../casadi/core/oracle_function.cpp:377]\n",
      "CasADi - 2024-12-06 09:52:43 WARNING(\"solver:nlp_f failed: NaN detected for output f, at (row 0, col 0).\") [.../casadi/core/oracle_function.cpp:377]\n",
      "CasADi - 2024-12-06 09:52:43 WARNING(\"solver:nlp_f failed: NaN detected for output f, at (row 0, col 0).\") [.../casadi/core/oracle_function.cpp:377]\n",
      "CasADi - 2024-12-06 09:52:43 WARNING(\"solver:nlp_f failed: NaN detected for output f, at (row 0, col 0).\") [.../casadi/core/oracle_function.cpp:377]\n",
      "CasADi - 2024-12-06 09:52:43 WARNING(\"solver:nlp_f failed: NaN detected for output f, at (row 0, col 0).\") [.../casadi/core/oracle_function.cpp:377]\n",
      "CasADi - 2024-12-06 09:52:43 WARNING(\"solver:nlp_f failed: NaN detected for output f, at (row 0, col 0).\") [.../casadi/core/oracle_function.cpp:377]\n",
      "CasADi - 2024-12-06 09:52:43 WARNING(\"solver:nlp_f failed: NaN detected for output f, at (row 0, col 0).\") [.../casadi/core/oracle_function.cpp:377]\n"
     ]
    },
    {
     "name": "stdout",
     "output_type": "stream",
     "text": [
      "converged! Final Result:  [0.60079169 0.99378987]\n",
      "length 15\n",
      "eval num 4\n"
     ]
    },
    {
     "name": "stderr",
     "output_type": "stream",
     "text": [
      "CasADi - 2024-12-06 09:52:43 WARNING(\"solver:nlp_f failed: NaN detected for output f, at (row 0, col 0).\") [.../casadi/core/oracle_function.cpp:377]\n",
      "CasADi - 2024-12-06 09:52:43 WARNING(\"solver:nlp_f failed: NaN detected for output f, at (row 0, col 0).\") [.../casadi/core/oracle_function.cpp:377]\n",
      "CasADi - 2024-12-06 09:52:43 WARNING(\"solver:nlp_f failed: NaN detected for output f, at (row 0, col 0).\") [.../casadi/core/oracle_function.cpp:377]\n",
      "CasADi - 2024-12-06 09:52:43 WARNING(\"solver:nlp_f failed: NaN detected for output f, at (row 0, col 0).\") [.../casadi/core/oracle_function.cpp:377]\n",
      "CasADi - 2024-12-06 09:52:43 WARNING(\"solver:nlp_f failed: NaN detected for output f, at (row 0, col 0).\") [.../casadi/core/oracle_function.cpp:377]\n",
      "CasADi - 2024-12-06 09:52:43 WARNING(\"solver:nlp_f failed: NaN detected for output f, at (row 0, col 0).\") [.../casadi/core/oracle_function.cpp:377]\n",
      "CasADi - 2024-12-06 09:52:43 WARNING(\"solver:nlp_f failed: NaN detected for output f, at (row 0, col 0).\") [.../casadi/core/oracle_function.cpp:377]\n",
      "CasADi - 2024-12-06 09:52:43 WARNING(\"solver:nlp_f failed: NaN detected for output f, at (row 0, col 0).\") [.../casadi/core/oracle_function.cpp:377]\n",
      "CasADi - 2024-12-06 09:52:43 WARNING(\"solver:nlp_f failed: NaN detected for output f, at (row 0, col 0).\") [.../casadi/core/oracle_function.cpp:377]\n",
      "CasADi - 2024-12-06 09:52:43 WARNING(\"solver:nlp_f failed: NaN detected for output f, at (row 0, col 0).\") [.../casadi/core/oracle_function.cpp:377]\n",
      "CasADi - 2024-12-06 09:52:43 WARNING(\"solver:nlp_f failed: NaN detected for output f, at (row 0, col 0).\") [.../casadi/core/oracle_function.cpp:377]\n",
      "CasADi - 2024-12-06 09:52:43 WARNING(\"solver:nlp_f failed: NaN detected for output f, at (row 0, col 0).\") [.../casadi/core/oracle_function.cpp:377]\n",
      "CasADi - 2024-12-06 09:52:44 WARNING(\"solver:nlp_f failed: NaN detected for output f, at (row 0, col 0).\") [.../casadi/core/oracle_function.cpp:377]\n",
      "CasADi - 2024-12-06 09:52:44 WARNING(\"solver:nlp_f failed: NaN detected for output f, at (row 0, col 0).\") [.../casadi/core/oracle_function.cpp:377]\n",
      "CasADi - 2024-12-06 09:52:44 WARNING(\"solver:nlp_f failed: NaN detected for output f, at (row 0, col 0).\") [.../casadi/core/oracle_function.cpp:377]\n",
      "CasADi - 2024-12-06 09:52:44 WARNING(\"solver:nlp_f failed: NaN detected for output f, at (row 0, col 0).\") [.../casadi/core/oracle_function.cpp:377]\n",
      "CasADi - 2024-12-06 09:52:44 WARNING(\"solver:nlp_f failed: NaN detected for output f, at (row 0, col 0).\") [.../casadi/core/oracle_function.cpp:377]\n",
      "CasADi - 2024-12-06 09:52:44 WARNING(\"solver:nlp_f failed: NaN detected for output f, at (row 0, col 0).\") [.../casadi/core/oracle_function.cpp:377]\n",
      "CasADi - 2024-12-06 09:52:44 WARNING(\"solver:nlp_f failed: NaN detected for output f, at (row 0, col 0).\") [.../casadi/core/oracle_function.cpp:377]\n",
      "CasADi - 2024-12-06 09:52:44 WARNING(\"solver:nlp_f failed: NaN detected for output f, at (row 0, col 0).\") [.../casadi/core/oracle_function.cpp:377]\n",
      "CasADi - 2024-12-06 09:52:44 WARNING(\"solver:nlp_f failed: NaN detected for output f, at (row 0, col 0).\") [.../casadi/core/oracle_function.cpp:377]\n"
     ]
    },
    {
     "name": "stdout",
     "output_type": "stream",
     "text": [
      "error\n",
      "eval num 4\n",
      "converged! Final Result:  [0.6000477  0.99728323]\n",
      "length 11\n",
      "eval num 5\n"
     ]
    },
    {
     "name": "stderr",
     "output_type": "stream",
     "text": [
      "CasADi - 2024-12-06 09:52:45 WARNING(\"solver:nlp_f failed: NaN detected for output f, at (row 0, col 0).\") [.../casadi/core/oracle_function.cpp:377]\n",
      "CasADi - 2024-12-06 09:52:45 WARNING(\"solver:nlp_f failed: NaN detected for output f, at (row 0, col 0).\") [.../casadi/core/oracle_function.cpp:377]\n",
      "CasADi - 2024-12-06 09:52:45 WARNING(\"solver:nlp_f failed: NaN detected for output f, at (row 0, col 0).\") [.../casadi/core/oracle_function.cpp:377]\n",
      "CasADi - 2024-12-06 09:52:45 WARNING(\"solver:nlp_f failed: NaN detected for output f, at (row 0, col 0).\") [.../casadi/core/oracle_function.cpp:377]\n",
      "CasADi - 2024-12-06 09:52:45 WARNING(\"solver:nlp_f failed: NaN detected for output f, at (row 0, col 0).\") [.../casadi/core/oracle_function.cpp:377]\n",
      "CasADi - 2024-12-06 09:52:45 WARNING(\"solver:nlp_f failed: NaN detected for output f, at (row 0, col 0).\") [.../casadi/core/oracle_function.cpp:377]\n"
     ]
    },
    {
     "name": "stdout",
     "output_type": "stream",
     "text": [
      "converged! Final Result:  [0.59657387 0.98519028]\n",
      "length 11\n",
      "eval num 6\n"
     ]
    },
    {
     "name": "stderr",
     "output_type": "stream",
     "text": [
      "CasADi - 2024-12-06 09:52:45 WARNING(\"solver:nlp_f failed: NaN detected for output f, at (row 0, col 0).\") [.../casadi/core/oracle_function.cpp:377]\n",
      "CasADi - 2024-12-06 09:52:45 WARNING(\"solver:nlp_f failed: NaN detected for output f, at (row 0, col 0).\") [.../casadi/core/oracle_function.cpp:377]\n",
      "CasADi - 2024-12-06 09:52:45 WARNING(\"solver:nlp_f failed: NaN detected for output f, at (row 0, col 0).\") [.../casadi/core/oracle_function.cpp:377]\n"
     ]
    },
    {
     "name": "stdout",
     "output_type": "stream",
     "text": [
      "converged! Final Result:  [0.60475219 0.99799397]\n",
      "length 11\n",
      "eval num 7\n"
     ]
    },
    {
     "name": "stderr",
     "output_type": "stream",
     "text": [
      "CasADi - 2024-12-06 09:52:46 WARNING(\"solver:nlp_f failed: NaN detected for output f, at (row 0, col 0).\") [.../casadi/core/oracle_function.cpp:377]\n",
      "CasADi - 2024-12-06 09:52:46 WARNING(\"solver:nlp_f failed: NaN detected for output f, at (row 0, col 0).\") [.../casadi/core/oracle_function.cpp:377]\n"
     ]
    },
    {
     "name": "stdout",
     "output_type": "stream",
     "text": [
      "converged! Final Result:  [0.61867003 1.00021804]\n",
      "length 11\n",
      "eval num 8\n",
      "error\n",
      "eval num 8\n"
     ]
    },
    {
     "name": "stderr",
     "output_type": "stream",
     "text": [
      "CasADi - 2024-12-06 09:52:47 WARNING(\"solver:nlp_f failed: NaN detected for output f, at (row 0, col 0).\") [.../casadi/core/oracle_function.cpp:377]\n",
      "CasADi - 2024-12-06 09:52:47 WARNING(\"solver:nlp_f failed: NaN detected for output f, at (row 0, col 0).\") [.../casadi/core/oracle_function.cpp:377]\n",
      "CasADi - 2024-12-06 09:52:47 WARNING(\"solver:nlp_f failed: NaN detected for output f, at (row 0, col 0).\") [.../casadi/core/oracle_function.cpp:377]\n",
      "CasADi - 2024-12-06 09:52:47 WARNING(\"solver:nlp_f failed: NaN detected for output f, at (row 0, col 0).\") [.../casadi/core/oracle_function.cpp:377]\n",
      "CasADi - 2024-12-06 09:52:47 WARNING(\"solver:nlp_f failed: NaN detected for output f, at (row 0, col 0).\") [.../casadi/core/oracle_function.cpp:377]\n",
      "CasADi - 2024-12-06 09:52:47 WARNING(\"solver:nlp_f failed: NaN detected for output f, at (row 0, col 0).\") [.../casadi/core/oracle_function.cpp:377]\n",
      "CasADi - 2024-12-06 09:52:47 WARNING(\"solver:nlp_f failed: NaN detected for output f, at (row 0, col 0).\") [.../casadi/core/oracle_function.cpp:377]\n"
     ]
    },
    {
     "name": "stdout",
     "output_type": "stream",
     "text": [
      "error\n",
      "eval num 8\n"
     ]
    },
    {
     "name": "stderr",
     "output_type": "stream",
     "text": [
      "CasADi - 2024-12-06 09:52:47 WARNING(\"solver:nlp_f failed: NaN detected for output f, at (row 0, col 0).\") [.../casadi/core/oracle_function.cpp:377]\n",
      "CasADi - 2024-12-06 09:52:47 WARNING(\"solver:nlp_f failed: NaN detected for output f, at (row 0, col 0).\") [.../casadi/core/oracle_function.cpp:377]\n",
      "CasADi - 2024-12-06 09:52:47 WARNING(\"solver:nlp_f failed: NaN detected for output f, at (row 0, col 0).\") [.../casadi/core/oracle_function.cpp:377]\n",
      "CasADi - 2024-12-06 09:52:47 WARNING(\"solver:nlp_f failed: NaN detected for output f, at (row 0, col 0).\") [.../casadi/core/oracle_function.cpp:377]\n",
      "CasADi - 2024-12-06 09:52:47 WARNING(\"solver:nlp_f failed: NaN detected for output f, at (row 0, col 0).\") [.../casadi/core/oracle_function.cpp:377]\n",
      "CasADi - 2024-12-06 09:52:47 WARNING(\"solver:nlp_f failed: NaN detected for output f, at (row 0, col 0).\") [.../casadi/core/oracle_function.cpp:377]\n",
      "CasADi - 2024-12-06 09:52:47 WARNING(\"solver:nlp_f failed: NaN detected for output f, at (row 0, col 0).\") [.../casadi/core/oracle_function.cpp:377]\n",
      "CasADi - 2024-12-06 09:52:47 WARNING(\"solver:nlp_f failed: NaN detected for output f, at (row 0, col 0).\") [.../casadi/core/oracle_function.cpp:377]\n"
     ]
    },
    {
     "name": "stdout",
     "output_type": "stream",
     "text": [
      "converged! Final Result:  [0.59757295 1.00087695]\n",
      "length 13\n",
      "eval num 9\n"
     ]
    },
    {
     "name": "stderr",
     "output_type": "stream",
     "text": [
      "CasADi - 2024-12-06 09:52:48 WARNING(\"solver:nlp_f failed: NaN detected for output f, at (row 0, col 0).\") [.../casadi/core/oracle_function.cpp:377]\n",
      "CasADi - 2024-12-06 09:52:48 WARNING(\"solver:nlp_f failed: NaN detected for output f, at (row 0, col 0).\") [.../casadi/core/oracle_function.cpp:377]\n",
      "CasADi - 2024-12-06 09:52:48 WARNING(\"solver:nlp_f failed: NaN detected for output f, at (row 0, col 0).\") [.../casadi/core/oracle_function.cpp:377]\n",
      "CasADi - 2024-12-06 09:52:48 WARNING(\"solver:nlp_f failed: NaN detected for output f, at (row 0, col 0).\") [.../casadi/core/oracle_function.cpp:377]\n",
      "CasADi - 2024-12-06 09:52:48 WARNING(\"solver:nlp_f failed: NaN detected for output f, at (row 0, col 0).\") [.../casadi/core/oracle_function.cpp:377]\n",
      "CasADi - 2024-12-06 09:52:48 WARNING(\"solver:nlp_f failed: NaN detected for output f, at (row 0, col 0).\") [.../casadi/core/oracle_function.cpp:377]\n",
      "CasADi - 2024-12-06 09:52:48 WARNING(\"solver:nlp_f failed: NaN detected for output f, at (row 0, col 0).\") [.../casadi/core/oracle_function.cpp:377]\n",
      "CasADi - 2024-12-06 09:52:48 WARNING(\"solver:nlp_f failed: NaN detected for output f, at (row 0, col 0).\") [.../casadi/core/oracle_function.cpp:377]\n",
      "CasADi - 2024-12-06 09:52:48 WARNING(\"solver:nlp_f failed: NaN detected for output f, at (row 0, col 0).\") [.../casadi/core/oracle_function.cpp:377]\n"
     ]
    },
    {
     "name": "stdout",
     "output_type": "stream",
     "text": [
      "converged! Final Result:  [0.58332111 1.00543369]\n",
      "length 11\n",
      "eval num 10\n"
     ]
    },
    {
     "name": "stderr",
     "output_type": "stream",
     "text": [
      "CasADi - 2024-12-06 09:52:48 WARNING(\"solver:nlp_f failed: NaN detected for output f, at (row 0, col 0).\") [.../casadi/core/oracle_function.cpp:377]\n",
      "CasADi - 2024-12-06 09:52:48 WARNING(\"solver:nlp_f failed: NaN detected for output f, at (row 0, col 0).\") [.../casadi/core/oracle_function.cpp:377]\n",
      "CasADi - 2024-12-06 09:52:48 WARNING(\"solver:nlp_f failed: NaN detected for output f, at (row 0, col 0).\") [.../casadi/core/oracle_function.cpp:377]\n",
      "CasADi - 2024-12-06 09:52:48 WARNING(\"solver:nlp_f failed: NaN detected for output f, at (row 0, col 0).\") [.../casadi/core/oracle_function.cpp:377]\n",
      "CasADi - 2024-12-06 09:52:48 WARNING(\"solver:nlp_f failed: NaN detected for output f, at (row 0, col 0).\") [.../casadi/core/oracle_function.cpp:377]\n",
      "CasADi - 2024-12-06 09:52:48 WARNING(\"solver:nlp_f failed: NaN detected for output f, at (row 0, col 0).\") [.../casadi/core/oracle_function.cpp:377]\n",
      "CasADi - 2024-12-06 09:52:48 WARNING(\"solver:nlp_f failed: NaN detected for output f, at (row 0, col 0).\") [.../casadi/core/oracle_function.cpp:377]\n",
      "CasADi - 2024-12-06 09:52:48 WARNING(\"solver:nlp_f failed: NaN detected for output f, at (row 0, col 0).\") [.../casadi/core/oracle_function.cpp:377]\n",
      "CasADi - 2024-12-06 09:52:48 WARNING(\"solver:nlp_f failed: NaN detected for output f, at (row 0, col 0).\") [.../casadi/core/oracle_function.cpp:377]\n",
      "CasADi - 2024-12-06 09:52:48 WARNING(\"solver:nlp_f failed: NaN detected for output f, at (row 0, col 0).\") [.../casadi/core/oracle_function.cpp:377]\n",
      "CasADi - 2024-12-06 09:52:48 WARNING(\"solver:nlp_f failed: NaN detected for output f, at (row 0, col 0).\") [.../casadi/core/oracle_function.cpp:377]\n",
      "CasADi - 2024-12-06 09:52:48 WARNING(\"solver:nlp_f failed: NaN detected for output f, at (row 0, col 0).\") [.../casadi/core/oracle_function.cpp:377]\n",
      "CasADi - 2024-12-06 09:52:48 WARNING(\"solver:nlp_f failed: NaN detected for output f, at (row 0, col 0).\") [.../casadi/core/oracle_function.cpp:377]\n",
      "CasADi - 2024-12-06 09:52:48 WARNING(\"solver:nlp_f failed: NaN detected for output f, at (row 0, col 0).\") [.../casadi/core/oracle_function.cpp:377]\n",
      "CasADi - 2024-12-06 09:52:48 WARNING(\"solver:nlp_f failed: NaN detected for output f, at (row 0, col 0).\") [.../casadi/core/oracle_function.cpp:377]\n"
     ]
    },
    {
     "name": "stdout",
     "output_type": "stream",
     "text": [
      "converged! Final Result:  [0.58715729 0.98830443]\n",
      "length 8\n",
      "eval num 11\n"
     ]
    },
    {
     "name": "stderr",
     "output_type": "stream",
     "text": [
      "CasADi - 2024-12-06 09:52:48 WARNING(\"solver:nlp_f failed: NaN detected for output f, at (row 0, col 0).\") [.../casadi/core/oracle_function.cpp:377]\n",
      "CasADi - 2024-12-06 09:52:48 WARNING(\"solver:nlp_f failed: NaN detected for output f, at (row 0, col 0).\") [.../casadi/core/oracle_function.cpp:377]\n",
      "CasADi - 2024-12-06 09:52:48 WARNING(\"solver:nlp_f failed: NaN detected for output f, at (row 0, col 0).\") [.../casadi/core/oracle_function.cpp:377]\n",
      "CasADi - 2024-12-06 09:52:48 WARNING(\"solver:nlp_f failed: NaN detected for output f, at (row 0, col 0).\") [.../casadi/core/oracle_function.cpp:377]\n",
      "CasADi - 2024-12-06 09:52:48 WARNING(\"solver:nlp_f failed: NaN detected for output f, at (row 0, col 0).\") [.../casadi/core/oracle_function.cpp:377]\n",
      "CasADi - 2024-12-06 09:52:48 WARNING(\"solver:nlp_f failed: NaN detected for output f, at (row 0, col 0).\") [.../casadi/core/oracle_function.cpp:377]\n",
      "CasADi - 2024-12-06 09:52:48 WARNING(\"solver:nlp_f failed: NaN detected for output f, at (row 0, col 0).\") [.../casadi/core/oracle_function.cpp:377]\n",
      "CasADi - 2024-12-06 09:52:48 WARNING(\"solver:nlp_f failed: NaN detected for output f, at (row 0, col 0).\") [.../casadi/core/oracle_function.cpp:377]\n",
      "CasADi - 2024-12-06 09:52:48 WARNING(\"solver:nlp_f failed: NaN detected for output f, at (row 0, col 0).\") [.../casadi/core/oracle_function.cpp:377]\n",
      "CasADi - 2024-12-06 09:52:48 WARNING(\"solver:nlp_f failed: NaN detected for output f, at (row 0, col 0).\") [.../casadi/core/oracle_function.cpp:377]\n",
      "CasADi - 2024-12-06 09:52:48 WARNING(\"solver:nlp_f failed: NaN detected for output f, at (row 0, col 0).\") [.../casadi/core/oracle_function.cpp:377]\n",
      "CasADi - 2024-12-06 09:52:48 WARNING(\"solver:nlp_f failed: NaN detected for output f, at (row 0, col 0).\") [.../casadi/core/oracle_function.cpp:377]\n",
      "CasADi - 2024-12-06 09:52:48 WARNING(\"solver:nlp_f failed: NaN detected for output f, at (row 0, col 0).\") [.../casadi/core/oracle_function.cpp:377]\n",
      "CasADi - 2024-12-06 09:52:48 WARNING(\"solver:nlp_f failed: NaN detected for output f, at (row 0, col 0).\") [.../casadi/core/oracle_function.cpp:377]\n",
      "CasADi - 2024-12-06 09:52:49 WARNING(\"solver:nlp_f failed: NaN detected for output f, at (row 0, col 0).\") [.../casadi/core/oracle_function.cpp:377]\n",
      "CasADi - 2024-12-06 09:52:49 WARNING(\"solver:nlp_f failed: NaN detected for output f, at (row 0, col 0).\") [.../casadi/core/oracle_function.cpp:377]\n",
      "CasADi - 2024-12-06 09:52:49 WARNING(\"solver:nlp_f failed: NaN detected for output f, at (row 0, col 0).\") [.../casadi/core/oracle_function.cpp:377]\n",
      "CasADi - 2024-12-06 09:52:49 WARNING(\"solver:nlp_f failed: NaN detected for output f, at (row 0, col 0).\") [.../casadi/core/oracle_function.cpp:377]\n",
      "CasADi - 2024-12-06 09:52:49 WARNING(\"solver:nlp_f failed: NaN detected for output f, at (row 0, col 0).\") [.../casadi/core/oracle_function.cpp:377]\n"
     ]
    },
    {
     "name": "stdout",
     "output_type": "stream",
     "text": [
      "converged! Final Result:  [0.58567404 0.98974092]\n",
      "length 12\n",
      "eval num 12\n"
     ]
    },
    {
     "name": "stderr",
     "output_type": "stream",
     "text": [
      "CasADi - 2024-12-06 09:52:49 WARNING(\"solver:nlp_f failed: NaN detected for output f, at (row 0, col 0).\") [.../casadi/core/oracle_function.cpp:377]\n",
      "CasADi - 2024-12-06 09:52:49 WARNING(\"solver:nlp_f failed: NaN detected for output f, at (row 0, col 0).\") [.../casadi/core/oracle_function.cpp:377]\n"
     ]
    },
    {
     "name": "stdout",
     "output_type": "stream",
     "text": [
      "converged! Final Result:  [0.60274508 0.99527713]\n",
      "length 14\n",
      "eval num 13\n"
     ]
    },
    {
     "name": "stderr",
     "output_type": "stream",
     "text": [
      "CasADi - 2024-12-06 09:52:49 WARNING(\"solver:nlp_f failed: NaN detected for output f, at (row 0, col 0).\") [.../casadi/core/oracle_function.cpp:377]\n",
      "CasADi - 2024-12-06 09:52:49 WARNING(\"solver:nlp_f failed: NaN detected for output f, at (row 0, col 0).\") [.../casadi/core/oracle_function.cpp:377]\n",
      "CasADi - 2024-12-06 09:52:49 WARNING(\"solver:nlp_f failed: NaN detected for output f, at (row 0, col 0).\") [.../casadi/core/oracle_function.cpp:377]\n",
      "CasADi - 2024-12-06 09:52:49 WARNING(\"solver:nlp_f failed: NaN detected for output f, at (row 0, col 0).\") [.../casadi/core/oracle_function.cpp:377]\n",
      "CasADi - 2024-12-06 09:52:49 WARNING(\"solver:nlp_f failed: NaN detected for output f, at (row 0, col 0).\") [.../casadi/core/oracle_function.cpp:377]\n",
      "CasADi - 2024-12-06 09:52:49 WARNING(\"solver:nlp_f failed: NaN detected for output f, at (row 0, col 0).\") [.../casadi/core/oracle_function.cpp:377]\n",
      "CasADi - 2024-12-06 09:52:50 WARNING(\"solver:nlp_f failed: NaN detected for output f, at (row 0, col 0).\") [.../casadi/core/oracle_function.cpp:377]\n",
      "CasADi - 2024-12-06 09:52:50 WARNING(\"solver:nlp_f failed: NaN detected for output f, at (row 0, col 0).\") [.../casadi/core/oracle_function.cpp:377]\n",
      "CasADi - 2024-12-06 09:52:50 WARNING(\"solver:nlp_f failed: NaN detected for output f, at (row 0, col 0).\") [.../casadi/core/oracle_function.cpp:377]\n",
      "CasADi - 2024-12-06 09:52:50 WARNING(\"solver:nlp_f failed: NaN detected for output f, at (row 0, col 0).\") [.../casadi/core/oracle_function.cpp:377]\n",
      "CasADi - 2024-12-06 09:52:50 WARNING(\"solver:nlp_f failed: NaN detected for output f, at (row 0, col 0).\") [.../casadi/core/oracle_function.cpp:377]\n"
     ]
    },
    {
     "name": "stdout",
     "output_type": "stream",
     "text": [
      "converged! Final Result:  [0.59569668 0.99485332]\n",
      "length 9\n",
      "eval num 14\n",
      "converged! Final Result:  [0.58686422 1.00351008]\n",
      "length 11\n",
      "eval num 15\n"
     ]
    },
    {
     "name": "stderr",
     "output_type": "stream",
     "text": [
      "CasADi - 2024-12-06 09:52:50 WARNING(\"solver:nlp_f failed: NaN detected for output f, at (row 0, col 0).\") [.../casadi/core/oracle_function.cpp:377]\n",
      "CasADi - 2024-12-06 09:52:50 WARNING(\"solver:nlp_f failed: NaN detected for output f, at (row 0, col 0).\") [.../casadi/core/oracle_function.cpp:377]\n",
      "CasADi - 2024-12-06 09:52:50 WARNING(\"solver:nlp_f failed: NaN detected for output f, at (row 0, col 0).\") [.../casadi/core/oracle_function.cpp:377]\n",
      "CasADi - 2024-12-06 09:52:50 WARNING(\"solver:nlp_f failed: NaN detected for output f, at (row 0, col 0).\") [.../casadi/core/oracle_function.cpp:377]\n",
      "CasADi - 2024-12-06 09:52:50 WARNING(\"solver:nlp_f failed: NaN detected for output f, at (row 0, col 0).\") [.../casadi/core/oracle_function.cpp:377]\n",
      "CasADi - 2024-12-06 09:52:50 WARNING(\"solver:nlp_f failed: NaN detected for output f, at (row 0, col 0).\") [.../casadi/core/oracle_function.cpp:377]\n",
      "CasADi - 2024-12-06 09:52:50 WARNING(\"solver:nlp_f failed: NaN detected for output f, at (row 0, col 0).\") [.../casadi/core/oracle_function.cpp:377]\n",
      "CasADi - 2024-12-06 09:52:50 WARNING(\"solver:nlp_f failed: NaN detected for output f, at (row 0, col 0).\") [.../casadi/core/oracle_function.cpp:377]\n",
      "CasADi - 2024-12-06 09:52:50 WARNING(\"solver:nlp_f failed: NaN detected for output f, at (row 0, col 0).\") [.../casadi/core/oracle_function.cpp:377]\n",
      "CasADi - 2024-12-06 09:52:50 WARNING(\"solver:nlp_f failed: NaN detected for output f, at (row 0, col 0).\") [.../casadi/core/oracle_function.cpp:377]\n",
      "CasADi - 2024-12-06 09:52:50 WARNING(\"solver:nlp_f failed: NaN detected for output f, at (row 0, col 0).\") [.../casadi/core/oracle_function.cpp:377]\n",
      "CasADi - 2024-12-06 09:52:50 WARNING(\"solver:nlp_f failed: NaN detected for output f, at (row 0, col 0).\") [.../casadi/core/oracle_function.cpp:377]\n",
      "CasADi - 2024-12-06 09:52:50 WARNING(\"solver:nlp_f failed: NaN detected for output f, at (row 0, col 0).\") [.../casadi/core/oracle_function.cpp:377]\n",
      "CasADi - 2024-12-06 09:52:50 WARNING(\"solver:nlp_f failed: NaN detected for output f, at (row 0, col 0).\") [.../casadi/core/oracle_function.cpp:377]\n",
      "CasADi - 2024-12-06 09:52:50 WARNING(\"solver:nlp_f failed: NaN detected for output f, at (row 0, col 0).\") [.../casadi/core/oracle_function.cpp:377]\n",
      "CasADi - 2024-12-06 09:52:50 WARNING(\"solver:nlp_f failed: NaN detected for output f, at (row 0, col 0).\") [.../casadi/core/oracle_function.cpp:377]\n",
      "CasADi - 2024-12-06 09:52:50 WARNING(\"solver:nlp_f failed: NaN detected for output f, at (row 0, col 0).\") [.../casadi/core/oracle_function.cpp:377]\n",
      "CasADi - 2024-12-06 09:52:50 WARNING(\"solver:nlp_f failed: NaN detected for output f, at (row 0, col 0).\") [.../casadi/core/oracle_function.cpp:377]\n",
      "CasADi - 2024-12-06 09:52:50 WARNING(\"solver:nlp_f failed: NaN detected for output f, at (row 0, col 0).\") [.../casadi/core/oracle_function.cpp:377]\n",
      "CasADi - 2024-12-06 09:52:50 WARNING(\"solver:nlp_f failed: NaN detected for output f, at (row 0, col 0).\") [.../casadi/core/oracle_function.cpp:377]\n",
      "CasADi - 2024-12-06 09:52:50 WARNING(\"solver:nlp_f failed: NaN detected for output f, at (row 0, col 0).\") [.../casadi/core/oracle_function.cpp:377]\n",
      "CasADi - 2024-12-06 09:52:50 WARNING(\"solver:nlp_f failed: NaN detected for output f, at (row 0, col 0).\") [.../casadi/core/oracle_function.cpp:377]\n",
      "CasADi - 2024-12-06 09:52:50 WARNING(\"solver:nlp_f failed: NaN detected for output f, at (row 0, col 0).\") [.../casadi/core/oracle_function.cpp:377]\n",
      "CasADi - 2024-12-06 09:52:50 WARNING(\"solver:nlp_f failed: NaN detected for output f, at (row 0, col 0).\") [.../casadi/core/oracle_function.cpp:377]\n",
      "CasADi - 2024-12-06 09:52:50 WARNING(\"solver:nlp_f failed: NaN detected for output f, at (row 0, col 0).\") [.../casadi/core/oracle_function.cpp:377]\n",
      "CasADi - 2024-12-06 09:52:50 WARNING(\"solver:nlp_f failed: NaN detected for output f, at (row 0, col 0).\") [.../casadi/core/oracle_function.cpp:377]\n"
     ]
    },
    {
     "name": "stdout",
     "output_type": "stream",
     "text": [
      "error\n",
      "eval num 15\n"
     ]
    },
    {
     "name": "stderr",
     "output_type": "stream",
     "text": [
      "CasADi - 2024-12-06 09:52:51 WARNING(\"solver:nlp_f failed: NaN detected for output f, at (row 0, col 0).\") [.../casadi/core/oracle_function.cpp:377]\n",
      "CasADi - 2024-12-06 09:52:51 WARNING(\"solver:nlp_f failed: NaN detected for output f, at (row 0, col 0).\") [.../casadi/core/oracle_function.cpp:377]\n",
      "CasADi - 2024-12-06 09:52:51 WARNING(\"solver:nlp_f failed: NaN detected for output f, at (row 0, col 0).\") [.../casadi/core/oracle_function.cpp:377]\n",
      "CasADi - 2024-12-06 09:52:51 WARNING(\"solver:nlp_f failed: NaN detected for output f, at (row 0, col 0).\") [.../casadi/core/oracle_function.cpp:377]\n",
      "CasADi - 2024-12-06 09:52:51 WARNING(\"solver:nlp_f failed: NaN detected for output f, at (row 0, col 0).\") [.../casadi/core/oracle_function.cpp:377]\n",
      "CasADi - 2024-12-06 09:52:51 WARNING(\"solver:nlp_f failed: NaN detected for output f, at (row 0, col 0).\") [.../casadi/core/oracle_function.cpp:377]\n",
      "CasADi - 2024-12-06 09:52:51 WARNING(\"solver:nlp_f failed: NaN detected for output f, at (row 0, col 0).\") [.../casadi/core/oracle_function.cpp:377]\n",
      "CasADi - 2024-12-06 09:52:51 WARNING(\"solver:nlp_f failed: NaN detected for output f, at (row 0, col 0).\") [.../casadi/core/oracle_function.cpp:377]\n",
      "CasADi - 2024-12-06 09:52:51 WARNING(\"solver:nlp_f failed: NaN detected for output f, at (row 0, col 0).\") [.../casadi/core/oracle_function.cpp:377]\n",
      "CasADi - 2024-12-06 09:52:51 WARNING(\"solver:nlp_f failed: NaN detected for output f, at (row 0, col 0).\") [.../casadi/core/oracle_function.cpp:377]\n",
      "CasADi - 2024-12-06 09:52:51 WARNING(\"solver:nlp_f failed: NaN detected for output f, at (row 0, col 0).\") [.../casadi/core/oracle_function.cpp:377]\n",
      "CasADi - 2024-12-06 09:52:51 WARNING(\"solver:nlp_f failed: NaN detected for output f, at (row 0, col 0).\") [.../casadi/core/oracle_function.cpp:377]\n",
      "CasADi - 2024-12-06 09:52:51 WARNING(\"solver:nlp_f failed: NaN detected for output f, at (row 0, col 0).\") [.../casadi/core/oracle_function.cpp:377]\n",
      "CasADi - 2024-12-06 09:52:51 WARNING(\"solver:nlp_f failed: NaN detected for output f, at (row 0, col 0).\") [.../casadi/core/oracle_function.cpp:377]\n"
     ]
    },
    {
     "name": "stdout",
     "output_type": "stream",
     "text": [
      "converged! Final Result:  [0.5986065  0.99161684]\n",
      "length 13\n",
      "eval num 16\n",
      "error\n",
      "eval num 16\n"
     ]
    },
    {
     "name": "stderr",
     "output_type": "stream",
     "text": [
      "CasADi - 2024-12-06 09:52:52 WARNING(\"solver:nlp_f failed: NaN detected for output f, at (row 0, col 0).\") [.../casadi/core/oracle_function.cpp:377]\n",
      "CasADi - 2024-12-06 09:52:52 WARNING(\"solver:nlp_f failed: NaN detected for output f, at (row 0, col 0).\") [.../casadi/core/oracle_function.cpp:377]\n",
      "CasADi - 2024-12-06 09:52:52 WARNING(\"solver:nlp_f failed: NaN detected for output f, at (row 0, col 0).\") [.../casadi/core/oracle_function.cpp:377]\n",
      "CasADi - 2024-12-06 09:52:52 WARNING(\"solver:nlp_f failed: NaN detected for output f, at (row 0, col 0).\") [.../casadi/core/oracle_function.cpp:377]\n",
      "CasADi - 2024-12-06 09:52:52 WARNING(\"solver:nlp_f failed: NaN detected for output f, at (row 0, col 0).\") [.../casadi/core/oracle_function.cpp:377]\n",
      "CasADi - 2024-12-06 09:52:52 WARNING(\"solver:nlp_f failed: NaN detected for output f, at (row 0, col 0).\") [.../casadi/core/oracle_function.cpp:377]\n",
      "CasADi - 2024-12-06 09:52:52 WARNING(\"solver:nlp_f failed: NaN detected for output f, at (row 0, col 0).\") [.../casadi/core/oracle_function.cpp:377]\n",
      "CasADi - 2024-12-06 09:52:52 WARNING(\"solver:nlp_f failed: NaN detected for output f, at (row 0, col 0).\") [.../casadi/core/oracle_function.cpp:377]\n",
      "CasADi - 2024-12-06 09:52:52 WARNING(\"solver:nlp_f failed: NaN detected for output f, at (row 0, col 0).\") [.../casadi/core/oracle_function.cpp:377]\n",
      "CasADi - 2024-12-06 09:52:52 WARNING(\"solver:nlp_f failed: NaN detected for output f, at (row 0, col 0).\") [.../casadi/core/oracle_function.cpp:377]\n",
      "CasADi - 2024-12-06 09:52:52 WARNING(\"solver:nlp_f failed: NaN detected for output f, at (row 0, col 0).\") [.../casadi/core/oracle_function.cpp:377]\n",
      "CasADi - 2024-12-06 09:52:52 WARNING(\"solver:nlp_f failed: NaN detected for output f, at (row 0, col 0).\") [.../casadi/core/oracle_function.cpp:377]\n",
      "CasADi - 2024-12-06 09:52:52 WARNING(\"solver:nlp_f failed: NaN detected for output f, at (row 0, col 0).\") [.../casadi/core/oracle_function.cpp:377]\n"
     ]
    },
    {
     "name": "stdout",
     "output_type": "stream",
     "text": [
      "converged! Final Result:  [0.58339746 0.99876694]\n",
      "length 10\n",
      "eval num 17\n",
      "converged! Final Result:  [0.60154399 0.98650566]\n",
      "length 9\n",
      "eval num 18\n"
     ]
    },
    {
     "name": "stderr",
     "output_type": "stream",
     "text": [
      "CasADi - 2024-12-06 09:52:53 WARNING(\"solver:nlp_f failed: NaN detected for output f, at (row 0, col 0).\") [.../casadi/core/oracle_function.cpp:377]\n",
      "CasADi - 2024-12-06 09:52:53 WARNING(\"solver:nlp_f failed: NaN detected for output f, at (row 0, col 0).\") [.../casadi/core/oracle_function.cpp:377]\n",
      "CasADi - 2024-12-06 09:52:53 WARNING(\"solver:nlp_f failed: NaN detected for output f, at (row 0, col 0).\") [.../casadi/core/oracle_function.cpp:377]\n",
      "CasADi - 2024-12-06 09:52:53 WARNING(\"solver:nlp_f failed: NaN detected for output f, at (row 0, col 0).\") [.../casadi/core/oracle_function.cpp:377]\n",
      "CasADi - 2024-12-06 09:52:53 WARNING(\"solver:nlp_f failed: NaN detected for output f, at (row 0, col 0).\") [.../casadi/core/oracle_function.cpp:377]\n",
      "CasADi - 2024-12-06 09:52:53 WARNING(\"solver:nlp_f failed: NaN detected for output f, at (row 0, col 0).\") [.../casadi/core/oracle_function.cpp:377]\n",
      "CasADi - 2024-12-06 09:52:53 WARNING(\"solver:nlp_f failed: NaN detected for output f, at (row 0, col 0).\") [.../casadi/core/oracle_function.cpp:377]\n"
     ]
    },
    {
     "name": "stdout",
     "output_type": "stream",
     "text": [
      "converged! Final Result:  [0.58799567 1.00742821]\n",
      "length 10\n",
      "eval num 19\n"
     ]
    },
    {
     "name": "stderr",
     "output_type": "stream",
     "text": [
      "CasADi - 2024-12-06 09:52:53 WARNING(\"solver:nlp_f failed: NaN detected for output f, at (row 0, col 0).\") [.../casadi/core/oracle_function.cpp:377]\n",
      "CasADi - 2024-12-06 09:52:53 WARNING(\"solver:nlp_f failed: NaN detected for output f, at (row 0, col 0).\") [.../casadi/core/oracle_function.cpp:377]\n",
      "CasADi - 2024-12-06 09:52:53 WARNING(\"solver:nlp_f failed: NaN detected for output f, at (row 0, col 0).\") [.../casadi/core/oracle_function.cpp:377]\n"
     ]
    },
    {
     "name": "stdout",
     "output_type": "stream",
     "text": [
      "converged! Final Result:  [0.60401166 0.99228339]\n",
      "length 17\n",
      "eval num 0\n"
     ]
    },
    {
     "name": "stderr",
     "output_type": "stream",
     "text": [
      "CasADi - 2024-12-06 09:52:54 WARNING(\"solver:nlp_f failed: NaN detected for output f, at (row 0, col 0).\") [.../casadi/core/oracle_function.cpp:377]\n",
      "CasADi - 2024-12-06 09:52:54 WARNING(\"solver:nlp_f failed: NaN detected for output f, at (row 0, col 0).\") [.../casadi/core/oracle_function.cpp:377]\n",
      "CasADi - 2024-12-06 09:52:54 WARNING(\"solver:nlp_f failed: NaN detected for output f, at (row 0, col 0).\") [.../casadi/core/oracle_function.cpp:377]\n",
      "CasADi - 2024-12-06 09:52:54 WARNING(\"solver:nlp_f failed: NaN detected for output f, at (row 0, col 0).\") [.../casadi/core/oracle_function.cpp:377]\n",
      "CasADi - 2024-12-06 09:52:54 WARNING(\"solver:nlp_f failed: NaN detected for output f, at (row 0, col 0).\") [.../casadi/core/oracle_function.cpp:377]\n"
     ]
    },
    {
     "name": "stdout",
     "output_type": "stream",
     "text": [
      "converged! Final Result:  [0.58515015 1.01282003]\n",
      "length 16\n",
      "eval num 1\n",
      "error\n",
      "eval num 1\n"
     ]
    },
    {
     "name": "stderr",
     "output_type": "stream",
     "text": [
      "CasADi - 2024-12-06 09:52:55 WARNING(\"solver:nlp_f failed: NaN detected for output f, at (row 0, col 0).\") [.../casadi/core/oracle_function.cpp:377]\n",
      "CasADi - 2024-12-06 09:52:55 WARNING(\"solver:nlp_f failed: NaN detected for output f, at (row 0, col 0).\") [.../casadi/core/oracle_function.cpp:377]\n",
      "CasADi - 2024-12-06 09:52:55 WARNING(\"solver:nlp_f failed: NaN detected for output f, at (row 0, col 0).\") [.../casadi/core/oracle_function.cpp:377]\n",
      "CasADi - 2024-12-06 09:52:55 WARNING(\"solver:nlp_f failed: NaN detected for output f, at (row 0, col 0).\") [.../casadi/core/oracle_function.cpp:377]\n",
      "CasADi - 2024-12-06 09:52:55 WARNING(\"solver:nlp_f failed: NaN detected for output f, at (row 0, col 0).\") [.../casadi/core/oracle_function.cpp:377]\n",
      "CasADi - 2024-12-06 09:52:55 WARNING(\"solver:nlp_f failed: NaN detected for output f, at (row 0, col 0).\") [.../casadi/core/oracle_function.cpp:377]\n",
      "CasADi - 2024-12-06 09:52:55 WARNING(\"solver:nlp_f failed: NaN detected for output f, at (row 0, col 0).\") [.../casadi/core/oracle_function.cpp:377]\n",
      "CasADi - 2024-12-06 09:52:55 WARNING(\"solver:nlp_f failed: NaN detected for output f, at (row 0, col 0).\") [.../casadi/core/oracle_function.cpp:377]\n",
      "CasADi - 2024-12-06 09:52:55 WARNING(\"solver:nlp_f failed: NaN detected for output f, at (row 0, col 0).\") [.../casadi/core/oracle_function.cpp:377]\n",
      "CasADi - 2024-12-06 09:52:55 WARNING(\"solver:nlp_f failed: NaN detected for output f, at (row 0, col 0).\") [.../casadi/core/oracle_function.cpp:377]\n"
     ]
    },
    {
     "name": "stdout",
     "output_type": "stream",
     "text": [
      "converged! Final Result:  [0.60615543 1.00071929]\n",
      "length 11\n",
      "eval num 2\n",
      "converged! Final Result:  [0.60223392 0.99862253]\n",
      "length 12\n",
      "eval num 3\n",
      "converged! Final Result:  [0.59881673 1.00460299]\n",
      "length 13\n",
      "eval num 4\n",
      "converged! Final Result:  [0.59808858 0.9988049 ]\n",
      "length 15\n",
      "eval num 5\n"
     ]
    },
    {
     "name": "stderr",
     "output_type": "stream",
     "text": [
      "CasADi - 2024-12-06 09:52:57 WARNING(\"solver:nlp_f failed: NaN detected for output f, at (row 0, col 0).\") [.../casadi/core/oracle_function.cpp:377]\n",
      "CasADi - 2024-12-06 09:52:57 WARNING(\"solver:nlp_f failed: NaN detected for output f, at (row 0, col 0).\") [.../casadi/core/oracle_function.cpp:377]\n"
     ]
    },
    {
     "name": "stdout",
     "output_type": "stream",
     "text": [
      "converged! Final Result:  [0.58278609 1.00400167]\n",
      "length 11\n",
      "eval num 6\n"
     ]
    },
    {
     "name": "stderr",
     "output_type": "stream",
     "text": [
      "CasADi - 2024-12-06 09:52:58 WARNING(\"solver:nlp_f failed: NaN detected for output f, at (row 0, col 0).\") [.../casadi/core/oracle_function.cpp:377]\n",
      "CasADi - 2024-12-06 09:52:58 WARNING(\"solver:nlp_f failed: NaN detected for output f, at (row 0, col 0).\") [.../casadi/core/oracle_function.cpp:377]\n",
      "CasADi - 2024-12-06 09:52:58 WARNING(\"solver:nlp_f failed: NaN detected for output f, at (row 0, col 0).\") [.../casadi/core/oracle_function.cpp:377]\n",
      "CasADi - 2024-12-06 09:52:58 WARNING(\"solver:nlp_f failed: NaN detected for output f, at (row 0, col 0).\") [.../casadi/core/oracle_function.cpp:377]\n",
      "CasADi - 2024-12-06 09:52:58 WARNING(\"solver:nlp_f failed: NaN detected for output f, at (row 0, col 0).\") [.../casadi/core/oracle_function.cpp:377]\n",
      "CasADi - 2024-12-06 09:52:58 WARNING(\"solver:nlp_f failed: NaN detected for output f, at (row 0, col 0).\") [.../casadi/core/oracle_function.cpp:377]\n"
     ]
    },
    {
     "name": "stdout",
     "output_type": "stream",
     "text": [
      "converged! Final Result:  [0.60662632 0.99552329]\n",
      "length 16\n",
      "eval num 7\n"
     ]
    },
    {
     "name": "stderr",
     "output_type": "stream",
     "text": [
      "CasADi - 2024-12-06 09:52:58 WARNING(\"solver:nlp_f failed: NaN detected for output f, at (row 0, col 0).\") [.../casadi/core/oracle_function.cpp:377]\n",
      "CasADi - 2024-12-06 09:52:58 WARNING(\"solver:nlp_f failed: NaN detected for output f, at (row 0, col 0).\") [.../casadi/core/oracle_function.cpp:377]\n",
      "CasADi - 2024-12-06 09:52:58 WARNING(\"solver:nlp_f failed: NaN detected for output f, at (row 0, col 0).\") [.../casadi/core/oracle_function.cpp:377]\n",
      "CasADi - 2024-12-06 09:52:58 WARNING(\"solver:nlp_f failed: NaN detected for output f, at (row 0, col 0).\") [.../casadi/core/oracle_function.cpp:377]\n",
      "CasADi - 2024-12-06 09:52:58 WARNING(\"solver:nlp_f failed: NaN detected for output f, at (row 0, col 0).\") [.../casadi/core/oracle_function.cpp:377]\n",
      "CasADi - 2024-12-06 09:52:58 WARNING(\"solver:nlp_f failed: NaN detected for output f, at (row 0, col 0).\") [.../casadi/core/oracle_function.cpp:377]\n",
      "CasADi - 2024-12-06 09:52:58 WARNING(\"solver:nlp_f failed: NaN detected for output f, at (row 0, col 0).\") [.../casadi/core/oracle_function.cpp:377]\n",
      "CasADi - 2024-12-06 09:52:58 WARNING(\"solver:nlp_f failed: NaN detected for output f, at (row 0, col 0).\") [.../casadi/core/oracle_function.cpp:377]\n"
     ]
    },
    {
     "name": "stdout",
     "output_type": "stream",
     "text": [
      "converged! Final Result:  [0.60355703 1.00031877]\n",
      "length 14\n",
      "eval num 8\n"
     ]
    },
    {
     "name": "stderr",
     "output_type": "stream",
     "text": [
      "CasADi - 2024-12-06 09:52:59 WARNING(\"solver:nlp_f failed: NaN detected for output f, at (row 0, col 0).\") [.../casadi/core/oracle_function.cpp:377]\n",
      "CasADi - 2024-12-06 09:52:59 WARNING(\"solver:nlp_f failed: NaN detected for output f, at (row 0, col 0).\") [.../casadi/core/oracle_function.cpp:377]\n",
      "CasADi - 2024-12-06 09:52:59 WARNING(\"solver:nlp_f failed: NaN detected for output f, at (row 0, col 0).\") [.../casadi/core/oracle_function.cpp:377]\n",
      "CasADi - 2024-12-06 09:52:59 WARNING(\"solver:nlp_f failed: NaN detected for output f, at (row 0, col 0).\") [.../casadi/core/oracle_function.cpp:377]\n",
      "CasADi - 2024-12-06 09:52:59 WARNING(\"solver:nlp_f failed: NaN detected for output f, at (row 0, col 0).\") [.../casadi/core/oracle_function.cpp:377]\n"
     ]
    },
    {
     "name": "stdout",
     "output_type": "stream",
     "text": [
      "converged! Final Result:  [0.59127602 1.00501802]\n",
      "length 14\n",
      "eval num 9\n"
     ]
    },
    {
     "name": "stderr",
     "output_type": "stream",
     "text": [
      "CasADi - 2024-12-06 09:52:59 WARNING(\"solver:nlp_f failed: NaN detected for output f, at (row 0, col 0).\") [.../casadi/core/oracle_function.cpp:377]\n"
     ]
    },
    {
     "name": "stdout",
     "output_type": "stream",
     "text": [
      "error\n",
      "eval num 9\n"
     ]
    },
    {
     "name": "stderr",
     "output_type": "stream",
     "text": [
      "CasADi - 2024-12-06 09:53:00 WARNING(\"solver:nlp_f failed: NaN detected for output f, at (row 0, col 0).\") [.../casadi/core/oracle_function.cpp:377]\n",
      "CasADi - 2024-12-06 09:53:00 WARNING(\"solver:nlp_f failed: NaN detected for output f, at (row 0, col 0).\") [.../casadi/core/oracle_function.cpp:377]\n",
      "CasADi - 2024-12-06 09:53:00 WARNING(\"solver:nlp_f failed: NaN detected for output f, at (row 0, col 0).\") [.../casadi/core/oracle_function.cpp:377]\n",
      "CasADi - 2024-12-06 09:53:00 WARNING(\"solver:nlp_f failed: NaN detected for output f, at (row 0, col 0).\") [.../casadi/core/oracle_function.cpp:377]\n",
      "CasADi - 2024-12-06 09:53:00 WARNING(\"solver:nlp_f failed: NaN detected for output f, at (row 0, col 0).\") [.../casadi/core/oracle_function.cpp:377]\n",
      "CasADi - 2024-12-06 09:53:00 WARNING(\"solver:nlp_f failed: NaN detected for output f, at (row 0, col 0).\") [.../casadi/core/oracle_function.cpp:377]\n"
     ]
    },
    {
     "name": "stdout",
     "output_type": "stream",
     "text": [
      "converged! Final Result:  [0.60590332 0.98709594]\n",
      "length 15\n",
      "eval num 10\n",
      "converged! Final Result:  [0.59391899 0.99963502]\n",
      "length 13\n",
      "eval num 11\n"
     ]
    },
    {
     "name": "stderr",
     "output_type": "stream",
     "text": [
      "CasADi - 2024-12-06 09:53:01 WARNING(\"solver:nlp_f failed: NaN detected for output f, at (row 0, col 0).\") [.../casadi/core/oracle_function.cpp:377]\n",
      "CasADi - 2024-12-06 09:53:01 WARNING(\"solver:nlp_f failed: NaN detected for output f, at (row 0, col 0).\") [.../casadi/core/oracle_function.cpp:377]\n",
      "CasADi - 2024-12-06 09:53:01 WARNING(\"solver:nlp_f failed: NaN detected for output f, at (row 0, col 0).\") [.../casadi/core/oracle_function.cpp:377]\n",
      "CasADi - 2024-12-06 09:53:01 WARNING(\"solver:nlp_f failed: NaN detected for output f, at (row 0, col 0).\") [.../casadi/core/oracle_function.cpp:377]\n",
      "CasADi - 2024-12-06 09:53:01 WARNING(\"solver:nlp_f failed: NaN detected for output f, at (row 0, col 0).\") [.../casadi/core/oracle_function.cpp:377]\n",
      "CasADi - 2024-12-06 09:53:01 WARNING(\"solver:nlp_f failed: NaN detected for output f, at (row 0, col 0).\") [.../casadi/core/oracle_function.cpp:377]\n",
      "CasADi - 2024-12-06 09:53:01 WARNING(\"solver:nlp_f failed: NaN detected for output f, at (row 0, col 0).\") [.../casadi/core/oracle_function.cpp:377]\n",
      "CasADi - 2024-12-06 09:53:01 WARNING(\"solver:nlp_f failed: NaN detected for output f, at (row 0, col 0).\") [.../casadi/core/oracle_function.cpp:377]\n",
      "CasADi - 2024-12-06 09:53:01 WARNING(\"solver:nlp_f failed: NaN detected for output f, at (row 0, col 0).\") [.../casadi/core/oracle_function.cpp:377]\n",
      "CasADi - 2024-12-06 09:53:01 WARNING(\"solver:nlp_f failed: NaN detected for output f, at (row 0, col 0).\") [.../casadi/core/oracle_function.cpp:377]\n",
      "CasADi - 2024-12-06 09:53:01 WARNING(\"solver:nlp_f failed: NaN detected for output f, at (row 0, col 0).\") [.../casadi/core/oracle_function.cpp:377]\n",
      "CasADi - 2024-12-06 09:53:01 WARNING(\"solver:nlp_f failed: NaN detected for output f, at (row 0, col 0).\") [.../casadi/core/oracle_function.cpp:377]\n",
      "CasADi - 2024-12-06 09:53:01 WARNING(\"solver:nlp_f failed: NaN detected for output f, at (row 0, col 0).\") [.../casadi/core/oracle_function.cpp:377]\n",
      "CasADi - 2024-12-06 09:53:01 WARNING(\"solver:nlp_f failed: NaN detected for output f, at (row 0, col 0).\") [.../casadi/core/oracle_function.cpp:377]\n",
      "CasADi - 2024-12-06 09:53:01 WARNING(\"solver:nlp_f failed: NaN detected for output f, at (row 0, col 0).\") [.../casadi/core/oracle_function.cpp:377]\n",
      "CasADi - 2024-12-06 09:53:01 WARNING(\"solver:nlp_f failed: NaN detected for output f, at (row 0, col 0).\") [.../casadi/core/oracle_function.cpp:377]\n",
      "CasADi - 2024-12-06 09:53:01 WARNING(\"solver:nlp_f failed: NaN detected for output f, at (row 0, col 0).\") [.../casadi/core/oracle_function.cpp:377]\n",
      "CasADi - 2024-12-06 09:53:01 WARNING(\"solver:nlp_f failed: NaN detected for output f, at (row 0, col 0).\") [.../casadi/core/oracle_function.cpp:377]\n"
     ]
    },
    {
     "name": "stdout",
     "output_type": "stream",
     "text": [
      "converged! Final Result:  [0.58810604 0.99961934]\n",
      "length 11\n",
      "eval num 12\n"
     ]
    },
    {
     "name": "stderr",
     "output_type": "stream",
     "text": [
      "CasADi - 2024-12-06 09:53:01 WARNING(\"solver:nlp_f failed: NaN detected for output f, at (row 0, col 0).\") [.../casadi/core/oracle_function.cpp:377]\n",
      "CasADi - 2024-12-06 09:53:01 WARNING(\"solver:nlp_f failed: NaN detected for output f, at (row 0, col 0).\") [.../casadi/core/oracle_function.cpp:377]\n",
      "CasADi - 2024-12-06 09:53:01 WARNING(\"solver:nlp_f failed: NaN detected for output f, at (row 0, col 0).\") [.../casadi/core/oracle_function.cpp:377]\n",
      "CasADi - 2024-12-06 09:53:02 WARNING(\"solver:nlp_f failed: NaN detected for output f, at (row 0, col 0).\") [.../casadi/core/oracle_function.cpp:377]\n",
      "CasADi - 2024-12-06 09:53:02 WARNING(\"solver:nlp_f failed: NaN detected for output f, at (row 0, col 0).\") [.../casadi/core/oracle_function.cpp:377]\n",
      "CasADi - 2024-12-06 09:53:02 WARNING(\"solver:nlp_f failed: NaN detected for output f, at (row 0, col 0).\") [.../casadi/core/oracle_function.cpp:377]\n",
      "CasADi - 2024-12-06 09:53:02 WARNING(\"solver:nlp_f failed: NaN detected for output f, at (row 0, col 0).\") [.../casadi/core/oracle_function.cpp:377]\n",
      "CasADi - 2024-12-06 09:53:02 WARNING(\"solver:nlp_f failed: NaN detected for output f, at (row 0, col 0).\") [.../casadi/core/oracle_function.cpp:377]\n",
      "CasADi - 2024-12-06 09:53:02 WARNING(\"solver:nlp_f failed: NaN detected for output f, at (row 0, col 0).\") [.../casadi/core/oracle_function.cpp:377]\n",
      "CasADi - 2024-12-06 09:53:02 WARNING(\"solver:nlp_f failed: NaN detected for output f, at (row 0, col 0).\") [.../casadi/core/oracle_function.cpp:377]\n",
      "CasADi - 2024-12-06 09:53:02 WARNING(\"solver:nlp_f failed: NaN detected for output f, at (row 0, col 0).\") [.../casadi/core/oracle_function.cpp:377]\n"
     ]
    },
    {
     "name": "stdout",
     "output_type": "stream",
     "text": [
      "converged! Final Result:  [0.59987341 1.0022881 ]\n",
      "length 13\n",
      "eval num 13\n"
     ]
    },
    {
     "name": "stderr",
     "output_type": "stream",
     "text": [
      "CasADi - 2024-12-06 09:53:02 WARNING(\"solver:nlp_f failed: NaN detected for output f, at (row 0, col 0).\") [.../casadi/core/oracle_function.cpp:377]\n",
      "CasADi - 2024-12-06 09:53:02 WARNING(\"solver:nlp_f failed: NaN detected for output f, at (row 0, col 0).\") [.../casadi/core/oracle_function.cpp:377]\n",
      "CasADi - 2024-12-06 09:53:02 WARNING(\"solver:nlp_f failed: NaN detected for output f, at (row 0, col 0).\") [.../casadi/core/oracle_function.cpp:377]\n",
      "CasADi - 2024-12-06 09:53:02 WARNING(\"solver:nlp_f failed: NaN detected for output f, at (row 0, col 0).\") [.../casadi/core/oracle_function.cpp:377]\n",
      "CasADi - 2024-12-06 09:53:02 WARNING(\"solver:nlp_f failed: NaN detected for output f, at (row 0, col 0).\") [.../casadi/core/oracle_function.cpp:377]\n",
      "CasADi - 2024-12-06 09:53:02 WARNING(\"solver:nlp_f failed: NaN detected for output f, at (row 0, col 0).\") [.../casadi/core/oracle_function.cpp:377]\n",
      "CasADi - 2024-12-06 09:53:02 WARNING(\"solver:nlp_f failed: NaN detected for output f, at (row 0, col 0).\") [.../casadi/core/oracle_function.cpp:377]\n",
      "CasADi - 2024-12-06 09:53:03 WARNING(\"solver:nlp_f failed: NaN detected for output f, at (row 0, col 0).\") [.../casadi/core/oracle_function.cpp:377]\n",
      "CasADi - 2024-12-06 09:53:03 WARNING(\"solver:nlp_f failed: NaN detected for output f, at (row 0, col 0).\") [.../casadi/core/oracle_function.cpp:377]\n",
      "CasADi - 2024-12-06 09:53:03 WARNING(\"solver:nlp_f failed: NaN detected for output f, at (row 0, col 0).\") [.../casadi/core/oracle_function.cpp:377]\n",
      "CasADi - 2024-12-06 09:53:03 WARNING(\"solver:nlp_f failed: NaN detected for output f, at (row 0, col 0).\") [.../casadi/core/oracle_function.cpp:377]\n"
     ]
    },
    {
     "name": "stdout",
     "output_type": "stream",
     "text": [
      "converged! Final Result:  [0.5974931  0.99987641]\n",
      "length 16\n",
      "eval num 14\n",
      "converged! Final Result:  [0.59868976 0.99929174]\n",
      "length 13\n",
      "eval num 15\n"
     ]
    },
    {
     "name": "stderr",
     "output_type": "stream",
     "text": [
      "CasADi - 2024-12-06 09:53:03 WARNING(\"solver:nlp_f failed: NaN detected for output f, at (row 0, col 0).\") [.../casadi/core/oracle_function.cpp:377]\n",
      "CasADi - 2024-12-06 09:53:03 WARNING(\"solver:nlp_f failed: NaN detected for output f, at (row 0, col 0).\") [.../casadi/core/oracle_function.cpp:377]\n",
      "CasADi - 2024-12-06 09:53:03 WARNING(\"solver:nlp_f failed: NaN detected for output f, at (row 0, col 0).\") [.../casadi/core/oracle_function.cpp:377]\n",
      "CasADi - 2024-12-06 09:53:03 WARNING(\"solver:nlp_f failed: NaN detected for output f, at (row 0, col 0).\") [.../casadi/core/oracle_function.cpp:377]\n",
      "CasADi - 2024-12-06 09:53:03 WARNING(\"solver:nlp_f failed: NaN detected for output f, at (row 0, col 0).\") [.../casadi/core/oracle_function.cpp:377]\n",
      "CasADi - 2024-12-06 09:53:03 WARNING(\"solver:nlp_f failed: NaN detected for output f, at (row 0, col 0).\") [.../casadi/core/oracle_function.cpp:377]\n",
      "CasADi - 2024-12-06 09:53:03 WARNING(\"solver:nlp_f failed: NaN detected for output f, at (row 0, col 0).\") [.../casadi/core/oracle_function.cpp:377]\n",
      "CasADi - 2024-12-06 09:53:03 WARNING(\"solver:nlp_f failed: NaN detected for output f, at (row 0, col 0).\") [.../casadi/core/oracle_function.cpp:377]\n",
      "CasADi - 2024-12-06 09:53:03 WARNING(\"solver:nlp_f failed: NaN detected for output f, at (row 0, col 0).\") [.../casadi/core/oracle_function.cpp:377]\n",
      "CasADi - 2024-12-06 09:53:03 WARNING(\"solver:nlp_f failed: NaN detected for output f, at (row 0, col 0).\") [.../casadi/core/oracle_function.cpp:377]\n",
      "CasADi - 2024-12-06 09:53:03 WARNING(\"solver:nlp_f failed: NaN detected for output f, at (row 0, col 0).\") [.../casadi/core/oracle_function.cpp:377]\n",
      "CasADi - 2024-12-06 09:53:04 WARNING(\"solver:nlp_f failed: NaN detected for output f, at (row 0, col 0).\") [.../casadi/core/oracle_function.cpp:377]\n"
     ]
    },
    {
     "name": "stdout",
     "output_type": "stream",
     "text": [
      "converged! Final Result:  [0.60979457 1.00144275]\n",
      "length 12\n",
      "eval num 16\n"
     ]
    },
    {
     "name": "stderr",
     "output_type": "stream",
     "text": [
      "CasADi - 2024-12-06 09:53:04 WARNING(\"solver:nlp_f failed: NaN detected for output f, at (row 0, col 0).\") [.../casadi/core/oracle_function.cpp:377]\n"
     ]
    },
    {
     "name": "stdout",
     "output_type": "stream",
     "text": [
      "converged! Final Result:  [0.59820767 1.00415836]\n",
      "length 14\n",
      "eval num 17\n"
     ]
    },
    {
     "name": "stderr",
     "output_type": "stream",
     "text": [
      "CasADi - 2024-12-06 09:53:05 WARNING(\"solver:nlp_f failed: NaN detected for output f, at (row 0, col 0).\") [.../casadi/core/oracle_function.cpp:377]\n",
      "CasADi - 2024-12-06 09:53:05 WARNING(\"solver:nlp_f failed: NaN detected for output f, at (row 0, col 0).\") [.../casadi/core/oracle_function.cpp:377]\n",
      "CasADi - 2024-12-06 09:53:05 WARNING(\"solver:nlp_f failed: NaN detected for output f, at (row 0, col 0).\") [.../casadi/core/oracle_function.cpp:377]\n",
      "CasADi - 2024-12-06 09:53:05 WARNING(\"solver:nlp_f failed: NaN detected for output f, at (row 0, col 0).\") [.../casadi/core/oracle_function.cpp:377]\n",
      "CasADi - 2024-12-06 09:53:05 WARNING(\"solver:nlp_f failed: NaN detected for output f, at (row 0, col 0).\") [.../casadi/core/oracle_function.cpp:377]\n",
      "CasADi - 2024-12-06 09:53:05 WARNING(\"solver:nlp_f failed: NaN detected for output f, at (row 0, col 0).\") [.../casadi/core/oracle_function.cpp:377]\n",
      "CasADi - 2024-12-06 09:53:05 WARNING(\"solver:nlp_f failed: NaN detected for output f, at (row 0, col 0).\") [.../casadi/core/oracle_function.cpp:377]\n",
      "CasADi - 2024-12-06 09:53:05 WARNING(\"solver:nlp_f failed: NaN detected for output f, at (row 0, col 0).\") [.../casadi/core/oracle_function.cpp:377]\n",
      "CasADi - 2024-12-06 09:53:05 WARNING(\"solver:nlp_f failed: NaN detected for output f, at (row 0, col 0).\") [.../casadi/core/oracle_function.cpp:377]\n",
      "CasADi - 2024-12-06 09:53:05 WARNING(\"solver:nlp_f failed: NaN detected for output f, at (row 0, col 0).\") [.../casadi/core/oracle_function.cpp:377]\n"
     ]
    },
    {
     "name": "stdout",
     "output_type": "stream",
     "text": [
      "converged! Final Result:  [0.59489994 0.99944549]\n",
      "length 12\n",
      "eval num 18\n"
     ]
    },
    {
     "name": "stderr",
     "output_type": "stream",
     "text": [
      "CasADi - 2024-12-06 09:53:05 WARNING(\"solver:nlp_f failed: NaN detected for output f, at (row 0, col 0).\") [.../casadi/core/oracle_function.cpp:377]\n",
      "CasADi - 2024-12-06 09:53:05 WARNING(\"solver:nlp_f failed: NaN detected for output f, at (row 0, col 0).\") [.../casadi/core/oracle_function.cpp:377]\n",
      "CasADi - 2024-12-06 09:53:05 WARNING(\"solver:nlp_f failed: NaN detected for output f, at (row 0, col 0).\") [.../casadi/core/oracle_function.cpp:377]\n",
      "CasADi - 2024-12-06 09:53:05 WARNING(\"solver:nlp_f failed: NaN detected for output f, at (row 0, col 0).\") [.../casadi/core/oracle_function.cpp:377]\n",
      "CasADi - 2024-12-06 09:53:05 WARNING(\"solver:nlp_f failed: NaN detected for output f, at (row 0, col 0).\") [.../casadi/core/oracle_function.cpp:377]\n",
      "CasADi - 2024-12-06 09:53:05 WARNING(\"solver:nlp_f failed: NaN detected for output f, at (row 0, col 0).\") [.../casadi/core/oracle_function.cpp:377]\n",
      "CasADi - 2024-12-06 09:53:05 WARNING(\"solver:nlp_f failed: NaN detected for output f, at (row 0, col 0).\") [.../casadi/core/oracle_function.cpp:377]\n",
      "CasADi - 2024-12-06 09:53:05 WARNING(\"solver:nlp_f failed: NaN detected for output f, at (row 0, col 0).\") [.../casadi/core/oracle_function.cpp:377]\n",
      "CasADi - 2024-12-06 09:53:05 WARNING(\"solver:nlp_f failed: NaN detected for output f, at (row 0, col 0).\") [.../casadi/core/oracle_function.cpp:377]\n",
      "CasADi - 2024-12-06 09:53:05 WARNING(\"solver:nlp_f failed: NaN detected for output f, at (row 0, col 0).\") [.../casadi/core/oracle_function.cpp:377]\n",
      "CasADi - 2024-12-06 09:53:05 WARNING(\"solver:nlp_f failed: NaN detected for output f, at (row 0, col 0).\") [.../casadi/core/oracle_function.cpp:377]\n"
     ]
    },
    {
     "name": "stdout",
     "output_type": "stream",
     "text": [
      "converged! Final Result:  [0.59652598 0.98448698]\n",
      "length 8\n",
      "eval num 19\n",
      "converged! Final Result:  [0.60867446 0.99898027]\n",
      "length 10\n",
      "eval num 0\n"
     ]
    },
    {
     "name": "stderr",
     "output_type": "stream",
     "text": [
      "CasADi - 2024-12-06 09:53:05 WARNING(\"solver:nlp_f failed: NaN detected for output f, at (row 0, col 0).\") [.../casadi/core/oracle_function.cpp:377]\n",
      "CasADi - 2024-12-06 09:53:05 WARNING(\"solver:nlp_f failed: NaN detected for output f, at (row 0, col 0).\") [.../casadi/core/oracle_function.cpp:377]\n",
      "CasADi - 2024-12-06 09:53:05 WARNING(\"solver:nlp_f failed: NaN detected for output f, at (row 0, col 0).\") [.../casadi/core/oracle_function.cpp:377]\n",
      "CasADi - 2024-12-06 09:53:05 WARNING(\"solver:nlp_f failed: NaN detected for output f, at (row 0, col 0).\") [.../casadi/core/oracle_function.cpp:377]\n",
      "CasADi - 2024-12-06 09:53:05 WARNING(\"solver:nlp_f failed: NaN detected for output f, at (row 0, col 0).\") [.../casadi/core/oracle_function.cpp:377]\n",
      "CasADi - 2024-12-06 09:53:05 WARNING(\"solver:nlp_f failed: NaN detected for output f, at (row 0, col 0).\") [.../casadi/core/oracle_function.cpp:377]\n"
     ]
    },
    {
     "name": "stdout",
     "output_type": "stream",
     "text": [
      "converged! Final Result:  [0.60122971 0.99697068]\n",
      "length 17\n",
      "eval num 1\n",
      "converged! Final Result:  [0.60603845 0.99492699]\n",
      "length 9\n",
      "eval num 2\n"
     ]
    },
    {
     "name": "stderr",
     "output_type": "stream",
     "text": [
      "CasADi - 2024-12-06 09:53:07 WARNING(\"solver:nlp_f failed: NaN detected for output f, at (row 0, col 0).\") [.../casadi/core/oracle_function.cpp:377]\n",
      "CasADi - 2024-12-06 09:53:07 WARNING(\"solver:nlp_f failed: NaN detected for output f, at (row 0, col 0).\") [.../casadi/core/oracle_function.cpp:377]\n",
      "CasADi - 2024-12-06 09:53:07 WARNING(\"solver:nlp_f failed: NaN detected for output f, at (row 0, col 0).\") [.../casadi/core/oracle_function.cpp:377]\n"
     ]
    },
    {
     "name": "stdout",
     "output_type": "stream",
     "text": [
      "converged! Final Result:  [0.5878715  1.00180567]\n",
      "length 15\n",
      "eval num 3\n"
     ]
    },
    {
     "name": "stderr",
     "output_type": "stream",
     "text": [
      "CasADi - 2024-12-06 09:53:07 WARNING(\"solver:nlp_f failed: NaN detected for output f, at (row 0, col 0).\") [.../casadi/core/oracle_function.cpp:377]\n",
      "CasADi - 2024-12-06 09:53:07 WARNING(\"solver:nlp_f failed: NaN detected for output f, at (row 0, col 0).\") [.../casadi/core/oracle_function.cpp:377]\n",
      "CasADi - 2024-12-06 09:53:07 WARNING(\"solver:nlp_f failed: NaN detected for output f, at (row 0, col 0).\") [.../casadi/core/oracle_function.cpp:377]\n",
      "CasADi - 2024-12-06 09:53:07 WARNING(\"solver:nlp_f failed: NaN detected for output f, at (row 0, col 0).\") [.../casadi/core/oracle_function.cpp:377]\n",
      "CasADi - 2024-12-06 09:53:07 WARNING(\"solver:nlp_f failed: NaN detected for output f, at (row 0, col 0).\") [.../casadi/core/oracle_function.cpp:377]\n",
      "CasADi - 2024-12-06 09:53:07 WARNING(\"solver:nlp_f failed: NaN detected for output f, at (row 0, col 0).\") [.../casadi/core/oracle_function.cpp:377]\n",
      "CasADi - 2024-12-06 09:53:07 WARNING(\"solver:nlp_f failed: NaN detected for output f, at (row 0, col 0).\") [.../casadi/core/oracle_function.cpp:377]\n",
      "CasADi - 2024-12-06 09:53:08 WARNING(\"solver:nlp_f failed: NaN detected for output f, at (row 0, col 0).\") [.../casadi/core/oracle_function.cpp:377]\n"
     ]
    },
    {
     "name": "stdout",
     "output_type": "stream",
     "text": [
      "error\n",
      "eval num 3\n"
     ]
    },
    {
     "name": "stderr",
     "output_type": "stream",
     "text": [
      "CasADi - 2024-12-06 09:53:08 WARNING(\"solver:nlp_f failed: NaN detected for output f, at (row 0, col 0).\") [.../casadi/core/oracle_function.cpp:377]\n",
      "CasADi - 2024-12-06 09:53:08 WARNING(\"solver:nlp_f failed: NaN detected for output f, at (row 0, col 0).\") [.../casadi/core/oracle_function.cpp:377]\n",
      "CasADi - 2024-12-06 09:53:08 WARNING(\"solver:nlp_f failed: NaN detected for output f, at (row 0, col 0).\") [.../casadi/core/oracle_function.cpp:377]\n",
      "CasADi - 2024-12-06 09:53:08 WARNING(\"solver:nlp_f failed: NaN detected for output f, at (row 0, col 0).\") [.../casadi/core/oracle_function.cpp:377]\n",
      "CasADi - 2024-12-06 09:53:08 WARNING(\"solver:nlp_f failed: NaN detected for output f, at (row 0, col 0).\") [.../casadi/core/oracle_function.cpp:377]\n",
      "CasADi - 2024-12-06 09:53:08 WARNING(\"solver:nlp_f failed: NaN detected for output f, at (row 0, col 0).\") [.../casadi/core/oracle_function.cpp:377]\n"
     ]
    },
    {
     "name": "stdout",
     "output_type": "stream",
     "text": [
      "converged! Final Result:  [0.59585953 1.00079042]\n",
      "length 14\n",
      "eval num 4\n"
     ]
    },
    {
     "name": "stderr",
     "output_type": "stream",
     "text": [
      "CasADi - 2024-12-06 09:53:08 WARNING(\"solver:nlp_f failed: NaN detected for output f, at (row 0, col 0).\") [.../casadi/core/oracle_function.cpp:377]\n",
      "CasADi - 2024-12-06 09:53:08 WARNING(\"solver:nlp_f failed: NaN detected for output f, at (row 0, col 0).\") [.../casadi/core/oracle_function.cpp:377]\n",
      "CasADi - 2024-12-06 09:53:08 WARNING(\"solver:nlp_f failed: NaN detected for output f, at (row 0, col 0).\") [.../casadi/core/oracle_function.cpp:377]\n",
      "CasADi - 2024-12-06 09:53:08 WARNING(\"solver:nlp_f failed: NaN detected for output f, at (row 0, col 0).\") [.../casadi/core/oracle_function.cpp:377]\n",
      "CasADi - 2024-12-06 09:53:08 WARNING(\"solver:nlp_f failed: NaN detected for output f, at (row 0, col 0).\") [.../casadi/core/oracle_function.cpp:377]\n",
      "CasADi - 2024-12-06 09:53:08 WARNING(\"solver:nlp_f failed: NaN detected for output f, at (row 0, col 0).\") [.../casadi/core/oracle_function.cpp:377]\n",
      "CasADi - 2024-12-06 09:53:08 WARNING(\"solver:nlp_f failed: NaN detected for output f, at (row 0, col 0).\") [.../casadi/core/oracle_function.cpp:377]\n",
      "CasADi - 2024-12-06 09:53:08 WARNING(\"solver:nlp_f failed: NaN detected for output f, at (row 0, col 0).\") [.../casadi/core/oracle_function.cpp:377]\n",
      "CasADi - 2024-12-06 09:53:08 WARNING(\"solver:nlp_f failed: NaN detected for output f, at (row 0, col 0).\") [.../casadi/core/oracle_function.cpp:377]\n",
      "CasADi - 2024-12-06 09:53:08 WARNING(\"solver:nlp_f failed: NaN detected for output f, at (row 0, col 0).\") [.../casadi/core/oracle_function.cpp:377]\n",
      "CasADi - 2024-12-06 09:53:08 WARNING(\"solver:nlp_f failed: NaN detected for output f, at (row 0, col 0).\") [.../casadi/core/oracle_function.cpp:377]\n",
      "CasADi - 2024-12-06 09:53:08 WARNING(\"solver:nlp_f failed: NaN detected for output f, at (row 0, col 0).\") [.../casadi/core/oracle_function.cpp:377]\n",
      "CasADi - 2024-12-06 09:53:08 WARNING(\"solver:nlp_f failed: NaN detected for output f, at (row 0, col 0).\") [.../casadi/core/oracle_function.cpp:377]\n",
      "CasADi - 2024-12-06 09:53:08 WARNING(\"solver:nlp_f failed: NaN detected for output f, at (row 0, col 0).\") [.../casadi/core/oracle_function.cpp:377]\n",
      "CasADi - 2024-12-06 09:53:08 WARNING(\"solver:nlp_f failed: NaN detected for output f, at (row 0, col 0).\") [.../casadi/core/oracle_function.cpp:377]\n"
     ]
    },
    {
     "name": "stdout",
     "output_type": "stream",
     "text": [
      "converged! Final Result:  [0.60011565 0.99239351]\n",
      "length 13\n",
      "eval num 5\n"
     ]
    },
    {
     "name": "stderr",
     "output_type": "stream",
     "text": [
      "CasADi - 2024-12-06 09:53:09 WARNING(\"solver:nlp_f failed: NaN detected for output f, at (row 0, col 0).\") [.../casadi/core/oracle_function.cpp:377]\n",
      "CasADi - 2024-12-06 09:53:09 WARNING(\"solver:nlp_f failed: NaN detected for output f, at (row 0, col 0).\") [.../casadi/core/oracle_function.cpp:377]\n",
      "CasADi - 2024-12-06 09:53:09 WARNING(\"solver:nlp_f failed: NaN detected for output f, at (row 0, col 0).\") [.../casadi/core/oracle_function.cpp:377]\n",
      "CasADi - 2024-12-06 09:53:09 WARNING(\"solver:nlp_f failed: NaN detected for output f, at (row 0, col 0).\") [.../casadi/core/oracle_function.cpp:377]\n",
      "CasADi - 2024-12-06 09:53:09 WARNING(\"solver:nlp_f failed: NaN detected for output f, at (row 0, col 0).\") [.../casadi/core/oracle_function.cpp:377]\n"
     ]
    },
    {
     "name": "stdout",
     "output_type": "stream",
     "text": [
      "converged! Final Result:  [0.58020062 0.99726967]\n",
      "length 13\n",
      "eval num 6\n"
     ]
    },
    {
     "name": "stderr",
     "output_type": "stream",
     "text": [
      "CasADi - 2024-12-06 09:53:09 WARNING(\"solver:nlp_f failed: NaN detected for output f, at (row 0, col 0).\") [.../casadi/core/oracle_function.cpp:377]\n",
      "CasADi - 2024-12-06 09:53:09 WARNING(\"solver:nlp_f failed: NaN detected for output f, at (row 0, col 0).\") [.../casadi/core/oracle_function.cpp:377]\n",
      "CasADi - 2024-12-06 09:53:10 WARNING(\"solver:nlp_f failed: NaN detected for output f, at (row 0, col 0).\") [.../casadi/core/oracle_function.cpp:377]\n",
      "CasADi - 2024-12-06 09:53:10 WARNING(\"solver:nlp_f failed: NaN detected for output f, at (row 0, col 0).\") [.../casadi/core/oracle_function.cpp:377]\n",
      "CasADi - 2024-12-06 09:53:10 WARNING(\"solver:nlp_f failed: NaN detected for output f, at (row 0, col 0).\") [.../casadi/core/oracle_function.cpp:377]\n",
      "CasADi - 2024-12-06 09:53:10 WARNING(\"solver:nlp_f failed: NaN detected for output f, at (row 0, col 0).\") [.../casadi/core/oracle_function.cpp:377]\n",
      "CasADi - 2024-12-06 09:53:10 WARNING(\"solver:nlp_f failed: NaN detected for output f, at (row 0, col 0).\") [.../casadi/core/oracle_function.cpp:377]\n"
     ]
    },
    {
     "name": "stdout",
     "output_type": "stream",
     "text": [
      "converged! Final Result:  [0.60550775 0.99080609]\n",
      "length 16\n",
      "eval num 7\n"
     ]
    },
    {
     "name": "stderr",
     "output_type": "stream",
     "text": [
      "CasADi - 2024-12-06 09:53:10 WARNING(\"solver:nlp_f failed: NaN detected for output f, at (row 0, col 0).\") [.../casadi/core/oracle_function.cpp:377]\n",
      "CasADi - 2024-12-06 09:53:11 WARNING(\"solver:nlp_f failed: NaN detected for output f, at (row 0, col 0).\") [.../casadi/core/oracle_function.cpp:377]\n",
      "CasADi - 2024-12-06 09:53:11 WARNING(\"solver:nlp_f failed: NaN detected for output f, at (row 0, col 0).\") [.../casadi/core/oracle_function.cpp:377]\n",
      "CasADi - 2024-12-06 09:53:11 WARNING(\"solver:nlp_f failed: NaN detected for output f, at (row 0, col 0).\") [.../casadi/core/oracle_function.cpp:377]\n",
      "CasADi - 2024-12-06 09:53:11 WARNING(\"solver:nlp_f failed: NaN detected for output f, at (row 0, col 0).\") [.../casadi/core/oracle_function.cpp:377]\n",
      "CasADi - 2024-12-06 09:53:11 WARNING(\"solver:nlp_f failed: NaN detected for output f, at (row 0, col 0).\") [.../casadi/core/oracle_function.cpp:377]\n",
      "CasADi - 2024-12-06 09:53:11 WARNING(\"solver:nlp_f failed: NaN detected for output f, at (row 0, col 0).\") [.../casadi/core/oracle_function.cpp:377]\n"
     ]
    },
    {
     "name": "stdout",
     "output_type": "stream",
     "text": [
      "converged! Final Result:  [0.59847882 1.0001614 ]\n",
      "length 13\n",
      "eval num 8\n"
     ]
    },
    {
     "name": "stderr",
     "output_type": "stream",
     "text": [
      "CasADi - 2024-12-06 09:53:11 WARNING(\"solver:nlp_f failed: NaN detected for output f, at (row 0, col 0).\") [.../casadi/core/oracle_function.cpp:377]\n",
      "CasADi - 2024-12-06 09:53:11 WARNING(\"solver:nlp_f failed: NaN detected for output f, at (row 0, col 0).\") [.../casadi/core/oracle_function.cpp:377]\n",
      "CasADi - 2024-12-06 09:53:11 WARNING(\"solver:nlp_f failed: NaN detected for output f, at (row 0, col 0).\") [.../casadi/core/oracle_function.cpp:377]\n",
      "CasADi - 2024-12-06 09:53:11 WARNING(\"solver:nlp_f failed: NaN detected for output f, at (row 0, col 0).\") [.../casadi/core/oracle_function.cpp:377]\n",
      "CasADi - 2024-12-06 09:53:11 WARNING(\"solver:nlp_f failed: NaN detected for output f, at (row 0, col 0).\") [.../casadi/core/oracle_function.cpp:377]\n",
      "CasADi - 2024-12-06 09:53:11 WARNING(\"solver:nlp_f failed: NaN detected for output f, at (row 0, col 0).\") [.../casadi/core/oracle_function.cpp:377]\n",
      "CasADi - 2024-12-06 09:53:11 WARNING(\"solver:nlp_f failed: NaN detected for output f, at (row 0, col 0).\") [.../casadi/core/oracle_function.cpp:377]\n",
      "CasADi - 2024-12-06 09:53:11 WARNING(\"solver:nlp_f failed: NaN detected for output f, at (row 0, col 0).\") [.../casadi/core/oracle_function.cpp:377]\n"
     ]
    },
    {
     "name": "stdout",
     "output_type": "stream",
     "text": [
      "converged! Final Result:  [0.6085901  1.00344629]\n",
      "length 11\n",
      "eval num 9\n"
     ]
    },
    {
     "name": "stderr",
     "output_type": "stream",
     "text": [
      "CasADi - 2024-12-06 09:53:11 WARNING(\"solver:nlp_f failed: NaN detected for output f, at (row 0, col 0).\") [.../casadi/core/oracle_function.cpp:377]\n",
      "CasADi - 2024-12-06 09:53:11 WARNING(\"solver:nlp_f failed: NaN detected for output f, at (row 0, col 0).\") [.../casadi/core/oracle_function.cpp:377]\n",
      "CasADi - 2024-12-06 09:53:11 WARNING(\"solver:nlp_f failed: NaN detected for output f, at (row 0, col 0).\") [.../casadi/core/oracle_function.cpp:377]\n",
      "CasADi - 2024-12-06 09:53:11 WARNING(\"solver:nlp_f failed: NaN detected for output f, at (row 0, col 0).\") [.../casadi/core/oracle_function.cpp:377]\n",
      "CasADi - 2024-12-06 09:53:11 WARNING(\"solver:nlp_f failed: NaN detected for output f, at (row 0, col 0).\") [.../casadi/core/oracle_function.cpp:377]\n",
      "CasADi - 2024-12-06 09:53:11 WARNING(\"solver:nlp_f failed: NaN detected for output f, at (row 0, col 0).\") [.../casadi/core/oracle_function.cpp:377]\n",
      "CasADi - 2024-12-06 09:53:11 WARNING(\"solver:nlp_f failed: NaN detected for output f, at (row 0, col 0).\") [.../casadi/core/oracle_function.cpp:377]\n"
     ]
    },
    {
     "name": "stdout",
     "output_type": "stream",
     "text": [
      "converged! Final Result:  [0.60835419 0.9877261 ]\n",
      "length 10\n",
      "eval num 10\n",
      "converged! Final Result:  [0.60265038 1.00415452]\n",
      "length 10\n",
      "eval num 11\n",
      "converged! Final Result:  [0.58657896 0.99210111]\n",
      "length 8\n",
      "eval num 12\n",
      "converged! Final Result:  [0.60980958 0.9843814 ]\n",
      "length 13\n",
      "eval num 13\n"
     ]
    },
    {
     "name": "stderr",
     "output_type": "stream",
     "text": [
      "CasADi - 2024-12-06 09:53:13 WARNING(\"solver:nlp_f failed: NaN detected for output f, at (row 0, col 0).\") [.../casadi/core/oracle_function.cpp:377]\n",
      "CasADi - 2024-12-06 09:53:13 WARNING(\"solver:nlp_f failed: NaN detected for output f, at (row 0, col 0).\") [.../casadi/core/oracle_function.cpp:377]\n",
      "CasADi - 2024-12-06 09:53:13 WARNING(\"solver:nlp_f failed: NaN detected for output f, at (row 0, col 0).\") [.../casadi/core/oracle_function.cpp:377]\n",
      "CasADi - 2024-12-06 09:53:13 WARNING(\"solver:nlp_f failed: NaN detected for output f, at (row 0, col 0).\") [.../casadi/core/oracle_function.cpp:377]\n",
      "CasADi - 2024-12-06 09:53:13 WARNING(\"solver:nlp_f failed: NaN detected for output f, at (row 0, col 0).\") [.../casadi/core/oracle_function.cpp:377]\n",
      "CasADi - 2024-12-06 09:53:13 WARNING(\"solver:nlp_f failed: NaN detected for output f, at (row 0, col 0).\") [.../casadi/core/oracle_function.cpp:377]\n"
     ]
    },
    {
     "name": "stdout",
     "output_type": "stream",
     "text": [
      "converged! Final Result:  [0.60888671 0.99752081]\n",
      "length 15\n",
      "eval num 14\n",
      "converged! Final Result:  [0.59019766 0.99920553]\n",
      "length 8\n",
      "eval num 15\n"
     ]
    },
    {
     "name": "stderr",
     "output_type": "stream",
     "text": [
      "CasADi - 2024-12-06 09:53:14 WARNING(\"solver:nlp_f failed: NaN detected for output f, at (row 0, col 0).\") [.../casadi/core/oracle_function.cpp:377]\n",
      "CasADi - 2024-12-06 09:53:14 WARNING(\"solver:nlp_f failed: NaN detected for output f, at (row 0, col 0).\") [.../casadi/core/oracle_function.cpp:377]\n",
      "CasADi - 2024-12-06 09:53:14 WARNING(\"solver:nlp_f failed: NaN detected for output f, at (row 0, col 0).\") [.../casadi/core/oracle_function.cpp:377]\n"
     ]
    },
    {
     "name": "stdout",
     "output_type": "stream",
     "text": [
      "converged! Final Result:  [0.58628029 1.00441821]\n",
      "length 13\n",
      "eval num 16\n"
     ]
    },
    {
     "name": "stderr",
     "output_type": "stream",
     "text": [
      "CasADi - 2024-12-06 09:53:15 WARNING(\"solver:nlp_f failed: NaN detected for output f, at (row 0, col 0).\") [.../casadi/core/oracle_function.cpp:377]\n",
      "CasADi - 2024-12-06 09:53:15 WARNING(\"solver:nlp_f failed: NaN detected for output f, at (row 0, col 0).\") [.../casadi/core/oracle_function.cpp:377]\n",
      "CasADi - 2024-12-06 09:53:15 WARNING(\"solver:nlp_f failed: NaN detected for output f, at (row 0, col 0).\") [.../casadi/core/oracle_function.cpp:377]\n"
     ]
    },
    {
     "name": "stdout",
     "output_type": "stream",
     "text": [
      "converged! Final Result:  [0.58491813 0.988625  ]\n",
      "length 11\n",
      "eval num 17\n"
     ]
    },
    {
     "name": "stderr",
     "output_type": "stream",
     "text": [
      "CasADi - 2024-12-06 09:53:15 WARNING(\"solver:nlp_f failed: NaN detected for output f, at (row 0, col 0).\") [.../casadi/core/oracle_function.cpp:377]\n"
     ]
    },
    {
     "name": "stdout",
     "output_type": "stream",
     "text": [
      "converged! Final Result:  [0.59623466 1.00343828]\n",
      "length 14\n",
      "eval num 18\n"
     ]
    },
    {
     "name": "stderr",
     "output_type": "stream",
     "text": [
      "CasADi - 2024-12-06 09:53:15 WARNING(\"solver:nlp_f failed: NaN detected for output f, at (row 0, col 0).\") [.../casadi/core/oracle_function.cpp:377]\n",
      "CasADi - 2024-12-06 09:53:15 WARNING(\"solver:nlp_f failed: NaN detected for output f, at (row 0, col 0).\") [.../casadi/core/oracle_function.cpp:377]\n"
     ]
    },
    {
     "name": "stdout",
     "output_type": "stream",
     "text": [
      "converged! Final Result:  [0.61840066 0.99263611]\n",
      "length 8\n",
      "eval num 19\n"
     ]
    },
    {
     "name": "stderr",
     "output_type": "stream",
     "text": [
      "CasADi - 2024-12-06 09:53:16 WARNING(\"solver:nlp_f failed: NaN detected for output f, at (row 0, col 0).\") [.../casadi/core/oracle_function.cpp:377]\n",
      "CasADi - 2024-12-06 09:53:16 WARNING(\"solver:nlp_f failed: NaN detected for output f, at (row 0, col 0).\") [.../casadi/core/oracle_function.cpp:377]\n",
      "CasADi - 2024-12-06 09:53:16 WARNING(\"solver:nlp_f failed: NaN detected for output f, at (row 0, col 0).\") [.../casadi/core/oracle_function.cpp:377]\n",
      "CasADi - 2024-12-06 09:53:16 WARNING(\"solver:nlp_f failed: NaN detected for output f, at (row 0, col 0).\") [.../casadi/core/oracle_function.cpp:377]\n",
      "CasADi - 2024-12-06 09:53:16 WARNING(\"solver:nlp_f failed: NaN detected for output f, at (row 0, col 0).\") [.../casadi/core/oracle_function.cpp:377]\n",
      "CasADi - 2024-12-06 09:53:16 WARNING(\"solver:nlp_f failed: NaN detected for output f, at (row 0, col 0).\") [.../casadi/core/oracle_function.cpp:377]\n",
      "CasADi - 2024-12-06 09:53:16 WARNING(\"solver:nlp_f failed: NaN detected for output f, at (row 0, col 0).\") [.../casadi/core/oracle_function.cpp:377]\n"
     ]
    },
    {
     "name": "stdout",
     "output_type": "stream",
     "text": [
      "converged! Final Result:  [0.60134263 1.00401589]\n",
      "length 13\n",
      "eval num 0\n",
      "converged! Final Result:  [0.59568845 1.00043226]\n",
      "length 11\n",
      "eval num 1\n",
      "converged! Final Result:  [0.59479283 1.00415144]\n",
      "length 14\n",
      "eval num 2\n",
      "error\n",
      "eval num 2\n"
     ]
    },
    {
     "name": "stderr",
     "output_type": "stream",
     "text": [
      "CasADi - 2024-12-06 09:53:18 WARNING(\"solver:nlp_f failed: NaN detected for output f, at (row 0, col 0).\") [.../casadi/core/oracle_function.cpp:377]\n",
      "CasADi - 2024-12-06 09:53:18 WARNING(\"solver:nlp_f failed: NaN detected for output f, at (row 0, col 0).\") [.../casadi/core/oracle_function.cpp:377]\n",
      "CasADi - 2024-12-06 09:53:18 WARNING(\"solver:nlp_f failed: NaN detected for output f, at (row 0, col 0).\") [.../casadi/core/oracle_function.cpp:377]\n",
      "CasADi - 2024-12-06 09:53:18 WARNING(\"solver:nlp_f failed: NaN detected for output f, at (row 0, col 0).\") [.../casadi/core/oracle_function.cpp:377]\n"
     ]
    },
    {
     "name": "stdout",
     "output_type": "stream",
     "text": [
      "converged! Final Result:  [0.60298746 0.99696108]\n",
      "length 11\n",
      "eval num 3\n"
     ]
    },
    {
     "name": "stderr",
     "output_type": "stream",
     "text": [
      "CasADi - 2024-12-06 09:53:18 WARNING(\"solver:nlp_f failed: NaN detected for output f, at (row 0, col 0).\") [.../casadi/core/oracle_function.cpp:377]\n",
      "CasADi - 2024-12-06 09:53:18 WARNING(\"solver:nlp_f failed: NaN detected for output f, at (row 0, col 0).\") [.../casadi/core/oracle_function.cpp:377]\n"
     ]
    },
    {
     "name": "stdout",
     "output_type": "stream",
     "text": [
      "converged! Final Result:  [0.58647973 1.00447488]\n",
      "length 11\n",
      "eval num 4\n",
      "converged! Final Result:  [0.60283328 1.00454606]\n",
      "length 11\n",
      "eval num 5\n",
      "converged! Final Result:  [0.60873179 1.00008041]\n",
      "length 12\n",
      "eval num 6\n",
      "converged! Final Result:  [0.59096053 1.01683693]\n",
      "length 13\n",
      "eval num 7\n",
      "converged! Final Result:  [0.59963981 1.00230316]\n",
      "length 14\n",
      "eval num 8\n",
      "converged! Final Result:  [0.60841415 0.98358433]\n",
      "length 14\n",
      "eval num 9\n",
      "converged! Final Result:  [0.60327343 0.99577186]\n",
      "length 14\n",
      "eval num 10\n",
      "converged! Final Result:  [0.59537002 1.00647111]\n",
      "length 14\n",
      "eval num 11\n",
      "converged! Final Result:  [0.58500211 1.00069102]\n",
      "length 11\n",
      "eval num 12\n",
      "converged! Final Result:  [0.61253494 0.99356056]\n",
      "length 14\n",
      "eval num 13\n",
      "converged! Final Result:  [0.59259156 1.00620223]\n",
      "length 12\n",
      "eval num 14\n",
      "converged! Final Result:  [0.58979732 1.00664742]\n",
      "length 11\n",
      "eval num 15\n",
      "error\n",
      "eval num 15\n",
      "error\n",
      "eval num 15\n",
      "converged! Final Result:  [0.60625054 1.0026574 ]\n",
      "length 10\n",
      "eval num 16\n"
     ]
    },
    {
     "name": "stderr",
     "output_type": "stream",
     "text": [
      "CasADi - 2024-12-06 09:53:25 WARNING(\"solver:nlp_f failed: NaN detected for output f, at (row 0, col 0).\") [.../casadi/core/oracle_function.cpp:377]\n",
      "CasADi - 2024-12-06 09:53:25 WARNING(\"solver:nlp_f failed: NaN detected for output f, at (row 0, col 0).\") [.../casadi/core/oracle_function.cpp:377]\n",
      "CasADi - 2024-12-06 09:53:25 WARNING(\"solver:nlp_f failed: NaN detected for output f, at (row 0, col 0).\") [.../casadi/core/oracle_function.cpp:377]\n",
      "CasADi - 2024-12-06 09:53:25 WARNING(\"solver:nlp_f failed: NaN detected for output f, at (row 0, col 0).\") [.../casadi/core/oracle_function.cpp:377]\n",
      "CasADi - 2024-12-06 09:53:25 WARNING(\"solver:nlp_f failed: NaN detected for output f, at (row 0, col 0).\") [.../casadi/core/oracle_function.cpp:377]\n",
      "CasADi - 2024-12-06 09:53:25 WARNING(\"solver:nlp_f failed: NaN detected for output f, at (row 0, col 0).\") [.../casadi/core/oracle_function.cpp:377]\n",
      "CasADi - 2024-12-06 09:53:25 WARNING(\"solver:nlp_f failed: NaN detected for output f, at (row 0, col 0).\") [.../casadi/core/oracle_function.cpp:377]\n",
      "CasADi - 2024-12-06 09:53:25 WARNING(\"solver:nlp_f failed: NaN detected for output f, at (row 0, col 0).\") [.../casadi/core/oracle_function.cpp:377]\n"
     ]
    },
    {
     "name": "stdout",
     "output_type": "stream",
     "text": [
      "converged! Final Result:  [0.60799488 0.98408801]\n",
      "length 14\n",
      "eval num 17\n"
     ]
    },
    {
     "name": "stderr",
     "output_type": "stream",
     "text": [
      "CasADi - 2024-12-06 09:53:26 WARNING(\"solver:nlp_f failed: NaN detected for output f, at (row 0, col 0).\") [.../casadi/core/oracle_function.cpp:377]\n",
      "CasADi - 2024-12-06 09:53:26 WARNING(\"solver:nlp_f failed: NaN detected for output f, at (row 0, col 0).\") [.../casadi/core/oracle_function.cpp:377]\n",
      "CasADi - 2024-12-06 09:53:26 WARNING(\"solver:nlp_f failed: NaN detected for output f, at (row 0, col 0).\") [.../casadi/core/oracle_function.cpp:377]\n",
      "CasADi - 2024-12-06 09:53:26 WARNING(\"solver:nlp_f failed: NaN detected for output f, at (row 0, col 0).\") [.../casadi/core/oracle_function.cpp:377]\n"
     ]
    },
    {
     "name": "stdout",
     "output_type": "stream",
     "text": [
      "converged! Final Result:  [0.5989183 0.9968291]\n",
      "length 15\n",
      "eval num 18\n",
      "error\n",
      "eval num 18\n",
      "converged! Final Result:  [0.58807289 1.01537084]\n",
      "length 13\n",
      "eval num 19\n",
      "converged! Final Result:  [0.59924964 1.00159885]\n",
      "length 14\n",
      "eval num 0\n",
      "converged! Final Result:  [0.61444522 0.98944197]\n",
      "length 7\n",
      "eval num 1\n",
      "converged! Final Result:  [0.60529192 0.99248497]\n",
      "length 14\n",
      "eval num 2\n"
     ]
    },
    {
     "name": "stderr",
     "output_type": "stream",
     "text": [
      "CasADi - 2024-12-06 09:53:29 WARNING(\"solver:nlp_f failed: NaN detected for output f, at (row 0, col 0).\") [.../casadi/core/oracle_function.cpp:377]\n",
      "CasADi - 2024-12-06 09:53:29 WARNING(\"solver:nlp_f failed: NaN detected for output f, at (row 0, col 0).\") [.../casadi/core/oracle_function.cpp:377]\n",
      "CasADi - 2024-12-06 09:53:29 WARNING(\"solver:nlp_f failed: NaN detected for output f, at (row 0, col 0).\") [.../casadi/core/oracle_function.cpp:377]\n",
      "CasADi - 2024-12-06 09:53:29 WARNING(\"solver:nlp_f failed: NaN detected for output f, at (row 0, col 0).\") [.../casadi/core/oracle_function.cpp:377]\n"
     ]
    },
    {
     "name": "stdout",
     "output_type": "stream",
     "text": [
      "converged! Final Result:  [0.60256647 0.98965037]\n",
      "length 11\n",
      "eval num 3\n",
      "converged! Final Result:  [0.60327236 0.98270213]\n",
      "length 13\n",
      "eval num 4\n",
      "converged! Final Result:  [0.60677718 1.01432516]\n",
      "length 10\n",
      "eval num 5\n"
     ]
    },
    {
     "name": "stderr",
     "output_type": "stream",
     "text": [
      "CasADi - 2024-12-06 09:53:30 WARNING(\"solver:nlp_f failed: NaN detected for output f, at (row 0, col 0).\") [.../casadi/core/oracle_function.cpp:377]\n",
      "CasADi - 2024-12-06 09:53:30 WARNING(\"solver:nlp_f failed: NaN detected for output f, at (row 0, col 0).\") [.../casadi/core/oracle_function.cpp:377]\n",
      "CasADi - 2024-12-06 09:53:30 WARNING(\"solver:nlp_f failed: NaN detected for output f, at (row 0, col 0).\") [.../casadi/core/oracle_function.cpp:377]\n",
      "CasADi - 2024-12-06 09:53:30 WARNING(\"solver:nlp_f failed: NaN detected for output f, at (row 0, col 0).\") [.../casadi/core/oracle_function.cpp:377]\n",
      "CasADi - 2024-12-06 09:53:30 WARNING(\"solver:nlp_f failed: NaN detected for output f, at (row 0, col 0).\") [.../casadi/core/oracle_function.cpp:377]\n"
     ]
    },
    {
     "name": "stdout",
     "output_type": "stream",
     "text": [
      "converged! Final Result:  [0.59916927 1.00017808]\n",
      "length 11\n",
      "eval num 6\n",
      "converged! Final Result:  [0.59785162 0.99769191]\n",
      "length 13\n",
      "eval num 7\n",
      "converged! Final Result:  [0.60782614 0.99931733]\n",
      "length 10\n",
      "eval num 8\n",
      "converged! Final Result:  [0.60668208 0.99546413]\n",
      "length 14\n",
      "eval num 9\n",
      "error\n",
      "eval num 9\n"
     ]
    },
    {
     "name": "stderr",
     "output_type": "stream",
     "text": [
      "CasADi - 2024-12-06 09:53:32 WARNING(\"solver:nlp_f failed: NaN detected for output f, at (row 0, col 0).\") [.../casadi/core/oracle_function.cpp:377]\n",
      "CasADi - 2024-12-06 09:53:32 WARNING(\"solver:nlp_f failed: NaN detected for output f, at (row 0, col 0).\") [.../casadi/core/oracle_function.cpp:377]\n"
     ]
    },
    {
     "name": "stdout",
     "output_type": "stream",
     "text": [
      "converged! Final Result:  [0.61163723 0.99114206]\n",
      "length 13\n",
      "eval num 10\n",
      "converged! Final Result:  [0.5924359 1.0025981]\n",
      "length 15\n",
      "eval num 11\n",
      "converged! Final Result:  [0.59290062 1.0135619 ]\n",
      "length 14\n",
      "eval num 12\n",
      "error\n",
      "eval num 12\n"
     ]
    },
    {
     "name": "stderr",
     "output_type": "stream",
     "text": [
      "CasADi - 2024-12-06 09:53:34 WARNING(\"solver:nlp_f failed: NaN detected for output f, at (row 0, col 0).\") [.../casadi/core/oracle_function.cpp:377]\n"
     ]
    },
    {
     "name": "stdout",
     "output_type": "stream",
     "text": [
      "converged! Final Result:  [0.60960888 0.99820496]\n",
      "length 13\n",
      "eval num 13\n"
     ]
    },
    {
     "name": "stderr",
     "output_type": "stream",
     "text": [
      "CasADi - 2024-12-06 09:53:35 WARNING(\"solver:nlp_f failed: NaN detected for output f, at (row 0, col 0).\") [.../casadi/core/oracle_function.cpp:377]\n",
      "CasADi - 2024-12-06 09:53:35 WARNING(\"solver:nlp_f failed: NaN detected for output f, at (row 0, col 0).\") [.../casadi/core/oracle_function.cpp:377]\n",
      "CasADi - 2024-12-06 09:53:35 WARNING(\"solver:nlp_f failed: NaN detected for output f, at (row 0, col 0).\") [.../casadi/core/oracle_function.cpp:377]\n"
     ]
    },
    {
     "name": "stdout",
     "output_type": "stream",
     "text": [
      "error\n",
      "eval num 13\n",
      "converged! Final Result:  [0.59178061 1.008692  ]\n",
      "length 12\n",
      "eval num 14\n"
     ]
    },
    {
     "name": "stderr",
     "output_type": "stream",
     "text": [
      "CasADi - 2024-12-06 09:53:36 WARNING(\"solver:nlp_f failed: NaN detected for output f, at (row 0, col 0).\") [.../casadi/core/oracle_function.cpp:377]\n"
     ]
    },
    {
     "name": "stdout",
     "output_type": "stream",
     "text": [
      "converged! Final Result:  [0.60092826 0.99037402]\n",
      "length 14\n",
      "eval num 15\n"
     ]
    },
    {
     "name": "stderr",
     "output_type": "stream",
     "text": [
      "CasADi - 2024-12-06 09:53:37 WARNING(\"solver:nlp_f failed: NaN detected for output f, at (row 0, col 0).\") [.../casadi/core/oracle_function.cpp:377]\n"
     ]
    },
    {
     "name": "stdout",
     "output_type": "stream",
     "text": [
      "converged! Final Result:  [0.59030097 1.00630365]\n",
      "length 14\n",
      "eval num 16\n"
     ]
    },
    {
     "name": "stderr",
     "output_type": "stream",
     "text": [
      "CasADi - 2024-12-06 09:53:37 WARNING(\"solver:nlp_f failed: NaN detected for output f, at (row 0, col 0).\") [.../casadi/core/oracle_function.cpp:377]\n",
      "CasADi - 2024-12-06 09:53:37 WARNING(\"solver:nlp_f failed: NaN detected for output f, at (row 0, col 0).\") [.../casadi/core/oracle_function.cpp:377]\n"
     ]
    },
    {
     "name": "stdout",
     "output_type": "stream",
     "text": [
      "converged! Final Result:  [0.59995881 1.00269643]\n",
      "length 15\n",
      "eval num 17\n",
      "converged! Final Result:  [0.59182608 1.00224438]\n",
      "length 14\n",
      "eval num 18\n"
     ]
    },
    {
     "name": "stderr",
     "output_type": "stream",
     "text": [
      "CasADi - 2024-12-06 09:53:38 WARNING(\"solver:nlp_f failed: NaN detected for output f, at (row 0, col 0).\") [.../casadi/core/oracle_function.cpp:377]\n"
     ]
    },
    {
     "name": "stdout",
     "output_type": "stream",
     "text": [
      "converged! Final Result:  [0.59791872 1.0002114 ]\n",
      "length 14\n",
      "eval num 19\n",
      "converged! Final Result:  [0.59315077 0.98896434]\n",
      "length 11\n",
      "eval num 0\n",
      "converged! Final Result:  [0.59736779 0.99763755]\n",
      "length 10\n",
      "eval num 1\n",
      "error\n",
      "eval num 1\n",
      "converged! Final Result:  [0.59236438 1.00876883]\n",
      "length 14\n",
      "eval num 2\n",
      "converged! Final Result:  [0.60999719 0.98984845]\n",
      "length 13\n",
      "eval num 3\n",
      "converged! Final Result:  [0.61622802 0.99039707]\n",
      "length 10\n",
      "eval num 4\n",
      "converged! Final Result:  [0.58715554 1.01312387]\n",
      "length 11\n",
      "eval num 5\n",
      "error\n",
      "eval num 5\n",
      "converged! Final Result:  [0.59522404 1.00671531]\n",
      "length 15\n",
      "eval num 6\n"
     ]
    },
    {
     "name": "stderr",
     "output_type": "stream",
     "text": [
      "CasADi - 2024-12-06 09:53:43 WARNING(\"solver:nlp_f failed: NaN detected for output f, at (row 0, col 0).\") [.../casadi/core/oracle_function.cpp:377]\n",
      "CasADi - 2024-12-06 09:53:43 WARNING(\"solver:nlp_f failed: NaN detected for output f, at (row 0, col 0).\") [.../casadi/core/oracle_function.cpp:377]\n"
     ]
    },
    {
     "name": "stdout",
     "output_type": "stream",
     "text": [
      "converged! Final Result:  [0.58936412 0.99365409]\n",
      "length 10\n",
      "eval num 7\n",
      "converged! Final Result:  [0.59938446 0.99638135]\n",
      "length 13\n",
      "eval num 8\n",
      "converged! Final Result:  [0.61463557 0.99387514]\n",
      "length 13\n",
      "eval num 9\n",
      "converged! Final Result:  [0.60566675 0.99417238]\n",
      "length 15\n",
      "eval num 10\n"
     ]
    },
    {
     "name": "stderr",
     "output_type": "stream",
     "text": [
      "CasADi - 2024-12-06 09:53:45 WARNING(\"solver:nlp_f failed: NaN detected for output f, at (row 0, col 0).\") [.../casadi/core/oracle_function.cpp:377]\n",
      "CasADi - 2024-12-06 09:53:45 WARNING(\"solver:nlp_f failed: NaN detected for output f, at (row 0, col 0).\") [.../casadi/core/oracle_function.cpp:377]\n"
     ]
    },
    {
     "name": "stdout",
     "output_type": "stream",
     "text": [
      "converged! Final Result:  [0.59302052 0.99477387]\n",
      "length 12\n",
      "eval num 11\n",
      "converged! Final Result:  [0.61773317 0.99298612]\n",
      "length 10\n",
      "eval num 12\n",
      "error\n",
      "eval num 12\n",
      "converged! Final Result:  [0.59741078 0.98368552]\n",
      "length 8\n",
      "eval num 13\n",
      "converged! Final Result:  [0.59928804 1.01723094]\n",
      "length 12\n",
      "eval num 14\n",
      "converged! Final Result:  [0.60369079 0.99349985]\n",
      "length 11\n",
      "eval num 15\n",
      "error\n",
      "eval num 15\n",
      "converged! Final Result:  [0.60210248 0.99764151]\n",
      "length 14\n",
      "eval num 16\n",
      "converged! Final Result:  [0.60337916 1.01333493]\n",
      "length 11\n",
      "eval num 17\n",
      "error\n",
      "eval num 17\n",
      "converged! Final Result:  [0.59236454 1.00389319]\n",
      "length 13\n",
      "eval num 18\n",
      "converged! Final Result:  [0.59376472 0.99087738]\n",
      "length 8\n",
      "eval num 19\n",
      "converged! Final Result:  [0.59959854 1.00314208]\n",
      "length 15\n",
      "eval num 0\n",
      "converged! Final Result:  [0.60295879 0.99267695]\n",
      "length 15\n",
      "eval num 1\n",
      "converged! Final Result:  [0.60063802 1.01653202]\n",
      "length 9\n",
      "eval num 2\n",
      "converged! Final Result:  [0.59359736 1.01424453]\n",
      "length 14\n",
      "eval num 3\n",
      "converged! Final Result:  [0.5943904  0.99587999]\n",
      "length 11\n",
      "eval num 4\n",
      "error\n",
      "eval num 4\n",
      "converged! Final Result:  [0.61160859 0.98690637]\n",
      "length 15\n",
      "eval num 5\n",
      "converged! Final Result:  [0.61053894 0.99281555]\n",
      "length 13\n",
      "eval num 6\n",
      "converged! Final Result:  [0.60991481 0.98799799]\n",
      "length 12\n",
      "eval num 7\n",
      "converged! Final Result:  [0.58209661 1.00867785]\n",
      "length 7\n",
      "eval num 8\n",
      "converged! Final Result:  [0.61032527 1.01141144]\n",
      "length 10\n",
      "eval num 9\n",
      "converged! Final Result:  [0.6127649  0.98517821]\n",
      "length 10\n",
      "eval num 10\n",
      "converged! Final Result:  [0.60755556 0.9874136 ]\n",
      "length 8\n",
      "eval num 11\n"
     ]
    },
    {
     "name": "stderr",
     "output_type": "stream",
     "text": [
      "CasADi - 2024-12-06 09:53:58 WARNING(\"solver:nlp_f failed: NaN detected for output f, at (row 0, col 0).\") [.../casadi/core/oracle_function.cpp:377]\n"
     ]
    },
    {
     "name": "stdout",
     "output_type": "stream",
     "text": [
      "converged! Final Result:  [0.5935636  1.00880145]\n",
      "length 15\n",
      "eval num 12\n",
      "converged! Final Result:  [0.60310787 0.99049295]\n",
      "length 12\n",
      "eval num 13\n",
      "converged! Final Result:  [0.60973631 0.98744432]\n",
      "length 14\n",
      "eval num 14\n",
      "converged! Final Result:  [0.6142924  0.98609307]\n",
      "length 14\n",
      "eval num 15\n",
      "converged! Final Result:  [0.59513558 1.00351417]\n",
      "length 13\n",
      "eval num 16\n",
      "converged! Final Result:  [0.59551247 0.99492838]\n",
      "length 11\n",
      "eval num 17\n",
      "converged! Final Result:  [0.59509435 1.00673563]\n",
      "length 12\n",
      "eval num 18\n",
      "converged! Final Result:  [0.60004117 1.00235563]\n",
      "length 15\n",
      "eval num 19\n",
      "error\n",
      "eval num 19\n",
      "converged! Final Result:  [0.61083521 0.99159339]\n",
      "length 16\n",
      "eval num 0\n",
      "converged! Final Result:  [0.58821672 1.00772204]\n",
      "length 13\n",
      "eval num 1\n",
      "converged! Final Result:  [0.58866625 1.01011444]\n",
      "length 14\n",
      "eval num 2\n",
      "converged! Final Result:  [0.5871456  1.00661183]\n",
      "length 17\n",
      "eval num 3\n",
      "converged! Final Result:  [0.60059814 1.00276416]\n",
      "length 14\n",
      "eval num 4\n",
      "converged! Final Result:  [0.59561333 1.00543282]\n",
      "length 11\n",
      "eval num 5\n",
      "converged! Final Result:  [0.6053676 0.9975408]\n",
      "length 16\n",
      "eval num 6\n",
      "converged! Final Result:  [0.58468095 1.00402209]\n",
      "length 13\n",
      "eval num 7\n"
     ]
    },
    {
     "name": "stderr",
     "output_type": "stream",
     "text": [
      "CasADi - 2024-12-06 09:54:10 WARNING(\"solver:nlp_f failed: NaN detected for output f, at (row 0, col 0).\") [.../casadi/core/oracle_function.cpp:377]\n",
      "CasADi - 2024-12-06 09:54:15 WARNING(\"solver:nlp_f failed: NaN detected for output f, at (row 0, col 0).\") [.../casadi/core/oracle_function.cpp:377]\n",
      "CasADi - 2024-12-06 09:54:18 WARNING(\"solver:nlp_f failed: NaN detected for output f, at (row 0, col 0).\") [.../casadi/core/oracle_function.cpp:377]\n",
      "CasADi - 2024-12-06 09:54:19 WARNING(\"solver:nlp_f failed: NaN detected for output f, at (row 0, col 0).\") [.../casadi/core/oracle_function.cpp:377]\n",
      "CasADi - 2024-12-06 09:54:19 WARNING(\"solver:nlp_f failed: NaN detected for output f, at (row 0, col 0).\") [.../casadi/core/oracle_function.cpp:377]\n"
     ]
    },
    {
     "name": "stdout",
     "output_type": "stream",
     "text": [
      "converged! Final Result:  [0.58837063 1.00788643]\n",
      "length 13\n",
      "eval num 8\n",
      "converged! Final Result:  [0.61684605 0.99724924]\n",
      "length 7\n",
      "eval num 9\n"
     ]
    },
    {
     "name": "stderr",
     "output_type": "stream",
     "text": [
      "CasADi - 2024-12-06 09:54:20 WARNING(\"solver:nlp_f failed: NaN detected for output f, at (row 0, col 0).\") [.../casadi/core/oracle_function.cpp:377]\n"
     ]
    },
    {
     "name": "stdout",
     "output_type": "stream",
     "text": [
      "converged! Final Result:  [0.60639295 0.99306153]\n",
      "length 14\n",
      "eval num 10\n",
      "converged! Final Result:  [0.58936837 1.00889983]\n",
      "length 15\n",
      "eval num 11\n",
      "converged! Final Result:  [0.59169982 1.01740162]\n",
      "length 11\n",
      "eval num 12\n"
     ]
    },
    {
     "name": "stderr",
     "output_type": "stream",
     "text": [
      "CasADi - 2024-12-06 09:54:25 WARNING(\"solver:nlp_f failed: NaN detected for output f, at (row 0, col 0).\") [.../casadi/core/oracle_function.cpp:377]\n"
     ]
    },
    {
     "name": "stdout",
     "output_type": "stream",
     "text": [
      "converged! Final Result:  [0.60240995 0.9834216 ]\n",
      "length 10\n",
      "eval num 13\n"
     ]
    },
    {
     "name": "stderr",
     "output_type": "stream",
     "text": [
      "CasADi - 2024-12-06 09:54:28 WARNING(\"solver:nlp_f failed: NaN detected for output f, at (row 0, col 0).\") [.../casadi/core/oracle_function.cpp:377]\n"
     ]
    },
    {
     "name": "stdout",
     "output_type": "stream",
     "text": [
      "error\n",
      "eval num 13\n",
      "converged! Final Result:  [0.58905652 1.00754977]\n",
      "length 14\n",
      "eval num 14\n",
      "converged! Final Result:  [0.59066478 1.00874122]\n",
      "length 15\n",
      "eval num 15\n",
      "converged! Final Result:  [0.60036964 1.00734862]\n",
      "length 11\n",
      "eval num 16\n",
      "converged! Final Result:  [0.60202806 0.99452637]\n",
      "length 13\n",
      "eval num 17\n"
     ]
    },
    {
     "name": "stderr",
     "output_type": "stream",
     "text": [
      "CasADi - 2024-12-06 09:54:32 WARNING(\"solver:nlp_f failed: NaN detected for output f, at (row 0, col 0).\") [.../casadi/core/oracle_function.cpp:377]\n",
      "CasADi - 2024-12-06 09:54:33 WARNING(\"solver:nlp_f failed: NaN detected for output f, at (row 0, col 0).\") [.../casadi/core/oracle_function.cpp:377]\n"
     ]
    },
    {
     "name": "stdout",
     "output_type": "stream",
     "text": [
      "error\n",
      "eval num 17\n",
      "converged! Final Result:  [0.59193683 0.99394196]\n",
      "length 12\n",
      "eval num 18\n",
      "converged! Final Result:  [0.61762382 0.99737617]\n",
      "length 12\n",
      "eval num 19\n",
      "converged! Final Result:  [0.59802764 1.00161092]\n",
      "length 15\n"
     ]
    }
   ],
   "source": [
    "avg_lengths = []\n",
    "std_lengths = []\n",
    "for gamma in [0.01,0.02,0.05,0.1,0.2,0.5,1.0,2.0,5.0,10.0]:\n",
    "    theta_logs=[]\n",
    "    error_logs=[]\n",
    "    volume_logs=[]\n",
    "    lengths = []\n",
    "    eval_cnt=0\n",
    "    while eval_cnt<20:\n",
    "        print('eval num',eval_cnt)\n",
    "        try:\n",
    "            tmp_theta_log,tmp_error_log,tmp_volume_log=pendulum_eval(gamma)\n",
    "            print('length',len(tmp_theta_log))\n",
    "            lengths.append(len(tmp_theta_log))\n",
    "            theta_logs.append(tmp_theta_log)\n",
    "            error_logs.append(tmp_error_log)\n",
    "            volume_logs.append(tmp_volume_log)\n",
    "            eval_cnt+=1\n",
    "        except:\n",
    "            print(\"error\")\n",
    "\n",
    "    avg_lengths.append(np.mean(lengths))\n",
    "    std_lengths.append(np.std(lengths))"
   ]
  },
  {
   "cell_type": "code",
   "execution_count": 5,
   "metadata": {},
   "outputs": [
    {
     "data": {
      "text/plain": [
       "[11.4, 12.0, 11.5, 12.95, 12.2, 12.65, 12.6, 11.9, 12.3, 13.0]"
      ]
     },
     "execution_count": 5,
     "metadata": {},
     "output_type": "execute_result"
    }
   ],
   "source": [
    "avg_lengths"
   ]
  },
  {
   "cell_type": "code",
   "execution_count": 7,
   "metadata": {},
   "outputs": [
    {
     "data": {
      "image/png": "[encoded data removed]",
      "text/plain": [
       "<Figure size 640x480 with 1 Axes>"
      ]
     },
     "metadata": {},
     "output_type": "display_data"
    }
   ],
   "source": [
    "gamma_list = [0.01,0.02,0.05,0.1,0.2,0.5,1.0,2.0,5.0,10.0]\n",
    "plt.figure()\n",
    "#plt.title(\"Correction Number VS $\\gamma$\",fontsize=20)\n",
    "plt.grid()\n",
    "plt.plot(gamma_list,avg_lengths,linewidth=4)\n",
    "plt.errorbar(gamma_list, avg_lengths, yerr=std_lengths, capsize=3, fmt=\"none\", ecolor = \"black\",markersize = 5)\n",
    "plt.xscale('log')\n",
    "plt.xlabel(\"$\\gamma$\",fontsize=25)\n",
    "plt.ylabel(\"Correction Count\",fontsize=25)\n",
    "plt.yticks(fontsize=20)\n",
    "plt.xticks(fontsize=20)\n",
    "plt.ylim(6,18)\n",
    "plt.tight_layout()\n",
    "plt.savefig('../Data/ablation/gamma.jpg')\n",
    "plt.show()\n"
   ]
  }
 ],
 "metadata": {
  "kernelspec": {
   "display_name": "LDC",
   "language": "python",
   "name": "python3"
  },
  "language_info": {
   "codemirror_mode": {
    "name": "ipython",
    "version": 3
   },
   "file_extension": ".py",
   "mimetype": "text/x-python",
   "name": "python",
   "nbconvert_exporter": "python",
   "pygments_lexer": "ipython3",
   "version": "3.11.0"
  }
 },
 "nbformat": 4,
 "nbformat_minor": 2
}
