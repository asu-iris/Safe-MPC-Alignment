{
 "cells": [
  {
   "cell_type": "code",
   "execution_count": null,
   "metadata": {},
   "outputs": [],
   "source": [
    "from trajectory_plot_uav import plot_one_traj,plot_gate,draw_traj_set\n",
    "from matplotlib import pyplot as plt"
   ]
  },
  {
   "cell_type": "code",
   "execution_count": null,
   "metadata": {},
   "outputs": [],
   "source": [
    "import sys,os\n",
    "sys.path.append(os.path.abspath(os.path.dirname(os.getcwd())))\n",
    "sys.path.append(os.path.abspath(os.getcwd()))\n",
    "base_path_fail=os.path.join(os.path.abspath(os.path.dirname(os.getcwd())),'Data','user_study_uav','user_0','failure-2','trial_0')\n",
    "filenames_fail=['trajectory_5_target_2_cnum_25.npy','trajectory_6_target_0_cnum_25.npy','trajectory_7_target_1_cnum_25.npy']\n",
    "base_path_eff=os.path.join(os.path.abspath(os.path.dirname(os.getcwd())),'Data','user_study_uav','user_0','efficient','trial_0')\n",
    "filenames_eff=['trajectory_4_target_1_cnum_11.npy','trajectory_5_target_2_cnum_11.npy','trajectory_6_target_0_cnum_11.npy']\n",
    "base_path_in=os.path.join(os.path.abspath(os.path.dirname(os.getcwd())),'Data','user_study_uav','user_0','inefficient','trial_0')\n",
    "filenames_in=['trajectory_8_target_2_cnum_22.npy','trajectory_9_target_0_cnum_22.npy','trajectory_10_target_1_cnum_22.npy']\n",
    "trunc_flags=[False,False,False]"
   ]
  },
  {
   "cell_type": "code",
   "execution_count": null,
   "metadata": {},
   "outputs": [],
   "source": [
    "draw_traj_set(filenames_fail,base_path_fail,trunc_flags,title=\"Failure Trajectories\")"
   ]
  },
  {
   "cell_type": "code",
   "execution_count": null,
   "metadata": {},
   "outputs": [],
   "source": [
    "draw_traj_set(filenames_eff,base_path_eff,trunc_flags,title=\"Efficient Trajectories\")"
   ]
  },
  {
   "cell_type": "code",
   "execution_count": null,
   "metadata": {},
   "outputs": [],
   "source": [
    "draw_traj_set(filenames_in,base_path_in,trunc_flags,title=\"Inefficient Trajectories\")"
   ]
  },
  {
   "cell_type": "code",
   "execution_count": null,
   "metadata": {},
   "outputs": [],
   "source": [
    "fig = plt.figure(figsize=(8, 6))\n",
    "ax = fig.add_subplot(111, projection='3d')\n",
    "#fig.subplots_adjust(bottom=-0.11)\n",
    "ax.set_box_aspect([2,1,1])\n",
    "ax.set_title('test',fontsize=20, y=0.8)\n",
    "ax.set_xlim(0,20)\n",
    "ax.set_ylim(0,10)\n",
    "ax.set_zlim(0,10)\n",
    "ax.set_xlabel(\"x\",fontsize=20, labelpad=10)\n",
    "ax.set_ylabel(\"y\",fontsize=20)\n",
    "ax.set_zlabel(\"z\",fontsize=20)\n",
    "ax.tick_params(labelsize=12)\n",
    "ax.grid()\n",
    "ax.view_init(elev=5., azim=-140)\n",
    "\n",
    "plot_gate(ax)\n",
    "plot_one_traj()"
   ]
  }
 ],
 "metadata": {
  "kernelspec": {
   "display_name": "LDC",
   "language": "python",
   "name": "python3"
  },
  "language_info": {
   "codemirror_mode": {
    "name": "ipython",
    "version": 3
   },
   "file_extension": ".py",
   "mimetype": "text/x-python",
   "name": "python",
   "nbconvert_exporter": "python",
   "pygments_lexer": "ipython3",
   "version": "3.11.0"
  }
 },
 "nbformat": 4,
 "nbformat_minor": 2
}
