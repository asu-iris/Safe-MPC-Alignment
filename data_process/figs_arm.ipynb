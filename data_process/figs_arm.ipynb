{
 "cells": [
  {
   "cell_type": "code",
   "execution_count": null,
   "metadata": {},
   "outputs": [],
   "source": [
    "import cv2\n",
    "import os\n",
    "from matplotlib import pyplot as plt\n",
    "filepath=os.path.join(os.path.abspath(os.path.dirname(os.getcwd())),'Data','arm_figs')"
   ]
  },
  {
   "cell_type": "code",
   "execution_count": null,
   "metadata": {},
   "outputs": [],
   "source": [
    "img=cv2.imread(os.path.join(filepath,'corr_4_top.png'))\n",
    "plt.imshow(cv2.cvtColor(img, cv2.COLOR_BGR2RGB))"
   ]
  },
  {
   "cell_type": "code",
   "execution_count": null,
   "metadata": {},
   "outputs": [],
   "source": [
    "crop_img = img[400:1200, 600:1600]\n",
    "plt.imshow(cv2.cvtColor(crop_img, cv2.COLOR_BGR2RGB))"
   ]
  },
  {
   "cell_type": "code",
   "execution_count": null,
   "metadata": {},
   "outputs": [],
   "source": [
    "corr_idx=['4','8','17']\n",
    "target=['top','mid','low']\n",
    "\n",
    "for id in corr_idx:\n",
    "    for t in target:\n",
    "        label='corr_'+id+'_'+t\n",
    "        fname=label+'.png'\n",
    "        img=cv2.imread(os.path.join(filepath,fname))\n",
    "        crop_img = img[400:1200, 600:1600]\n",
    "        cv2.imwrite(os.path.join(filepath,label+'_crop.png'),crop_img)\n",
    "        "
   ]
  },
  {
   "cell_type": "code",
   "execution_count": null,
   "metadata": {},
   "outputs": [],
   "source": [
    "crop_4_list=[]\n",
    "crop_8_list=[]\n",
    "crop_17_list=[]\n",
    "list_dist={'4':crop_4_list,'8':crop_8_list,'17':crop_17_list}"
   ]
  },
  {
   "cell_type": "code",
   "execution_count": null,
   "metadata": {},
   "outputs": [],
   "source": [
    "for id in corr_idx:\n",
    "    for t in target:\n",
    "        label='corr_'+id+'_'+t\n",
    "        fname=label+'.png'\n",
    "        img_crop=cv2.imread(os.path.join(filepath,label+'_crop.png'))\n",
    "        img_crop_small=cv2.resize(img_crop,(0, 0),fx = 0.5, fy = 0.5)\n",
    "        img_crop_padding = cv2.copyMakeBorder(img_crop_small, 0, 0, 20, 20, cv2.BORDER_CONSTANT, None, value = (255,255,255)) \n",
    "  \n",
    "        list_dist[id].append(img_crop_padding)\n",
    "\n",
    "        "
   ]
  },
  {
   "cell_type": "code",
   "execution_count": null,
   "metadata": {},
   "outputs": [],
   "source": [
    "horizontal_concat_4 = cv2.hconcat(crop_4_list)\n",
    "horizontal_concat_8 = cv2.hconcat(crop_8_list)\n",
    "horizontal_concat_17 = cv2.hconcat(crop_17_list)\n",
    "plt.imshow(cv2.cvtColor(horizontal_concat_4, cv2.COLOR_BGR2RGB))\n"
   ]
  },
  {
   "cell_type": "code",
   "execution_count": null,
   "metadata": {},
   "outputs": [],
   "source": [
    "cv2.imwrite(os.path.join(filepath,'4_cat.png'),horizontal_concat_4)\n",
    "cv2.imwrite(os.path.join(filepath,'8_cat.png'),horizontal_concat_8)\n",
    "cv2.imwrite(os.path.join(filepath,'17_cat.png'),horizontal_concat_17)"
   ]
  }
 ],
 "metadata": {
  "kernelspec": {
   "display_name": "LDC",
   "language": "python",
   "name": "python3"
  },
  "language_info": {
   "codemirror_mode": {
    "name": "ipython",
    "version": 3
   },
   "file_extension": ".py",
   "mimetype": "text/x-python",
   "name": "python",
   "nbconvert_exporter": "python",
   "pygments_lexer": "ipython3",
   "version": "3.11.0"
  }
 },
 "nbformat": 4,
 "nbformat_minor": 2
}
