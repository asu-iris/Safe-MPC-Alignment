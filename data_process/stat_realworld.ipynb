{
 "cells": [
  {
   "cell_type": "code",
   "execution_count": 1,
   "metadata": {},
   "outputs": [],
   "source": [
    "import numpy as np\n",
    "import os\n",
    "from matplotlib import pyplot as plt\n",
    "import sys\n",
    "import os\n",
    "\n",
    "sys.path.append(os.path.abspath(os.path.dirname(os.getcwd())))\n",
    "sys.path.append(os.path.abspath(os.getcwd()))"
   ]
  },
  {
   "cell_type": "code",
   "execution_count": 24,
   "metadata": {},
   "outputs": [],
   "source": [
    "filepath_real=os.path.join(os.path.abspath(os.path.dirname(os.getcwd())),'Data','realworld_collected')\n",
    "user_ids=list(np.arange(1,14))+ [15]\n",
    "trial_ids=np.arange(0,5)"
   ]
  },
  {
   "cell_type": "code",
   "execution_count": 25,
   "metadata": {},
   "outputs": [],
   "source": [
    "def read_result(user_id,trial_id,filepath):\n",
    "    txt_name='result.txt'\n",
    "    txt_full_path=os.path.join(filepath,'user_'+str(user_id),'trial_'+str(trial_id),txt_name)\n",
    "    with open(txt_full_path) as curr_file:\n",
    "        line=curr_file.readline()\n",
    "        num_str,bool_str=line.split(' ')\n",
    "        result=False\n",
    "        if bool_str=='True':\n",
    "            result=True\n",
    "        number=float(num_str)\n",
    "    \n",
    "    return result,number\n",
    "\n",
    "def read_corrections(user_id,trial_id,filepath):\n",
    "    txt_name='log_user_'+str(user_id)+'_trial_'+str(trial_id)+'.txt'\n",
    "    txt_full_path=os.path.join(filepath,'user_'+str(user_id),'trial_'+str(trial_id),txt_name)\n",
    "    with open(txt_full_path) as curr_file:\n",
    "        lines=curr_file.readlines()\n",
    "\n",
    "    return len(lines)"
   ]
  },
  {
   "cell_type": "code",
   "execution_count": 26,
   "metadata": {},
   "outputs": [
    {
     "data": {
      "text/plain": [
       "(True, 62.0)"
      ]
     },
     "execution_count": 26,
     "metadata": {},
     "output_type": "execute_result"
    }
   ],
   "source": [
    "read_result(2,1,filepath=filepath_real)"
   ]
  },
  {
   "cell_type": "code",
   "execution_count": 27,
   "metadata": {},
   "outputs": [
    {
     "data": {
      "text/plain": [
       "9"
      ]
     },
     "execution_count": 27,
     "metadata": {},
     "output_type": "execute_result"
    }
   ],
   "source": [
    "read_corrections(1,1,filepath=filepath_real)"
   ]
  },
  {
   "cell_type": "code",
   "execution_count": 39,
   "metadata": {},
   "outputs": [
    {
     "data": {
      "text/plain": [
       "0.8285714285714286"
      ]
     },
     "execution_count": 39,
     "metadata": {},
     "output_type": "execute_result"
    }
   ],
   "source": [
    "total_cnt=0\n",
    "succ_cnt=0\n",
    "succ_nums_real=[]\n",
    "succ_rates_real=[]\n",
    "for u_id in user_ids:\n",
    "    user_succ_num=0\n",
    "    for t_id in trial_ids:\n",
    "        res,water=read_result(user_id=u_id,trial_id=t_id,filepath=filepath_real)\n",
    "        num=read_corrections(user_id=u_id,trial_id=t_id,filepath=filepath_real)\n",
    "        total_cnt+=1\n",
    "        #print(res)\n",
    "        if water>=50.0:\n",
    "            succ_cnt+=1\n",
    "            succ_nums_real.append(num)\n",
    "            user_succ_num+=1\n",
    "\n",
    "    succ_rates_real.append(user_succ_num/5)\n",
    "\n",
    "succ_cnt/total_cnt\n"
   ]
  },
  {
   "cell_type": "code",
   "execution_count": 40,
   "metadata": {},
   "outputs": [
    {
     "data": {
      "text/plain": [
       "0.8285714285714286"
      ]
     },
     "execution_count": 40,
     "metadata": {},
     "output_type": "execute_result"
    }
   ],
   "source": [
    "np.array(succ_rates_real).mean()"
   ]
  },
  {
   "cell_type": "code",
   "execution_count": 41,
   "metadata": {},
   "outputs": [
    {
     "data": {
      "text/plain": [
       "0.16659862556700858"
      ]
     },
     "execution_count": 41,
     "metadata": {},
     "output_type": "execute_result"
    }
   ],
   "source": [
    "np.array(succ_rates_real).std()"
   ]
  },
  {
   "cell_type": "code",
   "execution_count": 42,
   "metadata": {},
   "outputs": [
    {
     "data": {
      "text/plain": [
       "6.931034482758621"
      ]
     },
     "execution_count": 42,
     "metadata": {},
     "output_type": "execute_result"
    }
   ],
   "source": [
    "np.array(succ_nums_real).mean()"
   ]
  },
  {
   "cell_type": "code",
   "execution_count": 44,
   "metadata": {},
   "outputs": [
    {
     "data": {
      "text/plain": [
       "3.3418045350581287"
      ]
     },
     "execution_count": 44,
     "metadata": {},
     "output_type": "execute_result"
    }
   ],
   "source": [
    "np.array(succ_nums_real).std()"
   ]
  },
  {
   "cell_type": "code",
   "execution_count": 43,
   "metadata": {},
   "outputs": [
    {
     "data": {
      "text/plain": [
       "[0.8, 1.0, 0.8, 0.8, 1.0, 0.8, 0.8, 0.4, 1.0, 0.6, 0.8, 0.8, 1.0, 1.0]"
      ]
     },
     "execution_count": 43,
     "metadata": {},
     "output_type": "execute_result"
    }
   ],
   "source": [
    "succ_rates_real"
   ]
  }
 ],
 "metadata": {
  "kernelspec": {
   "display_name": "LDC",
   "language": "python",
   "name": "python3"
  },
  "language_info": {
   "codemirror_mode": {
    "name": "ipython",
    "version": 3
   },
   "file_extension": ".py",
   "mimetype": "text/x-python",
   "name": "python",
   "nbconvert_exporter": "python",
   "pygments_lexer": "ipython3",
   "version": "3.11.8"
  }
 },
 "nbformat": 4,
 "nbformat_minor": 2
}
