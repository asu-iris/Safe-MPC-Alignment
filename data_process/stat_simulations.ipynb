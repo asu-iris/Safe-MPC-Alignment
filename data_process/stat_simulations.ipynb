{
 "cells": [
  {
   "cell_type": "code",
   "execution_count": null,
   "metadata": {},
   "outputs": [],
   "source": [
    "import numpy as np\n",
    "import os\n",
    "from matplotlib import pyplot as plt\n",
    "import sys\n",
    "import os\n",
    "\n",
    "sys.path.append(os.path.abspath(os.path.dirname(os.getcwd())))\n",
    "sys.path.append(os.path.abspath(os.getcwd()))"
   ]
  },
  {
   "cell_type": "code",
   "execution_count": null,
   "metadata": {},
   "outputs": [],
   "source": [
    "filepath_uav=os.path.join(os.path.abspath(os.path.dirname(os.getcwd())),'Data','uav_collected')\n",
    "user_ids=np.arange(1,16)\n",
    "trial_ids=np.arange(0,10)"
   ]
  },
  {
   "cell_type": "code",
   "execution_count": null,
   "metadata": {},
   "outputs": [],
   "source": [
    "def read_result(user_id,trial_id,filepath):\n",
    "    txt_name='log_user_'+str(user_id)+'_trial_'+str(trial_id)+'.txt'\n",
    "    txt_full_path=os.path.join(filepath,'user_'+str(user_id),'trial_'+str(trial_id),txt_name)\n",
    "    with open(txt_full_path) as curr_file:\n",
    "        lines=curr_file.readlines()\n",
    "        result_str=lines[-1].split(' ')[-1]\n",
    "        bool_str,num_str=result_str.split('_')\n",
    "        result=False\n",
    "        if bool_str=='True':\n",
    "            result=True\n",
    "        number=int(num_str)\n",
    "    \n",
    "    return result,number"
   ]
  },
  {
   "cell_type": "code",
   "execution_count": null,
   "metadata": {},
   "outputs": [],
   "source": [
    "read_result(2,1,filepath=filepath_uav)"
   ]
  },
  {
   "cell_type": "code",
   "execution_count": null,
   "metadata": {},
   "outputs": [],
   "source": [
    "total_cnt=0\n",
    "succ_cnt=0\n",
    "succ_weights_uav=[]\n",
    "succ_nums_uav=[]\n",
    "succ_rates_uav=[]\n",
    "for u_id in user_ids:\n",
    "    user_succ_num=0\n",
    "    for t_id in trial_ids:\n",
    "        res,num=read_result(user_id=u_id,trial_id=t_id,filepath=filepath_uav)\n",
    "        total_cnt+=1\n",
    "        #print(res)\n",
    "        if res==True:\n",
    "            succ_cnt+=1\n",
    "            succ_nums_uav.append(num)\n",
    "            npy_full_path=os.path.join(filepath_uav,'user_'+str(u_id),'trial_'+str(t_id),'weights.npy')\n",
    "            weights=np.load(npy_full_path)\n",
    "            succ_weights_uav.append(weights)\n",
    "            user_succ_num+=1\n",
    "\n",
    "    succ_rates_uav.append(user_succ_num/10)\n",
    "\n",
    "succ_cnt/total_cnt\n"
   ]
  },
  {
   "cell_type": "code",
   "execution_count": null,
   "metadata": {},
   "outputs": [],
   "source": [
    "np.array(succ_rates_uav).mean()"
   ]
  },
  {
   "cell_type": "code",
   "execution_count": null,
   "metadata": {},
   "outputs": [],
   "source": [
    "np.array(succ_rates_uav).std()"
   ]
  },
  {
   "cell_type": "code",
   "execution_count": null,
   "metadata": {},
   "outputs": [],
   "source": [
    "arr_weights=np.array(succ_weights_uav)\n",
    "arr_weights.mean(axis=0)"
   ]
  },
  {
   "cell_type": "code",
   "execution_count": null,
   "metadata": {},
   "outputs": [],
   "source": [
    "np.array(succ_nums_uav).mean()"
   ]
  },
  {
   "cell_type": "code",
   "execution_count": null,
   "metadata": {},
   "outputs": [],
   "source": [
    "np.array(succ_nums_uav).std()"
   ]
  },
  {
   "cell_type": "code",
   "execution_count": null,
   "metadata": {},
   "outputs": [],
   "source": [
    "np.quantile(succ_nums_uav,0.95)"
   ]
  },
  {
   "cell_type": "code",
   "execution_count": null,
   "metadata": {},
   "outputs": [],
   "source": [
    "plt.figure()\n",
    "plt.hist(succ_nums_uav)\n",
    "plt.show()"
   ]
  },
  {
   "cell_type": "code",
   "execution_count": null,
   "metadata": {},
   "outputs": [],
   "source": [
    "filepath_arm=os.path.join(os.path.abspath(os.path.dirname(os.getcwd())),'Data','arm_collected')\n",
    "user_ids=np.arange(1,16)\n",
    "trial_ids=np.arange(0,10)"
   ]
  },
  {
   "cell_type": "code",
   "execution_count": null,
   "metadata": {},
   "outputs": [],
   "source": [
    "total_cnt=0\n",
    "succ_cnt=0\n",
    "succ_weights_arm=[]\n",
    "succ_nums_arm=[]\n",
    "succ_rates_arm=[]\n",
    "for u_id in user_ids:\n",
    "    user_succ_num=0\n",
    "    for t_id in trial_ids:\n",
    "        res,num=read_result(user_id=u_id,trial_id=t_id,filepath=filepath_arm)\n",
    "        total_cnt+=1\n",
    "        #print(res)\n",
    "        if res==True:\n",
    "            succ_cnt+=1\n",
    "            succ_nums_arm.append(num)\n",
    "            npy_full_path=os.path.join(filepath_arm,'user_'+str(u_id),'trial_'+str(t_id),'weights.npy')\n",
    "            weights=np.load(npy_full_path)\n",
    "            succ_weights_arm.append(weights)\n",
    "            user_succ_num+=1\n",
    "\n",
    "    succ_rates_arm.append(user_succ_num/10)\n",
    "\n",
    "succ_cnt/total_cnt\n"
   ]
  },
  {
   "cell_type": "code",
   "execution_count": null,
   "metadata": {},
   "outputs": [],
   "source": [
    "np.array(succ_rates_arm).mean()"
   ]
  },
  {
   "cell_type": "code",
   "execution_count": null,
   "metadata": {},
   "outputs": [],
   "source": [
    "np.array(succ_rates_arm).std()"
   ]
  },
  {
   "cell_type": "code",
   "execution_count": null,
   "metadata": {},
   "outputs": [],
   "source": [
    "arr_weights=np.array(succ_weights_arm)\n",
    "arr_weights.mean(axis=0)"
   ]
  },
  {
   "cell_type": "code",
   "execution_count": null,
   "metadata": {},
   "outputs": [],
   "source": [
    "np.array(succ_nums_arm).mean()"
   ]
  },
  {
   "cell_type": "code",
   "execution_count": null,
   "metadata": {},
   "outputs": [],
   "source": [
    "np.array(succ_nums_arm).std()"
   ]
  },
  {
   "cell_type": "code",
   "execution_count": null,
   "metadata": {},
   "outputs": [],
   "source": [
    "np.quantile(succ_nums_arm,0.95)"
   ]
  },
  {
   "cell_type": "code",
   "execution_count": null,
   "metadata": {},
   "outputs": [],
   "source": [
    "plt.figure()\n",
    "plt.hist(succ_nums_arm)\n",
    "plt.show()"
   ]
  },
  {
   "cell_type": "code",
   "execution_count": null,
   "metadata": {},
   "outputs": [],
   "source": [
    "species = (\"Success Rate\", \"Correction Number\")\n",
    "penguin_means = {\n",
    "    'UAV Game': (0.89333, 15.664),\n",
    "    'Arm Game': (0.89333, 16.485),\n",
    "}\n",
    "\n",
    "x = np.arange(len(species))  # the label locations\n",
    "width = 0.3  # the width of the bars\n",
    "multiplier =0\n",
    "\n",
    "fig, ax = plt.subplots(layout='constrained')\n",
    "\n",
    "for attribute, measurement in penguin_means.items():\n",
    "    offset = width * multiplier\n",
    "    rects = ax.bar(x - width/2 + offset, measurement, width, label=attribute)\n",
    "    ax.bar_label(rects, padding=3)\n",
    "    multiplier += 1\n",
    "\n",
    "# Add some text for labels, title and custom x-axis tick labels, etc.\n",
    "ax.set_ylabel('Length (mm)')\n",
    "ax.set_title('Test')\n",
    "ax.set_xlim(-1,2)\n",
    "ax.set_xticks(x  , species)\n",
    "ax.legend(loc='upper left', ncols=2)\n",
    "ax.set_ylim(0, 25)\n",
    "\n",
    "plt.show()\n"
   ]
  },
  {
   "cell_type": "code",
   "execution_count": null,
   "metadata": {},
   "outputs": [],
   "source": [
    "\n",
    "labels = ['UAV Game', 'ARM Game']\n",
    "blue_data = [0.89333, 0.89333]\n",
    "orange_data = [15.664, 16.485]\n",
    "blue_errors = [0.077, 0.112]\n",
    "orange_errors = [10.61, 6.17]\n",
    "\n",
    "x = np.arange(len(labels))  # the label locations\n",
    "width = 0.25  # the width of the bars\n",
    "\n",
    "fig, ax1 = plt.subplots()\n",
    "\n",
    "# Plot blue bars on the primary y-axis\n",
    "rects1 = ax1.bar(x - width/2, blue_data, width, label='Success Rate', color='#1f77b4', yerr=blue_errors, capsize=8)\n",
    "ax1.set_ylabel('Success Rate',fontsize=20)\n",
    "ax1.set_ylim(0, 1.3)\n",
    "ax1.set_xlim(-0.5, 1.5)\n",
    "ax1.set_yticks(np.arange(0, 1.2, 0.5))\n",
    "ax1.legend(loc='upper left',fontsize=13)\n",
    "ax1.tick_params(labelsize=20)\n",
    "# Create a secondary y-axis\n",
    "ax2 = ax1.twinx()\n",
    "\n",
    "#ax2.set_axisbelow(True)\n",
    "#ax1.yaxis.grid()\n",
    "ax2.yaxis.grid()\n",
    "\n",
    "# Plot orange bars on the secondary y-axis\n",
    "rects2 = ax2.bar(x + width/2, orange_data, width, label='Corrections', color='#ff7f0e', yerr=orange_errors, capsize=8)\n",
    "ax2.set_ylabel('Number',fontsize=20)\n",
    "ax2.set_ylim(5, 30)\n",
    "ax2.set_yticks(np.arange(0, 30, 5))\n",
    "ax2.legend(loc='upper right',fontsize=13)\n",
    "ax2.tick_params(labelsize=20)\n",
    "\n",
    "# Add a title and custom x-axis tick labels\n",
    "ax1.set_title('Simulation User Study Result',fontsize=20)\n",
    "ax1.set_xticks(x)\n",
    "ax1.set_xticklabels(labels)\n",
    "\n",
    "# # Function to add labels above the bars\n",
    "# def autolabel(rects, ax):\n",
    "#     for rect in rects:\n",
    "#         height = rect.get_height()\n",
    "#         ax.annotate(f'{height:.3f}',\n",
    "#                     xy=(rect.get_x() + rect.get_width() / 2, height),\n",
    "#                     xytext=(0, 3),  # 3 points vertical offset\n",
    "#                     textcoords=\"offset points\",\n",
    "#                     ha='center', va='bottom')\n",
    "\n",
    "# autolabel(rects1, ax1)\n",
    "# autolabel(rects2, ax2)\n",
    "\n",
    "fig.tight_layout()\n",
    "\n",
    "\n",
    "# Display the plot\n",
    "plt.show()"
   ]
  },
  {
   "cell_type": "code",
   "execution_count": null,
   "metadata": {},
   "outputs": [],
   "source": [
    "# Data\n",
    "# Data\n",
    "labels = ['Success Rate', 'Correction Number']\n",
    "success_rate = [0.89333, 0.89333]\n",
    "number_of_corrections = [15.664, 16.485]\n",
    "success_rate_errors = [0.1, 0.2]\n",
    "corrections_errors = [1.5, 1.7]\n",
    "\n",
    "x = np.arange(len(labels))  # the label locations\n",
    "width = 0.3  # the width of the bars\n",
    "\n",
    "fig, ax1 = plt.subplots()\n",
    "\n",
    "# Plot success rate bars on the primary y-axis\n",
    "rects1 = ax1.bar(0 - width/2, success_rate[0], width, label='Success Rate UAV', color='#1f77b4', yerr=success_rate_errors[0], capsize=5)\n",
    "rects3 = ax1.bar(0 + width/2, success_rate[1], width, label='Success Rate Arm', color='#ff7f0e', yerr=success_rate_errors[1], capsize=5)\n",
    "ax1.set_ylabel('Success Rate')\n",
    "ax1.set_ylim(0, 1.5)\n",
    "ax1.set_yticks(np.arange(0, 1.6, 0.5))\n",
    "ax1.legend(loc='upper left')\n",
    "\n",
    "# Create a secondary y-axis\n",
    "ax2 = ax1.twinx()\n",
    "\n",
    "# Plot number of corrections bars on the secondary y-axis\n",
    "rects2 = ax2.bar(1 - width/2, number_of_corrections[0], width, label='Corrections UAV', color='#1f77b4', yerr=corrections_errors[0], capsize=5, alpha=0.5)\n",
    "rects4 = ax2.bar(1 + width/2, number_of_corrections[1], width, label='Corrections Arm', color='#ff7f0e', yerr=corrections_errors[1], capsize=5, alpha=0.5)\n",
    "ax2.set_ylabel('Number of Corrections')\n",
    "ax2.set_ylim(0, 20)\n",
    "ax2.set_yticks(np.arange(0, 21, 5))\n",
    "ax2.legend(loc='upper right')\n",
    "\n",
    "# Add a title and custom x-axis tick labels\n",
    "ax1.set_title('Success Rate and Number of Corrections')\n",
    "ax1.set_xticks(x)\n",
    "ax1.set_xticklabels(labels)\n",
    "\n",
    "# Function to add labels above the bars\n",
    "def autolabel(rects, ax):\n",
    "    for rect in rects:\n",
    "        height = rect.get_height()\n",
    "        ax.annotate(f'{height:.3f}',\n",
    "                    xy=(rect.get_x() + rect.get_width() / 2, height),\n",
    "                    xytext=(0, 3),  # 3 points vertical offset\n",
    "                    textcoords=\"offset points\",\n",
    "                    ha='center', va='bottom')\n",
    "\n",
    "autolabel(rects1, ax1)\n",
    "autolabel(rects3, ax1)\n",
    "autolabel(rects2, ax2)\n",
    "#autolabel(rects4, ax2)\n",
    "\n",
    "fig.tight_layout()\n",
    "\n",
    "\n",
    "# Display the plot\n",
    "plt.show()"
   ]
  }
 ],
 "metadata": {
  "kernelspec": {
   "display_name": "LDC",
   "language": "python",
   "name": "python3"
  },
  "language_info": {
   "codemirror_mode": {
    "name": "ipython",
    "version": 3
   },
   "file_extension": ".py",
   "mimetype": "text/x-python",
   "name": "python",
   "nbconvert_exporter": "python",
   "pygments_lexer": "ipython3",
   "version": "3.11.0"
  }
 },
 "nbformat": 4,
 "nbformat_minor": 2
}
