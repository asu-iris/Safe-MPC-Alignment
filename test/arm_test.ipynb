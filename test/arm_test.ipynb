{
 "cells": [
  {
   "cell_type": "code",
   "execution_count": 45,
   "metadata": {},
   "outputs": [],
   "source": [
    "import sys\n",
    "import os\n",
    "import time\n",
    "sys.path.append(os.path.abspath(os.path.dirname(os.getcwd())))\n",
    "sys.path.append(os.path.abspath(os.getcwd()))\n",
    "\n",
    "import casadi as cd\n",
    "from Envs.robot_arm import EFFECTOR_env_mj, End_Effector_model\n",
    "from Solvers.OCsolver import  ocsolver_v4\n",
    "import numpy as np\n",
    "from matplotlib import pyplot as plt\n",
    "\n",
    "from utils.Visualize_mj import arm_visualizer_mj_v1\n",
    "from scipy.spatial.transform import Rotation as R\n",
    "import mujoco"
   ]
  },
  {
   "cell_type": "code",
   "execution_count": 46,
   "metadata": {},
   "outputs": [],
   "source": [
    "dt=0.1\n",
    "Horizon=10\n",
    "target_end_pos=[0.3,0.4,0.5]\n",
    "target_quat=[0,1,0,0]\n",
    "target_x=target_end_pos+target_quat\n",
    "\n",
    "arm_model=End_Effector_model(dt=dt)\n",
    "dyn_f = arm_model.get_dyn_f()\n",
    "\n",
    "step_cost_vec = np.array([1.0,0.5,0.4,0.3]) * 1e-1\n",
    "step_cost_f = arm_model.get_step_cost_param(step_cost_vec)\n",
    "term_cost_vec = np.array([1.0,0.5]) * 1e0\n",
    "term_cost_f = arm_model.get_terminal_cost_param(term_cost_vec)\n",
    "\n",
    "controller = ocsolver_v4('arm control')\n",
    "controller.set_state_param(7, None, None)\n",
    "controller.set_ctrl_param(6, 6*[-1e10], 6*[1e10])\n",
    "controller.set_dyn(dyn_f)\n",
    "controller.set_step_cost(step_cost_f)\n",
    "controller.set_term_cost(term_cost_f)\n",
    "controller.construct_prob(horizon=Horizon)"
   ]
  },
  {
   "cell_type": "code",
   "execution_count": 47,
   "metadata": {},
   "outputs": [],
   "source": [
    "test_p=np.array([0.3,0.2,0.4]).reshape(-1,1)\n",
    "test_quat=np.array([0.0,0.707,0.707,0]).reshape(-1,1)\n",
    "test_quat/=np.linalg.norm(test_quat)\n",
    "test_x=np.concatenate([test_p,test_quat])\n",
    "\n",
    "u=controller.control(test_x,target_x=target_x)"
   ]
  },
  {
   "cell_type": "code",
   "execution_count": 48,
   "metadata": {},
   "outputs": [
    {
     "name": "stdout",
     "output_type": "stream",
     "text": [
      "[-1.57285262e-18  2.97626508e-01  1.48813254e-01  0.00000000e+00\n",
      "  0.00000000e+00 -1.40001919e+00]\n",
      "[0.3        0.36671162 0.48335581 0.         0.96609797 0.30308885\n",
      " 0.        ]\n"
     ]
    }
   ],
   "source": [
    "print(u)\n",
    "traj=controller.opt_traj\n",
    "print(traj[-7:])"
   ]
  }
 ],
 "metadata": {
  "kernelspec": {
   "display_name": "LDC",
   "language": "python",
   "name": "python3"
  },
  "language_info": {
   "codemirror_mode": {
    "name": "ipython",
    "version": 3
   },
   "file_extension": ".py",
   "mimetype": "text/x-python",
   "name": "python",
   "nbconvert_exporter": "python",
   "pygments_lexer": "ipython3",
   "version": "3.11.0"
  }
 },
 "nbformat": 4,
 "nbformat_minor": 2
}
