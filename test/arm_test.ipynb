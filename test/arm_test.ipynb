{
 "cells": [
  {
   "cell_type": "code",
   "execution_count": 16,
   "metadata": {},
   "outputs": [],
   "source": [
    "import sys\n",
    "import os\n",
    "import time\n",
    "sys.path.append(os.path.abspath(os.path.dirname(os.getcwd())))\n",
    "sys.path.append(os.path.abspath(os.getcwd()))\n",
    "\n",
    "import casadi as cd\n",
    "from Envs.robot_arm import EFFECTOR_env_mj, End_Effector_model\n",
    "from Solvers.OCsolver import  ocsolver_v4\n",
    "import numpy as np\n",
    "from matplotlib import pyplot as plt\n",
    "\n",
    "from utils.Visualize_mj import arm_visualizer_mj_v1\n",
    "from scipy.spatial.transform import Rotation as R\n",
    "import mujoco"
   ]
  },
  {
   "cell_type": "code",
   "execution_count": 17,
   "metadata": {},
   "outputs": [
    {
     "name": "stdout",
     "output_type": "stream",
     "text": [
      "path d:\\ASU_Work\\Research\\learn safe mpc\\experiment\\Safe Alignment\\mujoco_arm\\franka_emika_panda\\scene_pos.xml\n"
     ]
    }
   ],
   "source": [
    "filepath = os.path.join(os.path.abspath(os.path.dirname(os.getcwd())),\n",
    "                    'mujoco_arm', 'franka_emika_panda',\n",
    "                    'scene_pos.xml')\n",
    "print('path', filepath)"
   ]
  },
  {
   "cell_type": "code",
   "execution_count": 18,
   "metadata": {},
   "outputs": [],
   "source": [
    "model = mujoco.MjModel.from_xml_path(filepath)\n",
    "data=mujoco.MjData(model)\n",
    "ini_joint=np.array([-1.58753662,-0.31941105,-0.81050407,-2.28855788,-2.17938154,2.16288644,-0.20836714,0])\n",
    "data.qpos[0:8]=ini_joint\n",
    "data.ctrl[0:8]=ini_joint\n",
    "viewer=mujoco.viewer.launch(model, data)"
   ]
  }
 ],
 "metadata": {
  "kernelspec": {
   "display_name": "LDC",
   "language": "python",
   "name": "python3"
  },
  "language_info": {
   "codemirror_mode": {
    "name": "ipython",
    "version": 3
   },
   "file_extension": ".py",
   "mimetype": "text/x-python",
   "name": "python",
   "nbconvert_exporter": "python",
   "pygments_lexer": "ipython3",
   "version": "3.11.8"
  }
 },
 "nbformat": 4,
 "nbformat_minor": 2
}
