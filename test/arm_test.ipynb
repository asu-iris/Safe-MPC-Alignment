{
 "cells": [
  {
   "cell_type": "code",
   "execution_count": 16,
   "metadata": {},
   "outputs": [],
   "source": [
    "import sys\n",
    "import os\n",
    "import time\n",
    "sys.path.append(os.path.abspath(os.path.dirname(os.getcwd())))\n",
    "sys.path.append(os.path.abspath(os.getcwd()))\n",
    "\n",
    "import casadi as cd\n",
    "from Envs.robot_arm import EFFECTOR_env_mj, End_Effector_model\n",
    "from Solvers.OCsolver import  ocsolver_v4\n",
    "import numpy as np\n",
    "from matplotlib import pyplot as plt\n",
    "\n",
    "from utils.Visualize_mj import arm_visualizer_mj_v1\n",
    "from scipy.spatial.transform import Rotation as R\n",
    "import mujoco"
   ]
  },
  {
   "cell_type": "code",
   "execution_count": 17,
   "metadata": {},
   "outputs": [
    {
     "name": "stdout",
     "output_type": "stream",
     "text": [
      "path /home/zxxie/ASU_research/safe_alignment/code/Safety-Alignment-with-Human-Directional-Feedback/mujoco_arm/franka_emika_panda/scene_pos.xml\n"
     ]
    }
   ],
   "source": [
    "filepath = os.path.join(os.path.abspath(os.path.dirname(os.getcwd())),\n",
    "                    'mujoco_arm', 'franka_emika_panda',\n",
    "                    'scene_pos.xml')\n",
    "print('path', filepath)"
   ]
  },
  {
   "cell_type": "code",
   "execution_count": 18,
   "metadata": {},
   "outputs": [],
   "source": [
    "model = mujoco.MjModel.from_xml_path(filepath)\n",
    "data=mujoco.MjData(model)\n",
    "viewer=mujoco.viewer.launch(model, data)"
   ]
  }
 ],
 "metadata": {
  "kernelspec": {
   "display_name": "LDC",
   "language": "python",
   "name": "python3"
  },
  "language_info": {
   "codemirror_mode": {
    "name": "ipython",
    "version": 3
   },
   "file_extension": ".py",
   "mimetype": "text/x-python",
   "name": "python",
   "nbconvert_exporter": "python",
   "pygments_lexer": "ipython3",
   "version": "3.11.0"
  }
 },
 "nbformat": 4,
 "nbformat_minor": 2
}
