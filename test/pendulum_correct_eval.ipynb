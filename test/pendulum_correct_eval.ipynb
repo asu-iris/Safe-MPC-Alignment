{
 "cells": [
  {
   "cell_type": "code",
   "execution_count": 1,
   "metadata": {},
   "outputs": [],
   "source": [
    "import os\n",
    "import sys\n",
    "import casadi as cd\n",
    "sys.path.append(os.path.abspath(os.path.dirname(os.getcwd())))\n",
    "sys.path.append(os.path.abspath(os.getcwd()))\n",
    "from Envs.pendulum import Pendulum_Env,Pendulum_Model\n",
    "from Solvers.OCsolver import ocsolver_v2\n",
    "from Solvers.Cutter import cutter_v2\n",
    "from Solvers.MVEsolver import mvesolver\n",
    "from utils.Correction import Correction_Agent\n",
    "import numpy as np\n",
    "from matplotlib import pyplot as plt"
   ]
  },
  {
   "cell_type": "code",
   "execution_count": 2,
   "metadata": {},
   "outputs": [],
   "source": [
    "def pendulum_eval():\n",
    "    # get dynamics, set up step cost and terminal cost\n",
    "    #0.05\n",
    "    p_model=Pendulum_Model(10,1,1,0.4,0.02)\n",
    "\n",
    "    P_matrix=np.array([[0.5,0],\n",
    "                    [0,0.05]])\n",
    "    T_matrix=np.array([[1,0],\n",
    "                    [0,0.025]])\n",
    "\n",
    "\n",
    "\n",
    "    dyn_func=p_model.get_dyn_f()\n",
    "    step_func=p_model.get_step_cost(P_matrix,0.1)\n",
    "    terminal_func=p_model.get_terminal_cost(T_matrix)\n",
    "\n",
    "    # set up safety features\n",
    "    Horizon=40\n",
    "    Gamma=0.01\n",
    "    def generate_phi():\n",
    "            traj=cd.SX.sym('xi',3*Horizon + 2)\n",
    "            phi=cd.vertcat(cd.DM(-3),traj[3:5])\n",
    "            return cd.Function('phi',[traj],[phi])\n",
    "\n",
    "    phi_func=generate_phi() #traj: [x,u,x,u,..,x] phi:[phi0, phi1, phi2]\n",
    "\n",
    "    lbs=np.array([-6,-6]) #-6\n",
    "    ubs=np.array([2,2])\n",
    "\n",
    "    weights_init=(lbs+ubs)/2\n",
    "    weights_H=np.array([0.6,1])\n",
    "\n",
    "    #construct environment\n",
    "    p_env=Pendulum_Env(10,1,1,0.4,0.02)\n",
    "    p_env.set_init_state(np.array([0,0]))\n",
    "    #p_env.set_noise(False)\n",
    "    #construct correction agent\n",
    "    agent=Correction_Agent('dummy')\n",
    "    agent.set_state_dim(2)\n",
    "    agent.set_ctrl_dim(1)\n",
    "    agent.set_dyn(dyn_func)\n",
    "    agent.set_step_cost(step_func)\n",
    "    agent.set_term_cost(terminal_func)\n",
    "    agent.set_g(phi_func,weights=weights_H,gamma=Gamma)\n",
    "    #agent.set_threshold(-0.1) #-0.5\n",
    "    agent.set_threshold(-0.25) #-0.5\n",
    "    agent.set_p(0.5)\n",
    "    agent.construct_graph(horizon=Horizon)\n",
    "\n",
    "    #construct controller\n",
    "    controller=ocsolver_v2('pendulum control')\n",
    "    controller.set_state_param(2,[-2*np.pi,-100],[2*np.pi,100])\n",
    "    controller.set_ctrl_param(1,[-1e10],[1e10])\n",
    "    controller.set_dyn(dyn_func)\n",
    "    controller.set_step_cost(step_func)\n",
    "    controller.set_term_cost(terminal_func)\n",
    "    #controller.construct_graph(horizon=Horizon)\n",
    "    controller.set_g(phi_func,gamma=Gamma)\n",
    "    controller.construct_prob(horizon=Horizon)\n",
    "\n",
    "    #construct cutter\n",
    "    hb_calculator=cutter_v2('pendulum cut')\n",
    "    hb_calculator.from_controller(controller)\n",
    "    hb_calculator.construct_graph(horizon=Horizon)\n",
    "\n",
    "    #construct MVESolver\n",
    "    mve_calc=mvesolver('pendulum_mve',2)\n",
    "\n",
    "    mve_calc.set_init_constraint(lbs, ubs) #Theta_0\n",
    "\n",
    "    learned_theta=np.array(weights_init)\n",
    "\n",
    "    #learning logs\n",
    "    theta_log=[np.array(weights_init)]\n",
    "    error_log=[np.linalg.norm(weights_init-weights_H)]\n",
    "\n",
    "    d_0,C_0=mve_calc.solve()\n",
    "    v_0=np.log(np.linalg.det(C_0))\n",
    "    volume_log=[v_0]\n",
    "\n",
    "    EPISODE=0\n",
    "    corr_num=0\n",
    "    termination_flag=False\n",
    "    while not termination_flag:\n",
    "        #print('episode',EPISODE)\n",
    "        # random init\n",
    "        init_state=np.array([0,0])\n",
    "        init_state[0] += np.random.uniform(0,2*np.pi/3)\n",
    "        init_state[1] += np.random.uniform(0,3)\n",
    "        p_env.set_init_state(init_state)\n",
    "        for i in range(200):\n",
    "            x=p_env.get_curr_state()\n",
    "            if np.sqrt(np.sum((x-np.array([np.pi,0]))**2)) <=0.15:\n",
    "                print('reached desired position')\n",
    "                break\n",
    "            #print(i)\n",
    "            u=controller.control(x,weights=learned_theta)\n",
    "            agent_output=agent.act(controller.opt_traj)\n",
    "            if agent_output==None:\n",
    "                #print('emergency stop')\n",
    "                break\n",
    "            elif type(agent_output)==bool:\n",
    "                pass\n",
    "            else:\n",
    "                h,b,h_phi,b_phi=hb_calculator.calc_planes(learned_theta,x,controller.opt_traj,np.sign(agent_output))\n",
    "                #print('cutting plane calculated')\n",
    "                #print('h',h)\n",
    "                #print('b',b)\n",
    "                #print('diff', h.T @ learned_theta - b)\n",
    "                #print('h_phi',h_phi)\n",
    "                #print('b_phi',b_phi)\n",
    "\n",
    "                mve_calc.add_constraint(h,b[0])\n",
    "                mve_calc.add_constraint(h_phi,b_phi[0])\n",
    "                learned_theta,C=mve_calc.solve()\n",
    "                #difference=np.linalg.norm(learned_theta-weights_H)\n",
    "                difference=learned_theta-weights_H\n",
    "                vol=np.log(np.linalg.det(C))\n",
    "                #print('leanred safety param',learned_theta)\n",
    "                theta_log.append(learned_theta)\n",
    "                #print('difference', difference)\n",
    "                error_log.append(np.linalg.norm(difference))\n",
    "                #print('volume', vol)\n",
    "                volume_log.append(vol)\n",
    "                #mve_calc.draw(C,learned_theta,weights_H)\n",
    "                if np.max(np.abs(difference))<0.04:\n",
    "                    print(\"converged! Final Result: \",learned_theta)\n",
    "                    termination_flag=True\n",
    "                    break\n",
    "                \n",
    "                corr_num+=1\n",
    "            p_env.step(u)\n",
    "        #p_env.show_animation()\n",
    "        EPISODE+=1\n",
    "\n",
    "    return theta_log, error_log, volume_log\n"
   ]
  },
  {
   "cell_type": "code",
   "execution_count": 3,
   "metadata": {},
   "outputs": [
    {
     "name": "stdout",
     "output_type": "stream",
     "text": [
      "eval num 0\n",
      "converged! Final Result:  [0.61164086 0.96841115]\n",
      "eval num 1\n"
     ]
    },
    {
     "name": "stderr",
     "output_type": "stream",
     "text": [
      "CasADi - 2024-05-27 20:25:37 WARNING(\"solver:nlp_f failed: NaN detected for output f, at (row 0, col 0).\") [.../casadi/core/oracle_function.cpp:377]\n",
      "CasADi - 2024-05-27 20:25:37 WARNING(\"solver:nlp_f failed: NaN detected for output f, at (row 0, col 0).\") [.../casadi/core/oracle_function.cpp:377]\n",
      "CasADi - 2024-05-27 20:25:37 WARNING(\"solver:nlp_f failed: NaN detected for output f, at (row 0, col 0).\") [.../casadi/core/oracle_function.cpp:377]\n",
      "CasADi - 2024-05-27 20:25:37 WARNING(\"solver:nlp_f failed: NaN detected for output f, at (row 0, col 0).\") [.../casadi/core/oracle_function.cpp:377]\n",
      "CasADi - 2024-05-27 20:25:37 WARNING(\"solver:nlp_f failed: NaN detected for output f, at (row 0, col 0).\") [.../casadi/core/oracle_function.cpp:377]\n",
      "CasADi - 2024-05-27 20:25:37 WARNING(\"solver:nlp_f failed: NaN detected for output f, at (row 0, col 0).\") [.../casadi/core/oracle_function.cpp:377]\n",
      "CasADi - 2024-05-27 20:25:37 WARNING(\"solver:nlp_f failed: NaN detected for output f, at (row 0, col 0).\") [.../casadi/core/oracle_function.cpp:377]\n"
     ]
    },
    {
     "name": "stdout",
     "output_type": "stream",
     "text": [
      "converged! Final Result:  [0.58152424 1.00015685]\n",
      "eval num 2\n",
      "converged! Final Result:  [0.56700625 0.97142749]\n",
      "eval num 3\n"
     ]
    },
    {
     "name": "stderr",
     "output_type": "stream",
     "text": [
      "CasADi - 2024-05-27 20:25:39 WARNING(\"solver:nlp_f failed: NaN detected for output f, at (row 0, col 0).\") [.../casadi/core/oracle_function.cpp:377]\n",
      "CasADi - 2024-05-27 20:25:39 WARNING(\"solver:nlp_f failed: NaN detected for output f, at (row 0, col 0).\") [.../casadi/core/oracle_function.cpp:377]\n",
      "CasADi - 2024-05-27 20:25:40 WARNING(\"solver:nlp_f failed: NaN detected for output f, at (row 0, col 0).\") [.../casadi/core/oracle_function.cpp:377]\n",
      "CasADi - 2024-05-27 20:25:40 WARNING(\"solver:nlp_f failed: NaN detected for output f, at (row 0, col 0).\") [.../casadi/core/oracle_function.cpp:377]\n",
      "CasADi - 2024-05-27 20:25:41 WARNING(\"solver:nlp_f failed: NaN detected for output f, at (row 0, col 0).\") [.../casadi/core/oracle_function.cpp:377]\n",
      "CasADi - 2024-05-27 20:25:41 WARNING(\"solver:nlp_f failed: NaN detected for output f, at (row 0, col 0).\") [.../casadi/core/oracle_function.cpp:377]\n",
      "CasADi - 2024-05-27 20:25:41 WARNING(\"solver:nlp_f failed: NaN detected for output f, at (row 0, col 0).\") [.../casadi/core/oracle_function.cpp:377]\n",
      "CasADi - 2024-05-27 20:25:41 WARNING(\"solver:nlp_f failed: NaN detected for output f, at (row 0, col 0).\") [.../casadi/core/oracle_function.cpp:377]\n",
      "CasADi - 2024-05-27 20:25:41 WARNING(\"solver:nlp_f failed: NaN detected for output f, at (row 0, col 0).\") [.../casadi/core/oracle_function.cpp:377]\n",
      "CasADi - 2024-05-27 20:25:41 WARNING(\"solver:nlp_f failed: NaN detected for output f, at (row 0, col 0).\") [.../casadi/core/oracle_function.cpp:377]\n",
      "CasADi - 2024-05-27 20:25:42 WARNING(\"solver:nlp_f failed: NaN detected for output f, at (row 0, col 0).\") [.../casadi/core/oracle_function.cpp:377]\n",
      "CasADi - 2024-05-27 20:25:42 WARNING(\"solver:nlp_f failed: NaN detected for output f, at (row 0, col 0).\") [.../casadi/core/oracle_function.cpp:377]\n"
     ]
    },
    {
     "name": "stdout",
     "output_type": "stream",
     "text": [
      "converged! Final Result:  [0.56664494 1.00585408]\n",
      "eval num 4\n",
      "reached desired position\n"
     ]
    },
    {
     "name": "stderr",
     "output_type": "stream",
     "text": [
      "CasADi - 2024-05-27 20:25:44 WARNING(\"solver:nlp_f failed: NaN detected for output f, at (row 0, col 0).\") [.../casadi/core/oracle_function.cpp:377]\n",
      "CasADi - 2024-05-27 20:25:44 WARNING(\"solver:nlp_f failed: NaN detected for output f, at (row 0, col 0).\") [.../casadi/core/oracle_function.cpp:377]\n"
     ]
    },
    {
     "name": "stdout",
     "output_type": "stream",
     "text": [
      "converged! Final Result:  [0.57919421 0.97388932]\n",
      "eval num 5\n"
     ]
    },
    {
     "name": "stderr",
     "output_type": "stream",
     "text": [
      "CasADi - 2024-05-27 20:25:45 WARNING(\"solver:nlp_f failed: NaN detected for output f, at (row 0, col 0).\") [.../casadi/core/oracle_function.cpp:377]\n",
      "CasADi - 2024-05-27 20:25:45 WARNING(\"solver:nlp_f failed: NaN detected for output f, at (row 0, col 0).\") [.../casadi/core/oracle_function.cpp:377]\n"
     ]
    },
    {
     "name": "stdout",
     "output_type": "stream",
     "text": [
      "converged! Final Result:  [0.57699343 1.01495562]\n",
      "eval num 6\n",
      "reached desired position\n",
      "converged! Final Result:  [0.58689172 0.97505976]\n",
      "eval num 7\n",
      "converged! Final Result:  [0.61375806 0.98078624]\n",
      "eval num 8\n",
      "reached desired position\n",
      "converged! Final Result:  [0.56215267 0.98703594]\n",
      "eval num 9\n",
      "converged! Final Result:  [0.59764873 0.96628086]\n"
     ]
    }
   ],
   "source": [
    "eval_cnt=0\n",
    "while eval_cnt<10:\n",
    "    print('eval num',eval_cnt)\n",
    "    try:\n",
    "        pendulum_eval()\n",
    "        eval_cnt+=1\n",
    "    except:\n",
    "        print(\"error\")"
   ]
  }
 ],
 "metadata": {
  "kernelspec": {
   "display_name": "ASU_courses",
   "language": "python",
   "name": "python3"
  },
  "language_info": {
   "codemirror_mode": {
    "name": "ipython",
    "version": 3
   },
   "file_extension": ".py",
   "mimetype": "text/x-python",
   "name": "python",
   "nbconvert_exporter": "python",
   "pygments_lexer": "ipython3",
   "version": "3.11.8"
  }
 },
 "nbformat": 4,
 "nbformat_minor": 2
}
