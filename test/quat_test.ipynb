{
 "cells": [
  {
   "cell_type": "code",
   "execution_count": 7,
   "metadata": {},
   "outputs": [],
   "source": [
    "import sys\n",
    "import os\n",
    "import time\n",
    "sys.path.append(os.path.abspath(os.path.dirname(os.getcwd())))\n",
    "sys.path.append(os.path.abspath(os.getcwd()))\n",
    "\n",
    "import numpy as np\n",
    "import casadi as cd\n",
    "from utils.Casadi_Quat import Angle_Axis_Quat,Quat_mul\n"
   ]
  },
  {
   "cell_type": "code",
   "execution_count": 8,
   "metadata": {},
   "outputs": [],
   "source": [
    "org_quat=np.array([0.0,-0.707,0.0,0.707])"
   ]
  },
  {
   "cell_type": "code",
   "execution_count": 9,
   "metadata": {},
   "outputs": [
    {
     "data": {
      "text/plain": [
       "DM([0.499924, -0.499924, -0.499924, 0.499924])"
      ]
     },
     "execution_count": 9,
     "metadata": {},
     "output_type": "execute_result"
    }
   ],
   "source": [
    "theta=np.pi/2\n",
    "rot_quat=Angle_Axis_Quat(theta,np.array([1,0,0]))\n",
    "rot_quat.shape\n",
    "Quat_mul(rot_quat,org_quat)\n"
   ]
  }
 ],
 "metadata": {
  "kernelspec": {
   "display_name": "LDC",
   "language": "python",
   "name": "python3"
  },
  "language_info": {
   "codemirror_mode": {
    "name": "ipython",
    "version": 3
   },
   "file_extension": ".py",
   "mimetype": "text/x-python",
   "name": "python",
   "nbconvert_exporter": "python",
   "pygments_lexer": "ipython3",
   "version": "3.11.8"
  }
 },
 "nbformat": 4,
 "nbformat_minor": 2
}
