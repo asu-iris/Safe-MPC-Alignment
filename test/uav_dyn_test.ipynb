{
 "cells": [
  {
   "cell_type": "markdown",
   "metadata": {},
   "source": [
    "## construct a graph"
   ]
  },
  {
   "cell_type": "code",
   "execution_count": 36,
   "metadata": {},
   "outputs": [],
   "source": [
    "import os\n",
    "import sys\n",
    "import casadi as cd\n",
    "sys.path.append(os.path.abspath(os.path.dirname(os.getcwd())))\n",
    "sys.path.append(os.path.abspath(os.getcwd()))\n",
    "from Envs.UAV import UAV_env,UAV_model\n",
    "from Solvers.OCsolver import ocsolver,ocsolver_fast,ocsolver_inner_Barrier\n",
    "import numpy as np\n",
    "from matplotlib import pyplot as plt\n",
    "from Solvers.Cutter import cutter"
   ]
  },
  {
   "cell_type": "code",
   "execution_count": 37,
   "metadata": {},
   "outputs": [],
   "source": [
    "uav_params={'gravity':10,'m':1,'J_B':np.eye(3),'l_w':0.5,'dt':0.1,'c':1}\n",
    "uav_env=UAV_env(**uav_params)\n",
    "\n",
    "\n",
    "uav_model=UAV_model(**uav_params)\n",
    "dyn_f=uav_model.get_dyn_f()"
   ]
  },
  {
   "cell_type": "code",
   "execution_count": 38,
   "metadata": {},
   "outputs": [],
   "source": [
    "Horizon=25\n",
    "u_dim=4\n",
    "x_dim=13"
   ]
  },
  {
   "cell_type": "code",
   "execution_count": 39,
   "metadata": {},
   "outputs": [],
   "source": [
    "X_0=cd.SX.sym('X_0' , x_dim)\n",
    "X_k=X_0\n",
    "X_list=[] #x1:T\n",
    "X_xy_pos_list=[]\n",
    "U_list=[] #u0:T\n",
    "\n",
    "for k in range(Horizon): #at step k, construct u_k and x_{k+1}\n",
    "    U_k=cd.SX.sym('U_t_' + str(k), u_dim)\n",
    "    U_list.append(U_k)\n",
    "    X_k_1=dyn_f(X_k,U_k)\n",
    "    X_list.append(X_k_1)\n",
    "    X_xy_pos_list.append(X_k_1[0:3])\n",
    "    X_k=X_k_1\n",
    "\n",
    "Pos_jacobi=cd.jacobian(cd.vertcat(*X_xy_pos_list),cd.vertcat(*U_list))\n",
    "Pos_Jacobi_Func=cd.Function('position_jacobian',[X_0,cd.vertcat(*U_list)],[Pos_jacobi])\n"
   ]
  },
  {
   "cell_type": "code",
   "execution_count": 40,
   "metadata": {},
   "outputs": [],
   "source": [
    "init_r = np.zeros((3,1))\n",
    "init_v = np.zeros((3,1))\n",
    "init_q = np.reshape(np.array([1,0,0,0]),(-1,1))\n",
    "init_q = np.random.uniform(0,1,(4,1))\n",
    "init_q/=np.linalg.norm(init_q)\n",
    "#print(Quat_Rot(init_q))\n",
    "init_w_B = np.zeros((3,1))\n",
    "init_x=np.concatenate([init_r,init_v,init_q,init_w_B],axis=0)"
   ]
  },
  {
   "cell_type": "code",
   "execution_count": 43,
   "metadata": {},
   "outputs": [],
   "source": [
    "#ctrl_input_flat=np.random.uniform(0,4,(100,1))\n",
    "ctrl_input_flat=2.48*np.ones((100,1)) + np.random.normal(0,0.2,(100,1))\n",
    "p_jacobi=Pos_Jacobi_Func(init_x,ctrl_input_flat)"
   ]
  },
  {
   "cell_type": "code",
   "execution_count": 44,
   "metadata": {},
   "outputs": [],
   "source": [
    "arr_jac=np.array(p_jacobi)"
   ]
  }
 ],
 "metadata": {
  "kernelspec": {
   "display_name": "LDC",
   "language": "python",
   "name": "python3"
  },
  "language_info": {
   "codemirror_mode": {
    "name": "ipython",
    "version": 3
   },
   "file_extension": ".py",
   "mimetype": "text/x-python",
   "name": "python",
   "nbconvert_exporter": "python",
   "pygments_lexer": "ipython3",
   "version": "3.11.8"
  }
 },
 "nbformat": 4,
 "nbformat_minor": 2
}
